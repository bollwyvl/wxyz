{
 "cells": [
  {
   "cell_type": "markdown",
   "metadata": {},
   "source": [
    "# Gallery\n",
    "\n",
    "These are images generated during the [Robot Framework](https://robotframework.org) tests."
   ]
  },
  {
   "cell_type": "code",
   "execution_count": null,
   "metadata": {
    "hide_input": true
   },
   "outputs": [],
   "source": [
    "import json, pandas as pd, IPython.display as D\n",
    "from pathlib import Path\n",
    "HERE = Path.cwd()\n",
    "ATEST = HERE.parent / \"atest/output\"\n",
    "IMG = sorted(ATEST.rglob(\"*.png\"))\n",
    "CELLS = {str(i).split('/screens/')[1]: D.Image(i) for i in IMG if \"cell\" in str(i)}\n",
    "MROS = {\n",
    "    j.name: json.loads(j.read_text()) for j in (HERE.parent / \"build/nbwidgets\").glob(\"*.json\")\n",
    "}"
   ]
  },
  {
   "cell_type": "code",
   "execution_count": null,
   "metadata": {
    "hide_input": true
   },
   "outputs": [],
   "source": [
    "rows = []\n",
    "for path, data in MROS.items():\n",
    "    for mro in data[\"mro_counts\"]:\n",
    "        rows += [dict(path=path.replace(\".json\", \"\"), mro=mro[\"mro\"], count=mro[\"count\"])]\n",
    "df = pd.DataFrame(rows)\n",
    "df[\"fqn\"] = df[\"mro\"].apply(lambda x: x[0])\n",
    "df[\"cls\"] = df[\"fqn\"].apply(lambda x: x.rsplit(\".\")[-1])\n",
    "df[\"mod\"] = df[\"fqn\"].apply(lambda x: x.rsplit(\".\", 1)[0])\n",
    "df[\"wxyz\"] = df[\"mod\"].str.startswith(\"wxyz\")\n",
    "# df = df.set_index([\"path\", \"fqn\"])"
   ]
  },
  {
   "cell_type": "code",
   "execution_count": null,
   "metadata": {
    "hide_input": true
   },
   "outputs": [],
   "source": [
    "D.Markdown(pd.pivot_table(df[df[\"wxyz\"]], values=\"count\", index=['path'], columns=['fqn']).fillna(\"\").T.to_markdown())"
   ]
  }
 ],
 "metadata": {
  "kernelspec": {
   "display_name": "Python 3",
   "language": "python",
   "name": "python3"
  },
  "language_info": {
   "codemirror_mode": {
    "name": "ipython",
    "version": 3
   },
   "file_extension": ".py",
   "mimetype": "text/x-python",
   "name": "python",
   "nbconvert_exporter": "python",
   "pygments_lexer": "ipython3",
   "version": "3.8.6"
  }
 },
 "nbformat": 4,
 "nbformat_minor": 4
}
