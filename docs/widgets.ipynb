{
  "cells": [
    {
      "cell_type": "markdown",
      "metadata": {},
      "source": [
        "# Widgets"
      ]
    },
    {
      "cell_type": "markdown",
      "metadata": {
        "nbsphinx-toctree": {
          "maxdepth": 2
        }
      },
      "source": [
        "<!-- BEGIN MODULEGEN -->\n",
        "- [core](./widgets/core)\n",
        "- [datagrid](./widgets/datagrid)\n",
        "- [dvcs](./widgets/dvcs)\n",
        "- [html](./widgets/html)\n",
        "- [json_e](./widgets/json_e)\n",
        "- [json_schema_form](./widgets/json_schema_form)\n",
        "- [jsonld](./widgets/jsonld)\n",
        "- [lab](./widgets/lab)\n",
        "- [notebooks](./widgets/notebooks)\n",
        "- [svg](./widgets/svg)\n",
        "- [tpl_jinja](./widgets/tpl_jinja)\n",
        "- [yaml](./widgets/yaml)\n",
        "<!-- END MODULEGEN -->\n"
      ]
    }
  ],
  "metadata": {
    "kernelspec": {
      "display_name": "Python 3",
      "language": "python",
      "name": "python3"
    },
    "language_info": {
      "codemirror_mode": {
        "name": "ipython",
        "version": 3
      },
      "file_extension": ".py",
      "mimetype": "text/x-python",
      "name": "python",
      "nbconvert_exporter": "python",
      "pygments_lexer": "ipython3",
      "version": "3.8.6"
    }
  },
  "nbformat": 4,
  "nbformat_minor": 4
}