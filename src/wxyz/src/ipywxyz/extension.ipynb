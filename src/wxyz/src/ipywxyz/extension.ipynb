{
 "cells": [
  {
   "cell_type": "markdown",
   "metadata": {},
   "source": [
    "Customizing widget abbreviations with an `IPython.core.formatters.BaseFormatter`."
   ]
  },
  {
   "cell_type": "code",
   "execution_count": 1,
   "metadata": {},
   "outputs": [],
   "source": [
    "    __all__ = \"load_ipython_extension unload_ipython_extension\".split()\n",
    "    import ipywxyz, ipywidgets, inspect, IPython, functools"
   ]
  },
  {
   "cell_type": "code",
   "execution_count": 12,
   "metadata": {},
   "outputs": [],
   "source": [
    "    class WidgetAbbrev(IPython.core.formatters.BaseFormatter):\n",
    "        _return_type = object\n",
    "        def __call__(WidgetAbbrev, object):\n",
    "            value = super().__call__(object)\n",
    "            if isinstance(value, str): value = inspect.unwrap(ipywidgets.interactive.widget_from_abbrev)(object)\n",
    "            return value"
   ]
  },
  {
   "cell_type": "code",
   "execution_count": 13,
   "metadata": {},
   "outputs": [],
   "source": [
    "    def load_ipython_extension(shell):\n",
    "        unload_ipython_extension(shell)\n",
    "        ipywidgets.interactive.widget_from_abbrev = functools.wraps(ipywidgets.interactive.widget_from_abbrev)(WidgetAbbrev())\n",
    "        ipywidgets.interactive.widget_from_abbrev.for_type_by_name('pandas.core.frame','DataFrame', lambda x: ipywxyz.DataGrid(value=x, layout=dict(height=\"50vh\")))\n",
    "        ipywidgets.interactive.widget_from_abbrev.for_type(str, lambda x: ipywxyz.Editor(value=x, layout=dict(height=\"50vh\")))\n",
    "    def unload_ipython_extension(shell):\n",
    "        ipywidgets.interactive.widget_from_abbrev = inspect.unwrap(ipywidgets.interactive.widget_from_abbrev)"
   ]
  },
  {
   "cell_type": "code",
   "execution_count": 16,
   "metadata": {},
   "outputs": [],
   "source": [
    "    __test__ = {\n",
    "    \"test\": \"\"\">>> load_ipython_extension(get_ipython())\n",
    "    >>> import pandas\n",
    "    >>> ipywidgets.interactive.widget_from_abbrev(pandas.util.testing.makeTimeDataFrame())\n",
    "    DataGrid(layout=Layout(height='50vh'))\n",
    "\n",
    "    >>> ipywidgets.interactive.widget_from_abbrev((0, 10))\n",
    "    IntSlider(value=5, max=10)\n",
    "\n",
    "    >>> ipywidgets.interactive.widget_from_abbrev(\"Editor\")\n",
    "    Editor(value='Editor', layout=Layout(height='50vh'))\n",
    "    \n",
    "    \"\"\"}"
   ]
  },
  {
   "cell_type": "code",
   "execution_count": 17,
   "metadata": {},
   "outputs": [
    {
     "name": "stdout",
     "output_type": "stream",
     "text": [
      "TestResults(failed=0, attempted=5)\n"
     ]
    }
   ],
   "source": [
    "    if __name__ == '__main__':\n",
    "        print(__import__('doctest').testmod())"
   ]
  },
  {
   "cell_type": "code",
   "execution_count": null,
   "metadata": {},
   "outputs": [],
   "source": []
  }
 ],
 "metadata": {
  "kernelspec": {
   "display_name": "p6",
   "language": "python",
   "name": "p6"
  },
  "language_info": {
   "codemirror_mode": {
    "name": "ipython",
    "version": 3
   },
   "file_extension": ".py",
   "mimetype": "text/x-python",
   "name": "python",
   "nbconvert_exporter": "python",
   "pygments_lexer": "ipython3",
   "version": "3.6.8"
  }
 },
 "nbformat": 4,
 "nbformat_minor": 2
}
