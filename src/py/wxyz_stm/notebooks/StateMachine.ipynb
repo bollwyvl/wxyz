{
 "cells": [
  {
   "cell_type": "markdown",
   "metadata": {},
   "source": [
    "# StateMachine"
   ]
  },
  {
   "cell_type": "code",
   "execution_count": null,
   "metadata": {},
   "outputs": [],
   "source": [
    "from wxyz.stm.widget_stm import StateMachine, W"
   ]
  },
  {
   "cell_type": "code",
   "execution_count": null,
   "metadata": {},
   "outputs": [],
   "source": [
    "stm = StateMachine(\n",
    "    states=[\"magic\", \"more_magic\"],\n",
    "    transitions=[\n",
    "        [\"switch_left\", \"magic\", \"more_magic\"],\n",
    "        [\"switch_right\", \"more_magic\", \"magic\"]\n",
    "    ]\n",
    ")\n",
    "current = W.Label(description=\"$S$\")\n",
    "l, r = [W.Button(description=i) for i in \"👈👉\"]\n",
    "@l.on_click\n",
    "def switch_left(*_):\n",
    "    try:\n",
    "        stm.switch_left()\n",
    "        stm.error = \"\"\n",
    "    except Exception as err:\n",
    "        stm.error = str(err)\n",
    "\n",
    "@r.on_click\n",
    "def switch_right(*_):\n",
    "    try:\n",
    "        stm.switch_right()\n",
    "        stm.error = \"\"\n",
    "    except Exception as err:\n",
    "        stm.error = str(err)\n",
    "        \n",
    "l.on_click(lambda *x: stm.switch_left())\n",
    "r.on_click(lambda *x: stm.switch_right())\n",
    "err = W.Textarea()\n",
    "W.dlink((stm, \"state\"), (current, \"value\"))\n",
    "W.dlink((stm, \"error\"), (err, \"value\"))\n",
    "W.VBox([\n",
    "    W.HBox([l, current, r]),\n",
    "    err\n",
    "])\n"
   ]
  }
 ],
 "metadata": {
  "kernelspec": {
   "display_name": "Python 3",
   "language": "python",
   "name": "python3"
  },
  "language_info": {
   "codemirror_mode": {
    "name": "ipython",
    "version": 3
   },
   "file_extension": ".py",
   "mimetype": "text/x-python",
   "name": "python",
   "nbconvert_exporter": "python",
   "pygments_lexer": "ipython3",
   "version": "3.7.3"
  }
 },
 "nbformat": 4,
 "nbformat_minor": 2
}
