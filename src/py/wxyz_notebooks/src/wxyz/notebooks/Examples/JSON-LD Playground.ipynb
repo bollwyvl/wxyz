{
 "cells": [
  {
   "cell_type": "code",
   "execution_count": 1,
   "metadata": {},
   "outputs": [],
   "source": [
    "import ipywidgets as W\n",
    "from wxyz.jsonld.widget_jsonld import Expand, Compact, Flatten, Frame, Normalize\n",
    "from wxyz.lab.widget_dock import DockBox \n",
    "from wxyz.lab.widget_editor import Editor\n",
    "from wxyz.core.widget_json import JSON"
   ]
  },
  {
   "cell_type": "code",
   "execution_count": 2,
   "metadata": {},
   "outputs": [],
   "source": [
    "flex = lambda x=1: dict(layout=dict(flex=f\"{x}\"))"
   ]
  },
  {
   "cell_type": "code",
   "execution_count": 3,
   "metadata": {},
   "outputs": [],
   "source": [
    "context = JSON(\"\"\"{\n",
    "    \"@context\": {\n",
    "        \"@vocab\": \"http://schema.org/\" \n",
    "    }\n",
    "}\"\"\")\n",
    "document = JSON(\"\"\"{\n",
    "    \"@graph\": [{\n",
    "        \"@type\": \"Person\",\n",
    "        \"@id\": \"this-guy\",\n",
    "        \"name\": \"Jekyll\",\n",
    "        \"jobTitle\": \"Doctor\"\n",
    "    },{\n",
    "        \"@type\": \"Person\",\n",
    "        \"@id\": \"this-guy\",\n",
    "        \"name\": \"Hyde\",\n",
    "        \"jobTitle\": \"Mister\"\n",
    "    }]\n",
    "}\"\"\")"
   ]
  },
  {
   "cell_type": "code",
   "execution_count": 4,
   "metadata": {},
   "outputs": [
    {
     "data": {
      "text/plain": [
       "Link(source=(JSON(source='{\\n    \"@graph\": [{\\n        \"@type\": \"Person\",\\n        \"@id\": \"this-guy\",\\n       …"
      ]
     },
     "metadata": {},
     "output_type": "display_data"
    }
   ],
   "source": [
    "context_source = Editor(description=\"JSON-LD Context\", **flex())\n",
    "document_source = Editor(description=\"JSON Document\", **flex())\n",
    "W.jslink((context, \"source\"), (context_source, \"value\"))\n",
    "W.jslink((document, \"source\"), (document_source, \"value\"))"
   ]
  },
  {
   "cell_type": "code",
   "execution_count": 5,
   "metadata": {},
   "outputs": [
    {
     "data": {
      "text/plain": [
       "Link(source=(JSON(source='{\\n    \"@context\": {\\n        \"@vocab\": \"http://schema.org/\" \\n    }\\n}', value={'@c…"
      ]
     },
     "metadata": {},
     "output_type": "display_data"
    }
   ],
   "source": [
    "expand = Expand()\n",
    "expand_output = Editor(description=\"Expanded\")\n",
    "W.jslink((expand, \"value\"), (expand_output, \"value\"))\n",
    "W.jslink((document, \"value\"), (expand, \"source\"))\n",
    "W.jslink((context, \"value\"), (expand, \"expand_context\"))"
   ]
  },
  {
   "cell_type": "code",
   "execution_count": 6,
   "metadata": {},
   "outputs": [
    {
     "data": {
      "text/plain": [
       "Link(source=(JSON(source='{\\n    \"@context\": {\\n        \"@vocab\": \"http://schema.org/\" \\n    }\\n}', value={'@c…"
      ]
     },
     "metadata": {},
     "output_type": "display_data"
    }
   ],
   "source": [
    "compact = Compact()\n",
    "compact_output = Editor(description=\"Compacted\")\n",
    "W.jslink((compact, \"value\"), (compact_output, \"value\"))\n",
    "W.jslink((document, \"value\"), (compact, \"source\"))\n",
    "W.jslink((context, \"value\"), (compact, \"context\"))\n",
    "W.jslink((context, \"value\"), (compact, \"expand_context\"))"
   ]
  },
  {
   "cell_type": "code",
   "execution_count": 7,
   "metadata": {},
   "outputs": [
    {
     "data": {
      "text/plain": [
       "Link(source=(JSON(source='{\\n    \"@context\": {\\n        \"@vocab\": \"http://schema.org/\" \\n    }\\n}', value={'@c…"
      ]
     },
     "metadata": {},
     "output_type": "display_data"
    }
   ],
   "source": [
    "flatten = Flatten()\n",
    "flatten_output = Editor(description=\"Flattened\")\n",
    "W.jslink((flatten, \"value\"), (flatten_output, \"value\"))\n",
    "W.jslink((document, \"value\"), (flatten, \"source\"))\n",
    "W.jslink((context, \"value\"), (flatten, \"context\"))\n",
    "W.jslink((context, \"value\"), (flatten, \"expand_context\"))"
   ]
  },
  {
   "cell_type": "code",
   "execution_count": 8,
   "metadata": {},
   "outputs": [
    {
     "data": {
      "text/plain": [
       "Link(source=(Flatten(value={'@graph': []}), 'error'), target=(Editor(value='errors will appear here', descript…"
      ]
     },
     "metadata": {},
     "output_type": "display_data"
    }
   ],
   "source": [
    "error = Editor(\"errors will appear here\", description=\"errors be here\", **flex(1))\n",
    "W.jslink((expand, \"error\"), (error, \"value\"))\n",
    "W.jslink((compact, \"error\"), (error, \"value\"))\n",
    "W.jslink((flatten, \"error\"), (error, \"value\"))"
   ]
  },
  {
   "cell_type": "code",
   "execution_count": 9,
   "metadata": {},
   "outputs": [],
   "source": [
    "jsonld_playground = DockBox([\n",
    "    document_source, \n",
    "    context_source, \n",
    "    expand_output, \n",
    "    compact_output, \n",
    "    flatten_output, \n",
    "    error\n",
    "], layout=dict(height=\"60vh\"), dock_layout = {\n",
    "        'type': 'split-area',\n",
    "        'orientation': 'horizontal',\n",
    "        'children': [\n",
    "            {'type': 'split-area', 'orientation': 'vertical', 'children': [\n",
    "                {'type': 'tab-area', 'widgets': [0], 'currentIndex': 0},\n",
    "                {'type': 'tab-area', 'widgets': [1], 'currentIndex': 0},\n",
    "            ], 'sizes': [2, 1]},\n",
    "\n",
    "            {'type': 'split-area', 'orientation': 'vertical', 'children': [\n",
    "                {'type': 'tab-area', 'widgets': [2], 'currentIndex': 0},\n",
    "                {'type': 'tab-area', 'widgets': [3], 'currentIndex': 0},\n",
    "            ], 'sizes': [1, 1]},\n",
    "\n",
    "            {'type': 'split-area', 'orientation': 'vertical', 'children': [\n",
    "                {'type': 'tab-area', 'widgets': [4], 'currentIndex': 0},\n",
    "                {'type': 'tab-area', 'widgets': [5], 'currentIndex': 0}\n",
    "            ], 'sizes': [1, 1]},\n",
    "        ],\n",
    "        'sizes': [1, 1, 1]\n",
    "    })"
   ]
  },
  {
   "cell_type": "code",
   "execution_count": 10,
   "metadata": {},
   "outputs": [
    {
     "data": {
      "application/vnd.jupyter.widget-view+json": {
       "model_id": "eb64710dedca484aaead1e50c35a7a01",
       "version_major": 2,
       "version_minor": 0
      },
      "text/plain": [
       "DockBox(children=(Editor(value=None, description='JSON Document', layout=Layout(flex='1')), Editor(value=None,…"
      ]
     },
     "metadata": {},
     "output_type": "display_data"
    }
   ],
   "source": [
    "jsonld_playground"
   ]
  }
 ],
 "metadata": {
  "kernelspec": {
   "display_name": "Python 3",
   "language": "python",
   "name": "python3"
  },
  "language_info": {
   "codemirror_mode": {
    "name": "ipython",
    "version": 3
   },
   "file_extension": ".py",
   "mimetype": "text/x-python",
   "name": "python",
   "nbconvert_exporter": "python",
   "pygments_lexer": "ipython3",
   "version": "3.7.6"
  }
 },
 "nbformat": 4,
 "nbformat_minor": 4
}
