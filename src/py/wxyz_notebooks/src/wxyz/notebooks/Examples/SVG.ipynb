{
 "cells": [
  {
   "cell_type": "code",
   "execution_count": null,
   "metadata": {},
   "outputs": [],
   "source": [
    "from pathlib import Path\n",
    "import ipywidgets as W, traitlets as T\n",
    "from wxyz.svg import SVGBox\n",
    "from wxyz.html import Fullscreen\n",
    "from wxyz.notebooks import Examples"
   ]
  },
  {
   "cell_type": "code",
   "execution_count": null,
   "metadata": {},
   "outputs": [],
   "source": [
    "example = Path(Examples.__file__).parent / \"example.svg\""
   ]
  },
  {
   "cell_type": "code",
   "execution_count": null,
   "metadata": {},
   "outputs": [],
   "source": [
    "sliders = [W.FloatSlider(description=x, orientation='vertical') for x in \"xyz\"]\n",
    "svg = SVGBox(\n",
    "    sliders,\n",
    "    svg_file=str(example),\n",
    "    area_widgets=dict(x=0, y=1, z=2),\n",
    "    layout=dict(width=\"100vw\", height=\"100vh\", overflow=\"hidden\")\n",
    ")\n",
    "T.dlink(\n",
    "    (sliders[0], \"value\"), (svg, \"visible_areas\"),\n",
    "    lambda i: list(\"bxyz\"[0:int((i + 50) / 25)])\n",
    ")\n",
    "svg"
   ]
  }
 ],
 "metadata": {
  "kernelspec": {
   "display_name": "Python 3",
   "language": "python",
   "name": "python3"
  },
  "language_info": {
   "codemirror_mode": {
    "name": "ipython",
    "version": 3
   },
   "file_extension": ".py",
   "mimetype": "text/x-python",
   "name": "python",
   "nbconvert_exporter": "python",
   "pygments_lexer": "ipython3",
   "version": "3.8.6"
  }
 },
 "nbformat": 4,
 "nbformat_minor": 4
}
