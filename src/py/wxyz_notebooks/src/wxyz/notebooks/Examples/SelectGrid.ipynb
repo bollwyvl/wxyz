{
 "cells": [
  {
   "cell_type": "markdown",
   "metadata": {},
   "source": [
    "# SelectGrid\n",
    "\n",
    "Powered by [Phosphor DataGrid](https://github.com/phosphorjs/phosphor/blob/master/packages/datagrid/src/datagrid.ts)."
   ]
  },
  {
   "cell_type": "code",
   "execution_count": 1,
   "metadata": {},
   "outputs": [],
   "source": [
    "import numpy as np, pandas as pd, traitlets as T, ipywidgets as W\n",
    "from wxyz.datagrid.widget_selectgrid import SelectGrid\n",
    "from wxyz.lab.widget_dock import DockBox\n",
    "from wxyz.html.widget_color import AlphaColorPicker"
   ]
  },
  {
   "cell_type": "code",
   "execution_count": 2,
   "metadata": {},
   "outputs": [],
   "source": [
    "flex = dict(layout=dict(flex=\"1\"))"
   ]
  },
  {
   "cell_type": "code",
   "execution_count": 3,
   "metadata": {},
   "outputs": [],
   "source": [
    "def make_select_grid(GridClass=SelectGrid, df=None):\n",
    "    pg = DockBox(layout=dict(height=\"60vh\"))\n",
    "    dg = pg.dg = GridClass()\n",
    "    dg2 = pg.dg2 = GridClass()\n",
    "    dg3 = pg.dg3 = GridClass()\n",
    "    \n",
    "    rando = None\n",
    "    if df is not None:\n",
    "        dg.value = df\n",
    "    else:\n",
    "        with W.Output():\n",
    "            @W.interact\n",
    "            def rando(rows=(1, 1000), cols=(1, 1000)):\n",
    "                dg.value = np.random.rand(rows, cols)\n",
    "    x, y = [\n",
    "        [\n",
    "            W.jslink((w, \"value\"), (dg, f\"scroll_{v}\")),\n",
    "            W.jslink((pg.dg, f\"max_{v}\"), (w, \"max\")),\n",
    "            w,\n",
    "        ][-1]\n",
    "        for i, v in enumerate(\"xy\")\n",
    "        for w in [W.IntSlider(description=f\"${v}$\", layout=dict(flex=\"1\"))] \n",
    "    ]\n",
    "    \n",
    "    def gloc(g):\n",
    "        s = g.selection\n",
    "        return g.value.iloc[s[2]: s[3]+ 1, s[0]:s[1] + 1]\n",
    "    \n",
    "    def _slice(c):\n",
    "        s = dg.selection\n",
    "        dg2.value = gloc(dg)\n",
    "        dg.description = f\"{dg2.value.values.sum()}\"\n",
    "        \n",
    "    \n",
    "    def _slice2(c):\n",
    "        s = dg2.selection\n",
    "        dg3.value = gloc(dg2)\n",
    "        dg2.description = f\"{dg3.value.values.sum()}\"\n",
    "    \n",
    "    def _slice3(c):\n",
    "        s = dg3.selection\n",
    "        v = gloc(dg3)\n",
    "        dg3.description = f\"{v.values.sum()}\"\n",
    "    \n",
    "    dg.observe(_slice, [\"selection\", \"value\"])\n",
    "    dg2.observe(_slice2, [\"selection\", \"value\"])\n",
    "    dg3.observe(_slice3, [\"selection\", \"value\"])\n",
    "    \n",
    "    color = AlphaColorPicker(description=\"select color\")\n",
    "    [T.dlink((color, 'value'), (g, 'selection_color')) for g in [dg, dg2, dg3]]\n",
    "    \n",
    "    tabs = W.ToggleButton(description=\"tabs\")\n",
    "    T.link((tabs, \"value\"), (pg, \"hide_tabs\"))\n",
    "    \n",
    "    vp = W.Text(description=\"view\")\n",
    "    T.dlink((pg.dg, \"viewport\"), (vp, \"value\"), str)\n",
    "    \n",
    "    pg.children = [\n",
    "        W.VBox([*(rando.widget.children if rando else []), vp, x, y, color, tabs]), \n",
    "        dg, \n",
    "        dg2,\n",
    "        dg3\n",
    "    ]\n",
    "    pg.dock_layout ={\n",
    "     'type': 'split-area',\n",
    "     'orientation': 'horizontal',\n",
    "     'children': [{'type': 'tab-area', 'widgets': [1], 'currentIndex': 0},\n",
    "      {'type': 'tab-area', 'widgets': [2], 'currentIndex': 0},\n",
    "      {'type': 'split-area',\n",
    "       'orientation': 'vertical',\n",
    "       'children': [{'type': 'tab-area', 'widgets': [3], 'currentIndex': 0},\n",
    "        {'type': 'tab-area', 'widgets': [0], 'currentIndex': 0}],\n",
    "       'sizes': [1, 1]}],\n",
    "     'sizes': [4, 2, 2]\n",
    "    }\n",
    "    return pg"
   ]
  },
  {
   "cell_type": "code",
   "execution_count": 4,
   "metadata": {},
   "outputs": [
    {
     "data": {
      "application/vnd.jupyter.widget-view+json": {
       "model_id": "b112fa77b26048f2b722b39912e9c0ea",
       "version_major": 2,
       "version_minor": 0
      },
      "text/plain": [
       "DockBox(children=(VBox(children=(IntSlider(value=500, description='rows', max=1000, min=1), IntSlider(value=50…"
      ]
     },
     "metadata": {},
     "output_type": "display_data"
    },
    {
     "data": {
      "application/vnd.jupyter.widget-view+json": {
       "model_id": "4d09199427564bd1b6bb934bfdd722d3",
       "version_major": 2,
       "version_minor": 0
      },
      "text/plain": [
       "HBox(children=(IntSlider(value=0, description='$i_0$'), IntSlider(value=0, description='$j_0$')))"
      ]
     },
     "metadata": {},
     "output_type": "display_data"
    }
   ],
   "source": [
    "if __name__ == \"__main__\":\n",
    "    pg = make_select_grid()\n",
    "    display(pg)\n",
    "\n",
    "    pg.dg.viewport = (21, 30, 10, 18)\n",
    "\n",
    "    i_0 = W.IntSlider(description=\"$i_0$\")\n",
    "    T.dlink((i_0, \"value\"), (pg.dg, \"viewport\"), lambda vc: (vc, *pg.dg.viewport[1:]))\n",
    "\n",
    "    j_0 = W.IntSlider(description=\"$j_0$\")\n",
    "    T.dlink((j_0, \"value\"), (pg.dg, \"viewport\"), lambda vr: (*pg.dg.viewport[:2], vr, *pg.dg.viewport[3:]))\n",
    "    display(W.HBox([i_0, j_0]))"
   ]
  },
  {
   "cell_type": "code",
   "execution_count": null,
   "metadata": {},
   "outputs": [],
   "source": []
  }
 ],
 "metadata": {
  "kernelspec": {
   "display_name": "Python 3",
   "language": "python",
   "name": "python3"
  },
  "language_info": {
   "codemirror_mode": {
    "name": "ipython",
    "version": 3
   },
   "file_extension": ".py",
   "mimetype": "text/x-python",
   "name": "python",
   "nbconvert_exporter": "python",
   "pygments_lexer": "ipython3",
   "version": "3.8.6"
  }
 },
 "nbformat": 4,
 "nbformat_minor": 4
}
