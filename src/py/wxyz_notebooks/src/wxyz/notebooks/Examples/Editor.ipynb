{
 "cells": [
  {
   "cell_type": "markdown",
   "metadata": {},
   "source": [
    "# Editor"
   ]
  },
  {
   "cell_type": "markdown",
   "metadata": {},
   "source": [
    "[CodeMirror](https://github.com/codemirror/codemirror) is the editor that powers the Jupyter stack. `wxyz.lab.Editor` provides much of the configurability/observability of the underlying editor."
   ]
  },
  {
   "cell_type": "code",
   "execution_count": null,
   "metadata": {},
   "outputs": [],
   "source": [
    "from wxyz.lab import Editor, ModeInfo, DockPop"
   ]
  },
  {
   "cell_type": "code",
   "execution_count": null,
   "metadata": {},
   "outputs": [],
   "source": [
    "import ipywidgets as W, traitlets as T, IPython as I\n",
    "import pprint"
   ]
  },
  {
   "cell_type": "markdown",
   "metadata": {},
   "source": [
    "At its most basic, an `Editor` will only be large enough to contain its text."
   ]
  },
  {
   "cell_type": "code",
   "execution_count": null,
   "metadata": {},
   "outputs": [],
   "source": [
    "editor = Editor(value=\"hello world\", layout=dict(max_height=\"60vh\"))\n",
    "editor"
   ]
  },
  {
   "cell_type": "markdown",
   "metadata": {},
   "source": [
    "The _value_ trait pairs nicely with many of the `wxyz` renderers."
   ]
  },
  {
   "cell_type": "code",
   "execution_count": null,
   "metadata": {},
   "outputs": [],
   "source": [
    "if __name__ == \"__main__\":\n",
    "    I.display.display(DockPop([editor], mode=\"split-right\"))"
   ]
  },
  {
   "cell_type": "code",
   "execution_count": null,
   "metadata": {},
   "outputs": [],
   "source": [
    "from wxyz.lab import Markdown\n",
    "ev = (editor, \"value\")\n",
    "md = Markdown(); mds = (md, \"source\"); mdv = (md, \"value\")\n",
    "html = W.HTML(); htmlv = (html, \"value\")\n",
    "\n",
    "W.jslink(ev, mds)\n",
    "W.jslink(mdv, htmlv)"
   ]
  },
  {
   "cell_type": "markdown",
   "metadata": {},
   "source": [
    "## Modes\n",
    "\n",
    "JupyterLab makes all known (but not necessarily loaded) syntax _modes_. The `ModeInfo` widget makes this information available."
   ]
  },
  {
   "cell_type": "code",
   "execution_count": null,
   "metadata": {},
   "outputs": [],
   "source": [
    "mode_info = ModeInfo()\n",
    "mode = W.SelectionSlider(options=[\"ipython\"], description=\"mode\", rows=1)\n",
    "def mode_options(modes):\n",
    "    modes = modes or [{\"mime\": \"text/x-ipython\", \"mode\": \"ipython\"}]\n",
    "    return sorted(set(sum([[m.get(\"mime\"), m.get(\"mode\")] for m in modes], [])))\n",
    "\n",
    "def link_modes(*change):\n",
    "    editor.value += pprint.pformat(mode_info.modes)\n",
    "    T.dlink((mode_info, \"modes\"), (mode, \"options\"), mode_options)\n",
    "    T.link((editor.config, \"mode\"), (mode, \"value\"))\n",
    "mode_info.observe(link_modes, \"modes\")\n",
    "mode"
   ]
  },
  {
   "cell_type": "markdown",
   "metadata": {},
   "source": [
    "## Themes\n",
    "\n",
    "CodeMirror uses CSS-based _themes_. They aren't particularly discoverable at runtime, but they usually don't get _removed_."
   ]
  },
  {
   "cell_type": "code",
   "execution_count": null,
   "metadata": {},
   "outputs": [],
   "source": [
    "THEMES = (\n",
    "    \"3024-day 3024-night abcdef ambiance ambiance-mobile ayu-dark ayu-mirage base16-dark base16-light \"\n",
    "    \"bespin blackboard cobalt colorforth darcula dracula duotone-dark duotone-light default eclipse elegant \"\n",
    "    \"erlang-dark gruvbox-dark hopscotch icecoder idea isotope lesser-dark liquibyte lucario material \"\n",
    "    \"material-darker material-ocean material-palenight mbo mdn-like midnight monokai moxer neat neo night \"\n",
    "    \"nord oceanic-next panda-syntax paraiso-dark paraiso-light pastel-on-dark railscasts rubyblue seti \"\n",
    "    \"shadowfox solarized ssms the-matrix tomorrow-night-bright tomorrow-night-eighties ttcn twilight \"\n",
    "    \"vibrant-ink xq-dark xq-light yeti yonce zenburn\"\n",
    ")\n",
    "editor.value += THEMES\n",
    "theme = W.SelectionSlider(options=THEMES.split(), description=\"theme\")\n",
    "T.link((theme, \"value\"), (editor.config, \"theme\"))\n",
    "theme"
   ]
  },
  {
   "cell_type": "markdown",
   "metadata": {},
   "source": [
    "## Scrolling\n",
    "The top-left position of the editor is readable and writeable from `scroll_x` and `scroll_y`. These are, unfortunately, in _pixels_, not _characters_, as other settings like `lineWrapping`"
   ]
  },
  {
   "cell_type": "code",
   "execution_count": null,
   "metadata": {},
   "outputs": [],
   "source": [
    "scroll_x = W.IntSlider(description=\"x\", max=2000); W.jslink((scroll_x, \"value\"), (editor, \"scroll_x\"))\n",
    "scroll_y = W.IntSlider(description=\"y\", max=2000); W.jslink((scroll_y, \"value\"), (editor, \"scroll_y\"))\n",
    "wrap = W.Checkbox(description=\"lineWrapping\"); W.jslink((wrap, \"value\"), (editor.config, \"lineWrapping\"))\n",
    "I.display.display(scroll_x, scroll_y, wrap)"
   ]
  },
  {
   "cell_type": "code",
   "execution_count": null,
   "metadata": {},
   "outputs": [],
   "source": [
    "editor.layout.max_width = \"70vw\"\n",
    "app = W.HBox(\n",
    "    [W.VBox([mode, theme, wrap, scroll_x, scroll_y]), editor], \n",
    "    layout=dict(width=\"100%\", height=\"600px\", display=\"flex\", max_height=\"100%\")\n",
    ")"
   ]
  },
  {
   "cell_type": "code",
   "execution_count": null,
   "metadata": {},
   "outputs": [],
   "source": [
    "if __name__ == \"__main__\":\n",
    "    I.display.display(app)"
   ]
  },
  {
   "cell_type": "code",
   "execution_count": null,
   "metadata": {},
   "outputs": [],
   "source": []
  }
 ],
 "metadata": {
  "kernelspec": {
   "display_name": "Python 3",
   "language": "python",
   "name": "python3"
  },
  "language_info": {
   "codemirror_mode": {
    "name": "ipython",
    "version": 3
   },
   "file_extension": ".py",
   "mimetype": "text/x-python",
   "name": "python",
   "nbconvert_exporter": "python",
   "pygments_lexer": "ipython3",
   "version": "3.8.6"
  }
 },
 "nbformat": 4,
 "nbformat_minor": 4
}
