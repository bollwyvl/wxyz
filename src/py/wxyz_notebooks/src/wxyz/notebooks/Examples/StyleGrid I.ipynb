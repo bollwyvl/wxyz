{
 "cells": [
  {
   "cell_type": "markdown",
   "metadata": {},
   "source": [
    "# StyleGrid I\n",
    "\n",
    "Extending the [DataGrid](./DataGrid.ipynb), `StyleGrid` adds support for top-level styles of the rendered grid. Advanced customization is possible with [custom renderers](./StyleGrid%20II.ipynb)."
   ]
  },
  {
   "cell_type": "code",
   "execution_count": null,
   "metadata": {},
   "outputs": [],
   "source": [
    "from wxyz.datagrid import StyleGrid, GridStyle"
   ]
  },
  {
   "cell_type": "code",
   "execution_count": null,
   "metadata": {},
   "outputs": [],
   "source": [
    "import pandas as pd, traitlets as T, ipywidgets as W, IPython.display as D\n",
    "import importnb\n",
    "from wxyz.html import AlphaColorPicker \n",
    "from wxyz.lab import DockBox"
   ]
  },
  {
   "cell_type": "code",
   "execution_count": null,
   "metadata": {},
   "outputs": [],
   "source": [
    "with importnb.Notebook():\n",
    "    try:\n",
    "        from DataGrid import make_grid\n",
    "    except:\n",
    "        from .DataGrid import make_grid"
   ]
  },
  {
   "cell_type": "markdown",
   "metadata": {},
   "source": [
    "## GridStyle"
   ]
  },
  {
   "cell_type": "code",
   "execution_count": null,
   "metadata": {},
   "outputs": [],
   "source": [
    "def make_a_grid_styler(style=None, grid=None, pattern='color'):\n",
    "    special = ['columnBackgroundColor', 'rowBackgroundColor']\n",
    "\n",
    "    style = style or GridStyle()\n",
    "    colors = [\n",
    "        AlphaColorPicker(description=n) \n",
    "        for n in style.trait_names() \n",
    "        if pattern in n.lower()\n",
    "        and n not in special\n",
    "    ]\n",
    "    \n",
    "    box = W.VBox(colors, _dom_classes=[\"my-style\"], layout=dict(display=\"flex\", flex_flow=\"row wrap\"))\n",
    "    box.children += (W.HTML(\"\"\"<style>\n",
    "        .my-style .widget-colorpicker {\n",
    "            display: flex;\n",
    "            flex-direction: column;\n",
    "            height: 4em;\n",
    "        }\n",
    "        .my-style .widget-colorpicker label {\n",
    "            display: flex;\n",
    "            width: 100%;\n",
    "        }\n",
    "    </style>\"\"\"),)\n",
    "    \n",
    "    if grid:\n",
    "        [T.dlink((c, 'value'), (grid.grid_style, c.description)) for c in colors]\n",
    "    \n",
    "    return box"
   ]
  },
  {
   "cell_type": "code",
   "execution_count": null,
   "metadata": {},
   "outputs": [],
   "source": [
    "if __name__ == \"__main__\":\n",
    "    styler = make_a_grid_styler()\n",
    "    D.display(styler)"
   ]
  },
  {
   "cell_type": "markdown",
   "metadata": {},
   "source": [
    "## Make a Grid"
   ]
  },
  {
   "cell_type": "code",
   "execution_count": null,
   "metadata": {},
   "outputs": [],
   "source": [
    "_default_container = lambda *args, **kwargs: [\n",
    "    kwargs.update(layout=dict(height=\"60vh\"), dock_layout={'type': 'split-area',\n",
    " 'orientation': 'horizontal',\n",
    " 'children': [{'type': 'tab-area', 'widgets': [0], 'currentIndex': 0},\n",
    "  {'type': 'tab-area', 'widgets': [1], 'currentIndex': 0}],\n",
    " 'sizes': [8, 3]}),\n",
    "    DockBox(*args, **kwargs)\n",
    "][-1]\n",
    "\n",
    "def make_style_grid_i(GridClass=StyleGrid, df=None, container=None):\n",
    "    container = container or _default_container\n",
    "    pg = make_grid(GridClass, df=df)\n",
    "    dg = pg.dg\n",
    "    st = make_a_grid_styler(grid=dg)\n",
    "\n",
    "    rs = W.IntSlider(description='row height')\n",
    "    cs = W.IntSlider(description='column width')\n",
    "    hv = W.SelectionSlider(description=\"headers?\", default_value=\"all\", options=[\"all\", \"row\", \"column\", \"none\"])\n",
    "    hr = W.HTML()\n",
    "    hc = W.HTML()\n",
    "\n",
    "    W.jslink((dg, \"row_size\"), (rs, \"value\"))\n",
    "    W.jslink((dg, \"column_size\"), (cs, \"value\"))\n",
    "    W.link((dg, \"header_visibility\"), (hv, \"value\"))\n",
    "    grid_playground = container([\n",
    "        W.VBox([\n",
    "            pg.children[1], \n",
    "        ], layout=dict(flex=\"1\")),\n",
    "        W.VBox([*pg.children[0].children, hr, hc, cs, rs, hv, *st.children]), \n",
    "    ])\n",
    "    grid_playground.dg = dg\n",
    "    return grid_playground"
   ]
  },
  {
   "cell_type": "code",
   "execution_count": null,
   "metadata": {},
   "outputs": [],
   "source": [
    "if __name__ == \"__main__\":\n",
    "    pg = make_style_grid_i()\n",
    "    display(pg)"
   ]
  },
  {
   "cell_type": "code",
   "execution_count": null,
   "metadata": {},
   "outputs": [],
   "source": []
  }
 ],
 "metadata": {
  "kernelspec": {
   "display_name": "Python 3",
   "language": "python",
   "name": "python3"
  },
  "language_info": {
   "codemirror_mode": {
    "name": "ipython",
    "version": 3
   },
   "file_extension": ".py",
   "mimetype": "text/x-python",
   "name": "python",
   "nbconvert_exporter": "python",
   "pygments_lexer": "ipython3",
   "version": "3.8.6"
  }
 },
 "nbformat": 4,
 "nbformat_minor": 4
}
