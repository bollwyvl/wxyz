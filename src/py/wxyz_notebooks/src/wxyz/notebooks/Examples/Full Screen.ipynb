{
 "cells": [
  {
   "cell_type": "markdown",
   "metadata": {},
   "source": [
    "## Full Screen"
   ]
  },
  {
   "cell_type": "code",
   "execution_count": null,
   "metadata": {},
   "outputs": [],
   "source": [
    "import math\n",
    "import ipywidgets as W, traitlets as T\n",
    "from wxyz.html.widget_fullscreen import Fullscreen\n",
    "from wxyz.lab.widget_dock import DockBox"
   ]
  },
  {
   "cell_type": "markdown",
   "metadata": {},
   "source": [
    "Clicking on a `Fullscreen` or any of its children will trigger fullscreen."
   ]
  },
  {
   "cell_type": "code",
   "execution_count": null,
   "metadata": {},
   "outputs": [],
   "source": [
    "sine = Fullscreen([W.FloatSlider(math.sin((i-1) / 2), max=1, min=-1, orientation=\"vertical\") for i in range(10)])\n",
    "sine"
   ]
  },
  {
   "cell_type": "markdown",
   "metadata": {},
   "source": [
    "`DockBox`es can't be inside `Fullscreen`s for some reason, so you just have to <kbd>Ctrl+Click</kbd> somewhere."
   ]
  },
  {
   "cell_type": "code",
   "execution_count": null,
   "metadata": {},
   "outputs": [],
   "source": [
    "btn = W.Button(description=\"Tabs\")\n",
    "sliders = [W.FloatLogSlider(description=i) for i in \"abcdefg\"]\n",
    "dock = DockBox([btn] + sliders, layout={\"height\": \"40vh\"})\n",
    "[[T.dlink((dock, \"border_size\"), (s, \"value\"),  lambda x: float(x.replace('px', '') or '0')),\n",
    "  T.dlink((s, \"value\"), (dock, \"border_size\"), \"{}px\".format)]\n",
    " for s in sliders]\n",
    "def click(*args, **kwargs):\n",
    "    dock.hide_tabs = not dock.hide_tabs\n",
    "    dock.border_size = f\"{int(not dock.border_size)}px\"\n",
    "    dock.tab_size = None if dock.tab_size else \"0px\"\n",
    "btn.on_click(click)\n",
    "@dock.on_displayed\n",
    "def show(x):\n",
    "    dock.dock_layout = {'type': 'split-area',\n",
    "     'orientation': 'horizontal',\n",
    "     'children': [{'type': 'split-area',\n",
    "       'orientation': 'vertical',\n",
    "       'children': [{'type': 'tab-area', 'widgets': [4], 'currentIndex': 0},\n",
    "        {'type': 'tab-area', 'widgets': [2], 'currentIndex': 0},\n",
    "        {'type': 'tab-area', 'widgets': [1], 'currentIndex': 0},\n",
    "        {'type': 'tab-area', 'widgets': [3], 'currentIndex': 0}],\n",
    "       'sizes': [0.25, 0.25, 0.25, 0.25]},\n",
    "      {'type': 'split-area',\n",
    "       'orientation': 'vertical',\n",
    "       'children': [{'type': 'tab-area', 'widgets': [0], 'currentIndex': 0},\n",
    "        {'type': 'tab-area', 'widgets': [5], 'currentIndex': 0}],\n",
    "       'sizes': [0.5, 0.5]},\n",
    "      {'type': 'split-area',\n",
    "       'orientation': 'vertical',\n",
    "       'children': [{'type': 'tab-area', 'widgets': [6], 'currentIndex': 0},\n",
    "        {'type': 'tab-area', 'widgets': [7], 'currentIndex': 0}],\n",
    "       'sizes': [0.5, 0.5]}],\n",
    "     'sizes': [0.3, 0.3, 0.3]}"
   ]
  },
  {
   "cell_type": "code",
   "execution_count": null,
   "metadata": {},
   "outputs": [],
   "source": [
    "dock"
   ]
  }
 ],
 "metadata": {
  "kernelspec": {
   "display_name": "Python 3",
   "language": "python",
   "name": "python3"
  },
  "language_info": {
   "codemirror_mode": {
    "name": "ipython",
    "version": 3
   },
   "file_extension": ".py",
   "mimetype": "text/x-python",
   "name": "python",
   "nbconvert_exporter": "python",
   "pygments_lexer": "ipython3",
   "version": "3.7.6"
  }
 },
 "nbformat": 4,
 "nbformat_minor": 4
}
