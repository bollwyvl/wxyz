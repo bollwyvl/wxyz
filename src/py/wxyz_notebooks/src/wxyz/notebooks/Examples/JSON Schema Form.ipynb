{
 "cells": [
  {
   "cell_type": "markdown",
   "metadata": {},
   "source": [
    "# JSON Schema Form\n",
    "Powered by [rjsf](https://github.com/rjsf-team/react-jsonschema-form)."
   ]
  },
  {
   "cell_type": "code",
   "execution_count": null,
   "metadata": {},
   "outputs": [],
   "source": [
    "from yaml import safe_dump\n",
    "import ipywidgets as W, traitlets as T\n",
    "from wxyz.json_schema_form import JSONSchemaForm\n",
    "from wxyz.yaml import YAML\n",
    "from wxyz.lab import DockBox, Editor\n",
    "from IPython.display import Markdown"
   ]
  },
  {
   "cell_type": "code",
   "execution_count": null,
   "metadata": {},
   "outputs": [],
   "source": [
    "some_schema = \"\"\"\n",
    "title: Quest\n",
    "description: Answer me these riddles 3... or 4... or...\n",
    "type: array\n",
    "items:\n",
    "    $ref: \"#/definitions/party-member\"\n",
    "\n",
    "definitions:\n",
    "    party-member:\n",
    "        type: object\n",
    "        required:\n",
    "            - your_name\n",
    "            - your_quest\n",
    "            - your_favorite_color\n",
    "        properties:\n",
    "            your_name:\n",
    "                title: Name\n",
    "                description: What is your name?\n",
    "                type: string\n",
    "                pattern: ^(S[ei]r|Dame|Lady|King|Queen|Prince)\n",
    "            your_quest:\n",
    "                title: Quest\n",
    "                description: What is your Quest?\n",
    "                type: string\n",
    "            your_favorite_color:\n",
    "                title: Color\n",
    "                description: What is your favorite color?\n",
    "                type: string\n",
    "                enum:\n",
    "                    - red\n",
    "                    - green\n",
    "                    - blue\n",
    "                    - AAAAH\n",
    "            asv:\n",
    "                title: Velocity\n",
    "                description: What is the airspeed velocity of an unladen swallow?\n",
    "                anyOf:\n",
    "                    - type: number\n",
    "                      title: Oh, that's easy...\n",
    "                    - type: string\n",
    "                      title: What kind of swallow?\n",
    "                      enum:\n",
    "                          - african\n",
    "                          - european\n",
    "\"\"\".strip()"
   ]
  },
  {
   "cell_type": "code",
   "execution_count": null,
   "metadata": {},
   "outputs": [],
   "source": [
    "some_ui_schema = \"\"\"\n",
    "items:\n",
    "  your_quest:\n",
    "    ui:widget: textarea\n",
    "    ui:options:\n",
    "      rows: 3\n",
    "  your_favorite_color:\n",
    "    ui:widget: radio\n",
    "    \n",
    "\"\"\".strip()"
   ]
  },
  {
   "cell_type": "code",
   "execution_count": null,
   "metadata": {},
   "outputs": [],
   "source": [
    "some_layout = {'type': 'split-area',\n",
    " 'orientation': 'horizontal',\n",
    " 'children': [{'type': 'split-area',\n",
    "   'orientation': 'vertical',\n",
    "   'children': [{'type': 'tab-area', 'widgets': [0], 'currentIndex': 0},\n",
    "    {'type': 'tab-area', 'widgets': [1], 'currentIndex': 0}],\n",
    "   'sizes': [1, 1]},\n",
    "  {'type': 'tab-area', 'widgets': [2], 'currentIndex': 0},\n",
    "  {'type': 'split-area',\n",
    "   'orientation': 'vertical',\n",
    "   'children': [{'type': 'tab-area', 'widgets': [3], 'currentIndex': 0},\n",
    "    {'type': 'tab-area', 'widgets': [4], 'currentIndex': 0}],\n",
    "   'sizes': [1, 1]}],\n",
    " 'sizes': [1, 1, 1]}"
   ]
  },
  {
   "cell_type": "code",
   "execution_count": null,
   "metadata": {},
   "outputs": [],
   "source": [
    "def make_a_json_schema_form_playground(schema=some_schema, ui_schema=some_ui_schema):\n",
    "    schema_editor = Editor(description=\"Schema\", value=some_schema, config=dict(mode=\"yaml\", theme=\"zenburn\"))\n",
    "    ui_schema_editor = Editor(description=\"UI Schema\", value=some_ui_schema, config=dict(mode=\"yaml\", theme=\"zenburn\"))\n",
    "    form = JSONSchemaForm(description=\"Form\")\n",
    "    schema_yaml = YAML()\n",
    "    ui_schema_yaml = YAML()\n",
    "    instance_yaml = W.Output()\n",
    "    error_yaml = W.Output()\n",
    "    \n",
    "    W.jslink((schema_editor, \"value\"), (schema_yaml, \"source\"))\n",
    "    W.jslink((schema_yaml, \"value\"), (form, \"schema\"))\n",
    "\n",
    "    W.jslink((ui_schema_editor, \"value\"), (ui_schema_yaml, \"source\"))\n",
    "    W.jslink((ui_schema_yaml, \"value\"), (form, \"ui_schema\"))\n",
    "    \n",
    "    def _on_form_data(change):\n",
    "        instance_yaml.clear_output()\n",
    "        with instance_yaml:\n",
    "            display(Markdown(f\"```yaml\\n{safe_dump(form.value)}```\"))\n",
    "    form.observe(_on_form_data, \"value\")\n",
    "\n",
    "    def _on_errors(change):\n",
    "        error_yaml.clear_output()\n",
    "        with error_yaml:\n",
    "            display(Markdown(f\"```yaml\\n{safe_dump(form.errors)}```\"))\n",
    "    form.observe(_on_errors, \"errors\")\n",
    "    \n",
    "    box = DockBox(\n",
    "        [schema_editor, ui_schema_editor, form, instance_yaml, error_yaml], \n",
    "        layout=dict(height=\"80vh\"), \n",
    "        dock_layout=some_layout\n",
    "    )\n",
    "    instance_yaml.add_traits(description=T.Unicode(\"Instance\").tag(sync=True))\n",
    "    error_yaml.add_traits(description=T.Unicode(\"Errors\").tag(sync=True))\n",
    "    \n",
    "    return form, box"
   ]
  },
  {
   "cell_type": "code",
   "execution_count": null,
   "metadata": {},
   "outputs": [],
   "source": [
    "if __name__ == \"__main__\":\n",
    "    form, box = make_a_json_schema_form_playground()\n",
    "    display(box)"
   ]
  }
 ],
 "metadata": {
  "kernelspec": {
   "display_name": "Python 3",
   "language": "python",
   "name": "python3"
  },
  "language_info": {
   "codemirror_mode": {
    "name": "ipython",
    "version": 3
   },
   "file_extension": ".py",
   "mimetype": "text/x-python",
   "name": "python",
   "nbconvert_exporter": "python",
   "pygments_lexer": "ipython3",
   "version": "3.8.6"
  }
 },
 "nbformat": 4,
 "nbformat_minor": 4
}
