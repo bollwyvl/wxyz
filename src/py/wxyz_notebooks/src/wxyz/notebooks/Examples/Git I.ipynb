{
 "cells": [
  {
   "cell_type": "markdown",
   "metadata": {},
   "source": [
    "# Git I\n",
    "\n",
    "At its simplest, the `Git` widget provides save/restore of widget values."
   ]
  },
  {
   "cell_type": "code",
   "execution_count": null,
   "metadata": {},
   "outputs": [],
   "source": [
    "import ipywidgets as W, traitlets as T, IPython\n",
    "from wxyz.dvcs import Git, HeadPicker, Committer"
   ]
  },
  {
   "cell_type": "code",
   "execution_count": null,
   "metadata": {},
   "outputs": [],
   "source": [
    "def make_a_git_playground(box=None, widget=None, traits=[\"value\"], work_dir=\"_git_i_simple_repo_\", work_file=\"test.json\"):\n",
    "    widget = widget or W.Textarea(\n",
    "        description=\"Tracked\",\n",
    "        layout=dict(width=\"80%\"),\n",
    "        rows=5,\n",
    "        _dom_classes=[\"jp-wxyz-dvcs-playground-textarea\"]\n",
    "    )\n",
    "    repo = Git(work_dir)\n",
    "    head = HeadPicker(repo=repo)\n",
    "    committer = Committer(repo=repo)\n",
    "    repo.track(\n",
    "        tracked_widget=widget,\n",
    "        tracked_traits=traits,\n",
    "        path=work_file,\n",
    "    )\n",
    "    box = box or W.VBox() \n",
    "    box.children = [widget, head, committer]\n",
    "    box._dom_classes += (\"jp-wxyz-dvcs-playground-box\",)\n",
    "    return box, repo"
   ]
  },
  {
   "cell_type": "code",
   "execution_count": null,
   "metadata": {},
   "outputs": [],
   "source": [
    "if __name__ == \"__main__\":\n",
    "    pg, repo = make_a_git_playground()\n",
    "    IPython.display.display(pg)"
   ]
  }
 ],
 "metadata": {
  "kernelspec": {
   "display_name": "Python 3",
   "language": "python",
   "name": "python3"
  },
  "language_info": {
   "codemirror_mode": {
    "name": "ipython",
    "version": 3
   },
   "file_extension": ".py",
   "mimetype": "text/x-python",
   "name": "python",
   "nbconvert_exporter": "python",
   "pygments_lexer": "ipython3",
   "version": "3.8.6"
  }
 },
 "nbformat": 4,
 "nbformat_minor": 4
}
