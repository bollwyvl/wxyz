{
 "cells": [
  {
   "cell_type": "markdown",
   "metadata": {},
   "source": [
    "# Git III"
   ]
  },
  {
   "cell_type": "code",
   "execution_count": null,
   "metadata": {},
   "outputs": [],
   "source": [
    "import pandas as pd\n",
    "import ipywidgets as W, traitlets as T, IPython\n",
    "from wxyz.datagrid import DataGrid\n",
    "from wxyz.dvcs import Git, HeadPicker, Committer, TimeTraveler, HeadStatus"
   ]
  },
  {
   "cell_type": "code",
   "execution_count": null,
   "metadata": {},
   "outputs": [],
   "source": [
    "df = pd.util.testing.makeDataFrame()"
   ]
  },
  {
   "cell_type": "code",
   "execution_count": null,
   "metadata": {},
   "outputs": [],
   "source": [
    "def make_a_git_datagrid_example(df=None, work_dir=\"_git_iii_grid_repo_\"):\n",
    "    df = df or pd.util.testing.makeDataFrame()\n",
    "    grid = DataGrid(value=df, layout=dict(height=\"300px\", flex=\"1\"))\n",
    "    repo = Git(work_dir)\n",
    "    repo.track(tracked_widget=grid, tracked_traits=[\"value\"], path=\"datagrid.json\")\n",
    "    btn = W.Button(description=\"Regenerate\")\n",
    "    def _click(*args):\n",
    "        grid.value = pd.util.testing.makeDataFrame()\n",
    "    btn.on_click(_click)\n",
    "    status = HeadStatus(repo=repo)\n",
    "    head = HeadPicker(repo=repo)\n",
    "    timetravel = TimeTraveler(repo=repo)\n",
    "    committer = Committer(repo=repo)\n",
    "    box = W.VBox() \n",
    "    box.children = [\n",
    "        W.HBox([W.VBox([btn, grid], layout=dict(flex=\"1\")), W.VBox([head, committer])]),\n",
    "        status,\n",
    "        timetravel, \n",
    "    ]\n",
    "    box._dom_classes += (\"jp-wxyz-dvcs-playground-box\",)\n",
    "    return box, repo"
   ]
  },
  {
   "cell_type": "code",
   "execution_count": null,
   "metadata": {},
   "outputs": [],
   "source": [
    "if __name__ == \"__main__\":\n",
    "    box, repo = make_a_git_datagrid_example()\n",
    "    IPython.display.display(box)"
   ]
  }
 ],
 "metadata": {
  "kernelspec": {
   "display_name": "Python 3",
   "language": "python",
   "name": "python3"
  },
  "language_info": {
   "codemirror_mode": {
    "name": "ipython",
    "version": 3
   },
   "file_extension": ".py",
   "mimetype": "text/x-python",
   "name": "python",
   "nbconvert_exporter": "python",
   "pygments_lexer": "ipython3",
   "version": "3.8.6"
  }
 },
 "nbformat": 4,
 "nbformat_minor": 4
}
