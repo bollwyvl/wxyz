{
 "cells": [
  {
   "cell_type": "markdown",
   "metadata": {},
   "source": [
    "# git"
   ]
  },
  {
   "cell_type": "code",
   "execution_count": null,
   "metadata": {},
   "outputs": [],
   "source": [
    "import ipywidgets as W, traitlets as T, pathlib as P, git as G, yaml, json, ipywidgets.embed as E\n",
    "from wxyz.dvcs import Watcher"
   ]
  },
  {
   "cell_type": "markdown",
   "metadata": {},
   "source": [
    "## Trackers\n",
    "The nuts-and-bolts implementation of the bridge between `traitlets` and the on-disk representation."
   ]
  },
  {
   "cell_type": "markdown",
   "metadata": {},
   "source": [
    "### Base Tracker"
   ]
  },
  {
   "cell_type": "code",
   "execution_count": null,
   "metadata": {},
   "outputs": [],
   "source": [
    "class _Tracker(W.Widget):\n",
    "    tracked_widget = T.Instance(W.Widget)\n",
    "    tracked_traits = W.trait_types.TypedTuple(T.Unicode(), allow_none=True, help=\"trait names to track (default all)\")\n",
    "    path = T.Instance(P.Path)\n",
    "    encoding = T.Unicode(\"utf-8\")\n",
    "    __extension__ = None\n",
    "    \n",
    "    def on_user_change(self, change):\n",
    "        raise NotImplementedError(\"tracker subclass must implement on_user_change\")\n",
    "    \n",
    "    def on_repo_change(self, change):\n",
    "        raise NotImplementedError(\"tracker subclass must implement on_repo_change\")\n",
    "    \n",
    "    @T.observe(\"tracked_widget\")\n",
    "    def _changed_tracked_widget(self, change):\n",
    "        if change.old is not None and isinstance(change.old, W.Widget):\n",
    "            change.old.unobserve(self.on_user_change, self.tracked_traits or T.All)\n",
    "        if change.new is not None:\n",
    "            change.new.observe(self.on_user_change, self.tracked_traits or T.All)\n",
    "            \n",
    "    @T.observe(\"tracked_traits\")\n",
    "    def _changed_tracked_traits(self, change):\n",
    "        if self.tracked_widget is None or not isinstance(self.tracked_widget, W.Widget):\n",
    "            return\n",
    "        if change.old is None or isinstance(change.old, tuple):\n",
    "            self.tracked_widget.unobserve(self.on_user_change, change.old or T.All)\n",
    "        if change.new is None or isinstance(change.new, tuple):\n",
    "            self.tracked_widget.observe(self.on_user_change, change.new or T.All)\n",
    "    \n",
    "    @classmethod\n",
    "    def _detect_tracker(cls, path, base_cls=None):\n",
    "        \"\"\" naive tracker finder... needs something cleverer\n",
    "        \"\"\"\n",
    "        base_cls = base_cls or _Tracker\n",
    "        \n",
    "        if base_cls.__extension__ and path.name.endswith(base_cls.__extension__):\n",
    "            return base_cls\n",
    "        \n",
    "        subclasses = base_cls.__subclasses__()\n",
    "        \n",
    "        for sub_cls in subclasses:\n",
    "            if sub_cls.__extension__ and path.name.endswith(sub_cls.__extension__):\n",
    "                return sub_cls\n",
    "        \n",
    "        for sub_cls in subclasses:\n",
    "            subsub = cls._detect_tracker(path, sub_cls)\n",
    "            if subsub:\n",
    "                return subsub\n",
    "        \n",
    "        return None"
   ]
  },
  {
   "cell_type": "markdown",
   "metadata": {},
   "source": [
    "### Dict Tracker\n",
    "\n",
    "Store as a dictionary (aka key/value pair, map, hash), or generally vanilla JSON-compatible (no timestamps, etc)."
   ]
  },
  {
   "cell_type": "code",
   "execution_count": null,
   "metadata": {},
   "outputs": [],
   "source": [
    "class _DictTracker(_Tracker):\n",
    "    def dict_from_widget(self):\n",
    "        d = {}\n",
    "        w = self.tracked_widget\n",
    "        if w is not None:\n",
    "            s = E.dependency_state(w)[w.comm.comm_id][\"state\"]\n",
    "            for k in self.tracked_traits or list(s):\n",
    "                d[k] = s.get(k, None)\n",
    "        return d"
   ]
  },
  {
   "cell_type": "markdown",
   "metadata": {},
   "source": [
    "### JSON Dict Tracker\n",
    "While not the most naively revision-control-aware format, JSON is widely distributed."
   ]
  },
  {
   "cell_type": "code",
   "execution_count": null,
   "metadata": {},
   "outputs": [],
   "source": [
    "class JSONDictTracker(_DictTracker):\n",
    "    __extension__ = \".json\"\n",
    "    \n",
    "    def on_user_change(self, change):\n",
    "        self.path.write_text(\n",
    "            json.dumps(self.dict_from_widget(), sort_keys=True, indent=True), \n",
    "            encoding=self.encoding\n",
    "        )"
   ]
  },
  {
   "cell_type": "markdown",
   "metadata": {},
   "source": [
    "### YAML Dict Tracker\n",
    "YAML is somewhat more flexible for change control, but whitespace can be a bummer"
   ]
  },
  {
   "cell_type": "code",
   "execution_count": null,
   "metadata": {},
   "outputs": [],
   "source": [
    "class YAMLDictTracker(_DictTracker):\n",
    "    __extension__ = \".yaml\"\n",
    "    \n",
    "    def on_user_change(self, change):\n",
    "        self.path.write_text(\n",
    "            yaml.safe_dump(self.dict_from_widget(), default_flow_style=False), \n",
    "            encoding=self.encoding\n",
    "        )"
   ]
  },
  {
   "cell_type": "markdown",
   "metadata": {},
   "source": [
    "## BaseRepo\n",
    "A base representation of a file-based repo. This would live in its own file, and not know anything about a specific DVCS. "
   ]
  },
  {
   "cell_type": "code",
   "execution_count": null,
   "metadata": {},
   "outputs": [],
   "source": [
    "class _Repo(W.Widget):\n",
    "    working_dir = T.Instance(P.Path)\n",
    "    watching = T.Bool(default_value=False)\n",
    "    dirty = T.Bool(default_value=False)\n",
    "    changes = T.Tuple(allow_none=True)\n",
    "    _watcher = T.Instance(Watcher, allow_none=True)\n",
    "    _trackers = W.trait_types.TypedTuple(T.Instance(_Tracker), default_value=tuple())\n",
    "    _change_link = None\n",
    "    \n",
    "    def __init__(self, working_dir, *args, **kwargs):\n",
    "        kwargs[\"working_dir\"] = P.Path(kwargs.get(\"working_dir\", working_dir))\n",
    "        super().__init__(*args, **kwargs)\n",
    "    \n",
    "    @T.default(\"changes\")\n",
    "    def _default_changes(self):\n",
    "        return tuple()\n",
    "    \n",
    "    @T.observe(\"watching\", \"path\")\n",
    "    def _on_watching(self, change):\n",
    "        if self._watcher:\n",
    "            if self._change_link:\n",
    "                self._change_link.unlink()\n",
    "                self._change_link = None\n",
    "            self._watcher.watching = False\n",
    "            self._watcher = None\n",
    "        if self.watching:\n",
    "            self._watcher = Watcher(self.working_dir)\n",
    "            self._change_link = T.dlink((self._watcher, \"changes\"), (self, \"changes\"), self._on_watch_changes)\n",
    "            self._watcher.watching = True\n",
    "    \n",
    "    def _on_watch_changes(self, changes):\n",
    "        \"\"\" react to changes from the watcher\n",
    "        \"\"\"\n",
    "        return changes\n",
    "    \n",
    "    def track(self, **kwargs):\n",
    "        \"\"\" create a tracker for the given widget\n",
    "        \"\"\"\n",
    "        assert self.working_dir.exists()\n",
    "        kwargs[\"path\"] = P.Path(self.working_dir / kwargs[\"path\"])\n",
    "        tracker_cls = kwargs.pop(\"tracker_cls\", None)\n",
    "        if tracker_cls is None:\n",
    "            tracker_cls = _Tracker._detect_tracker(kwargs[\"path\"])\n",
    "        assert tracker_cls is not None\n",
    "        tracker = tracker_cls(**kwargs)\n",
    "        self._trackers += tracker,\n",
    "        return tracker"
   ]
  },
  {
   "cell_type": "markdown",
   "metadata": {},
   "source": [
    "## git"
   ]
  },
  {
   "cell_type": "markdown",
   "metadata": {},
   "source": [
    "Specialization for supporting `git`."
   ]
  },
  {
   "cell_type": "code",
   "execution_count": null,
   "metadata": {},
   "outputs": [],
   "source": [
    "class Repo(_Repo):\n",
    "    _git = T.Instance(G.Repo, allow_none=True)\n",
    "    \n",
    "    @T.observe(\"working_dir\")\n",
    "    def _on_path(self, change):\n",
    "        if change.new:\n",
    "            self._git = G.Repo.init(change.new)\n",
    "\n",
    "    def _on_watch_changes(self, changes):\n",
    "        self.dirty = self._git.is_dirty()\n",
    "        return [\n",
    "            dict(\n",
    "                a_path=diff.a_path,\n",
    "                b_path=diff.b_path,\n",
    "                change_type=diff.change_type\n",
    "            )\n",
    "            for diff in self._git.index.diff(None)\n",
    "        ] + [\n",
    "            dict(\n",
    "                a_path=None,\n",
    "                b_path=ut,\n",
    "                change_type=\"U\"\n",
    "            ) for ut in repo._git.untracked_files\n",
    "        ]\n",
    "    \n",
    "    def stage(self, path):\n",
    "        self._git.index.add(path)\n",
    "    \n",
    "    def unstage(self, path):\n",
    "        self._git.index.remove(path)\n",
    "    \n",
    "    def commit(self, message):\n",
    "        self._git.index.commit(message)"
   ]
  }
 ],
 "metadata": {
  "kernelspec": {
   "display_name": "Python 3",
   "language": "python",
   "name": "python3"
  },
  "language_info": {
   "codemirror_mode": {
    "name": "ipython",
    "version": 3
   },
   "file_extension": ".py",
   "mimetype": "text/x-python",
   "name": "python",
   "nbconvert_exporter": "python",
   "pygments_lexer": "ipython3",
   "version": "3.7.8"
  }
 },
 "nbformat": 4,
 "nbformat_minor": 4
}
