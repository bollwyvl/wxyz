{
 "cells": [
  {
   "cell_type": "markdown",
   "metadata": {},
   "source": [
    "# A DVCS App\n",
    "The `wxyz_vcs` widgets can be combined with other wxyz widgets to create rich, history- and provenance-aware interactive experiences."
   ]
  },
  {
   "cell_type": "code",
   "execution_count": 1,
   "metadata": {},
   "outputs": [],
   "source": [
    "from wxyz.lab import DockBox\n",
    "import ipywidgets as W\n",
    "import importnb"
   ]
  },
  {
   "cell_type": "code",
   "execution_count": 2,
   "metadata": {},
   "outputs": [],
   "source": [
    "with importnb.Notebook():\n",
    "    from wxyz.notebooks.Design.DVCS.Git import W, T, Repo\n",
    "    import wxyz.notebooks.Design.DVCS.Tools as tools\n",
    "    import wxyz.notebooks.Design.DVCS.Simple_Example as simple"
   ]
  },
  {
   "cell_type": "code",
   "execution_count": 3,
   "metadata": {},
   "outputs": [],
   "source": [
    "content = W.VBox([\n",
    "    simple.number,\n",
    "    simple.text, \n",
    "])"
   ]
  },
  {
   "cell_type": "code",
   "execution_count": 4,
   "metadata": {},
   "outputs": [],
   "source": [
    "box = DockBox([\n",
    "    simple.head,\n",
    "    simple.repo_ui,\n",
    "    simple.restore,\n",
    "    content,\n",
    "], layout=dict(height=\"400px\"), dock_layout={'type': 'split-area',\n",
    " 'orientation': 'horizontal',\n",
    " 'children': [{'type': 'split-area',\n",
    "   'orientation': 'vertical',\n",
    "   'children': [{'type': 'tab-area', 'widgets': [0], 'currentIndex': 0},\n",
    "    {'type': 'tab-area', 'widgets': [1], 'currentIndex': 0},\n",
    "    {'type': 'tab-area', 'widgets': [2], 'currentIndex': 0}],\n",
    "   'sizes': [1, 1, 1]},\n",
    "  {'type': 'tab-area', 'widgets': [3], 'currentIndex': 0}],\n",
    " 'sizes': [1, 1]})"
   ]
  },
  {
   "cell_type": "code",
   "execution_count": 5,
   "metadata": {},
   "outputs": [
    {
     "data": {
      "application/vnd.jupyter.widget-view+json": {
       "model_id": "9793258541d74295bef395bb5ce45736",
       "version_major": 2,
       "version_minor": 0
      },
      "text/plain": [
       "DockBox(children=(HBox(children=(Dropdown(description='Heads', options=(), value=None), Button(icon='refresh',…"
      ]
     },
     "metadata": {},
     "output_type": "display_data"
    }
   ],
   "source": [
    "box"
   ]
  }
 ],
 "metadata": {
  "kernelspec": {
   "display_name": "Python 3",
   "language": "python",
   "name": "python3"
  },
  "language_info": {
   "codemirror_mode": {
    "name": "ipython",
    "version": 3
   },
   "file_extension": ".py",
   "mimetype": "text/x-python",
   "name": "python",
   "nbconvert_exporter": "python",
   "pygments_lexer": "ipython3",
   "version": "3.8.5"
  }
 },
 "nbformat": 4,
 "nbformat_minor": 4
}
