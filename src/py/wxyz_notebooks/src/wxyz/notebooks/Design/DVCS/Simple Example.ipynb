{
 "cells": [
  {
   "cell_type": "markdown",
   "metadata": {},
   "source": [
    "# Simple Example\n",
    "\n",
    "[Motivation](./index.ipynb#Simple-Example)"
   ]
  },
  {
   "cell_type": "code",
   "execution_count": null,
   "metadata": {},
   "outputs": [],
   "source": [
    "import importnb"
   ]
  },
  {
   "cell_type": "code",
   "execution_count": null,
   "metadata": {},
   "outputs": [],
   "source": [
    "with importnb.Notebook():\n",
    "    from wxyz.notebooks.Design.DVCS.Git import W, T, Repo\n",
    "    import wxyz.notebooks.Design.DVCS.Tools as tools"
   ]
  },
  {
   "cell_type": "code",
   "execution_count": null,
   "metadata": {},
   "outputs": [],
   "source": [
    "text = W.Textarea(description=\"text\")\n",
    "number = W.FloatSlider(description=\"number\")\n",
    "repo = Repo(\"_foo\")\n",
    "repo_ui = tools.make_basic_repo_ui(repo)"
   ]
  },
  {
   "cell_type": "code",
   "execution_count": null,
   "metadata": {},
   "outputs": [],
   "source": [
    "repo.track(\n",
    "    tracked_widget=text,\n",
    "    tracked_traits=[\"value\"],\n",
    "    path=\"text.yaml\",\n",
    ")\n",
    "repo.track(\n",
    "    tracked_widget=number,\n",
    "    tracked_traits=[\"value\"],\n",
    "    path=\"number.yaml\",\n",
    ")"
   ]
  },
  {
   "cell_type": "code",
   "execution_count": null,
   "metadata": {},
   "outputs": [],
   "source": [
    "W.VBox([number, text, repo_ui])"
   ]
  },
  {
   "cell_type": "code",
   "execution_count": null,
   "metadata": {},
   "outputs": [],
   "source": [
    "repo.head = \"master\""
   ]
  },
  {
   "cell_type": "code",
   "execution_count": null,
   "metadata": {},
   "outputs": [],
   "source": [
    "tools.make_head_switcher(repo)"
   ]
  },
  {
   "cell_type": "code",
   "execution_count": null,
   "metadata": {},
   "outputs": [],
   "source": [
    "tools.make_commit_switcher(repo)"
   ]
  },
  {
   "cell_type": "code",
   "execution_count": null,
   "metadata": {},
   "outputs": [],
   "source": [
    "raise NotImplementedError(\"Blah\")"
   ]
  },
  {
   "cell_type": "code",
   "execution_count": null,
   "metadata": {},
   "outputs": [],
   "source": [
    "c = repo._git.heads[0].log()[::-1][0]"
   ]
  },
  {
   "cell_type": "code",
   "execution_count": null,
   "metadata": {},
   "outputs": [],
   "source": [
    "from datetime import datetime\n",
    "dt = datetime.fromtimestamp(c.time[0])"
   ]
  },
  {
   "cell_type": "code",
   "execution_count": null,
   "metadata": {},
   "outputs": [],
   "source": [
    "repo._git.head.ref"
   ]
  },
  {
   "cell_type": "code",
   "execution_count": null,
   "metadata": {},
   "outputs": [],
   "source": [
    "h = repo._git.heads[0]"
   ]
  },
  {
   "cell_type": "code",
   "execution_count": null,
   "metadata": {},
   "outputs": [],
   "source": [
    "repo._git.heads[0].log"
   ]
  },
  {
   "cell_type": "code",
   "execution_count": null,
   "metadata": {},
   "outputs": [],
   "source": [
    "repo._git.heads[0].log"
   ]
  },
  {
   "cell_type": "code",
   "execution_count": null,
   "metadata": {},
   "outputs": [],
   "source": [
    "[(c.newhexsha, f\"{c.message} {datetime.fromtimestamp(c.time[0]).isoformat()}\") for c in repo._git.heads[0].log()[::-1]]"
   ]
  },
  {
   "cell_type": "code",
   "execution_count": null,
   "metadata": {},
   "outputs": [],
   "source": [
    "repo.stage(\"text.yaml\")\n",
    "repo.commit(\"hooray\")"
   ]
  },
  {
   "cell_type": "code",
   "execution_count": null,
   "metadata": {},
   "outputs": [],
   "source": [
    "changes = W.VBox()\n",
    "commit_message = W.Textarea(description=\"message\")\n",
    "path = W.HTML()\n",
    "watching = W.Checkbox(description=\"Watching?\")\n",
    "dirty = W.Checkbox(description=\"Dirty?\", disabled=True)\n",
    "commit = W.Button(description=\"Commit\")"
   ]
  },
  {
   "cell_type": "code",
   "execution_count": null,
   "metadata": {},
   "outputs": [],
   "source": [
    "def make_change(change):\n",
    "    stage = W.Checkbox(description=\"Stage\")\n",
    "    def on_stage(self):\n",
    "        repo.stage(change.b_path or change.a_path)\n",
    "    stage.observe(on_stage, \"value\")\n",
    "    \n",
    "    unstage = W.Checkbox(description=\"Unstage\")\n",
    "    def on_unstage(self):\n",
    "        repo.unstage(change.b_path or change.a_path)\n",
    "    unstage.observe(on_unstage, \"value\")\n",
    "        \n",
    "    return W.HBox([\n",
    "        W.HTML(change.b_path or change.a_path),\n",
    "        stage,\n",
    "        unstage\n",
    "    ])"
   ]
  },
  {
   "cell_type": "code",
   "execution_count": null,
   "metadata": {},
   "outputs": [],
   "source": [
    "def change_to_children(changes):\n",
    "    return list(map(make_change, repo._git.index.diff(None)))"
   ]
  },
  {
   "cell_type": "code",
   "execution_count": null,
   "metadata": {},
   "outputs": [],
   "source": [
    "T.dlink((repo, \"working_dir\"), (path ,\"value\"), \"<code>{}</code>\".format)\n",
    "T.dlink((repo, \"changes\"), (changes, \"children\"), change_to_children)\n",
    "T.link((repo, \"watching\"), (watching, \"value\"))\n",
    "T.dlink((repo, \"dirty\"), (dirty, \"value\"))\n",
    "commit.on_click(lambda x: repo.commit(commit_message.value))"
   ]
  },
  {
   "cell_type": "code",
   "execution_count": null,
   "metadata": {},
   "outputs": [],
   "source": [
    "head = W.HBox([\n",
    "    path,\n",
    "    dirty,\n",
    "    watching\n",
    "])\n",
    "body = W.HBox([\n",
    "    W.VBox([\n",
    "        W.HTML(\"<h2>Uncommitted Changes</h2>\"),\n",
    "        changes\n",
    "    ]),\n",
    "    W.VBox([\n",
    "        W.HTML(\"<h2>Commit</h2>\"),\n",
    "        commit_message,\n",
    "        commit\n",
    "    ])\n",
    "])\n",
    "ui = W.VBox([head, body])\n",
    "ui"
   ]
  },
  {
   "cell_type": "code",
   "execution_count": null,
   "metadata": {},
   "outputs": [],
   "source": [
    "readme = (repo.working_dir / \"README.md\")\n",
    "readme.write_text(f\"# f00: {time.time()}\")"
   ]
  },
  {
   "cell_type": "code",
   "execution_count": null,
   "metadata": {},
   "outputs": [],
   "source": [
    "gitignore = (repo.working_dir / \".gitignore\")\n",
    "gitignore.write_text(\"\"\"\n",
    ".ipynb_checkpoints/\n",
    "\"\"\")"
   ]
  },
  {
   "cell_type": "code",
   "execution_count": null,
   "metadata": {},
   "outputs": [],
   "source": [
    "repo._git.index.add([readme.name,  gitignore.name])"
   ]
  },
  {
   "cell_type": "code",
   "execution_count": null,
   "metadata": {},
   "outputs": [],
   "source": [
    "repo._git.index.commit(f\"woop {time.time()}\")"
   ]
  },
  {
   "cell_type": "code",
   "execution_count": null,
   "metadata": {},
   "outputs": [],
   "source": [
    "diff = repo._git.index.diff(None)[0]"
   ]
  },
  {
   "cell_type": "code",
   "execution_count": null,
   "metadata": {},
   "outputs": [],
   "source": [
    "diff.b_path"
   ]
  },
  {
   "cell_type": "code",
   "execution_count": null,
   "metadata": {},
   "outputs": [],
   "source": [
    "repo._git.index.entries"
   ]
  },
  {
   "cell_type": "code",
   "execution_count": null,
   "metadata": {},
   "outputs": [],
   "source": [
    "repo._git.index.remove([\".gitignore\"])"
   ]
  },
  {
   "cell_type": "code",
   "execution_count": null,
   "metadata": {},
   "outputs": [],
   "source": [
    "repo._git.index.diff(None)"
   ]
  },
  {
   "cell_type": "code",
   "execution_count": null,
   "metadata": {},
   "outputs": [],
   "source": [
    "!cd _foo && git status"
   ]
  },
  {
   "cell_type": "code",
   "execution_count": null,
   "metadata": {},
   "outputs": [],
   "source": [
    "repo._git.index.entries"
   ]
  }
 ],
 "metadata": {
  "kernelspec": {
   "display_name": "Python 3",
   "language": "python",
   "name": "python3"
  },
  "language_info": {
   "codemirror_mode": {
    "name": "ipython",
    "version": 3
   },
   "file_extension": ".py",
   "mimetype": "text/x-python",
   "name": "python",
   "nbconvert_exporter": "python",
   "pygments_lexer": "ipython3",
   "version": "3.7.8"
  }
 },
 "nbformat": 4,
 "nbformat_minor": 4
}
