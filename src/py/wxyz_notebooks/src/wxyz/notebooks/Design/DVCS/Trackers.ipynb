{
 "cells": [
  {
   "cell_type": "markdown",
   "metadata": {},
   "source": [
    "## Trackers\n",
    "The nuts-and-bolts implementation of the bridge between `traitlets` and the on-disk representation."
   ]
  },
  {
   "cell_type": "code",
   "execution_count": null,
   "metadata": {},
   "outputs": [],
   "source": [
    "import ipywidgets as W, traitlets as T, pathlib as P, git as G, yaml, json, ipywidgets.embed as E\n",
    "from tornado.ioloop import IOLoop\n",
    "from tornado.concurrent import run_on_executor\n",
    "from concurrent.futures import ThreadPoolExecutor\n",
    "from wxyz.dvcs import Watcher\n",
    "from pathlib import Path"
   ]
  },
  {
   "cell_type": "markdown",
   "metadata": {},
   "source": [
    "### Base Tracker"
   ]
  },
  {
   "cell_type": "code",
   "execution_count": null,
   "metadata": {},
   "outputs": [],
   "source": [
    "class _Tracker(W.Widget):\n",
    "    executor = ThreadPoolExecutor(max_workers=1)\n",
    "    tracked_widget = T.Instance(W.Widget)\n",
    "    tracked_traits = W.trait_types.TypedTuple(T.Unicode(), allow_none=True, help=\"trait names to track (default all)\")\n",
    "    path = T.Instance(P.Path)\n",
    "    encoding = T.Unicode(\"utf-8\")\n",
    "    change_number = T.Int(0)\n",
    "    __extension__ = None\n",
    "    \n",
    "    async def on_user_change(self):\n",
    "        raise NotImplementedError(\"tracker subclass must implement `async on_user_change`\")\n",
    "    \n",
    "    async def on_file_change(self):\n",
    "        raise NotImplementedError(\"tracker subclass must implement `async on_user_change`\")\n",
    "    \n",
    "    def _on_user_change(self, change):\n",
    "        try:\n",
    "            IOLoop.current().add_callback(self.on_user_change)\n",
    "            self.change_number += 1\n",
    "        except:\n",
    "            pass\n",
    "        \n",
    "    def _on_file_change(self, change):\n",
    "        try:\n",
    "            IOLoop.current().add_callback(self.on_file_change)\n",
    "        except:\n",
    "            pass\n",
    "\n",
    "    @T.observe(\"tracked_widget\")\n",
    "    def _changed_tracked_widget(self, change):\n",
    "        if change.old is not None and isinstance(change.old, W.Widget):\n",
    "            change.old.unobserve(self._on_user_change, self.tracked_traits or T.All)\n",
    "        if change.new is not None:\n",
    "            change.new.observe(self._on_user_change, self.tracked_traits or T.All)\n",
    "            self._on_file_change(None)\n",
    "            \n",
    "    @T.observe(\"tracked_traits\")\n",
    "    def _changed_tracked_traits(self, change):\n",
    "        if self.tracked_widget is None or not isinstance(self.tracked_widget, W.Widget):\n",
    "            return\n",
    "        if change.old is None or isinstance(change.old, tuple):\n",
    "            self.tracked_widget.unobserve(self._on_user_change, change.old or T.All)\n",
    "        if change.new is None or isinstance(change.new, tuple):\n",
    "            self.tracked_widget.observe(self._on_user_change, change.new or T.All)\n",
    "            self._on_file_change(None)\n",
    "    \n",
    "    @classmethod\n",
    "    def _detect_tracker(cls, path, base_cls=None):\n",
    "        \"\"\" naive tracker finder... needs something cleverer\n",
    "        \"\"\"\n",
    "        base_cls = base_cls or _Tracker\n",
    "        \n",
    "        if base_cls.__extension__ and path.name.endswith(base_cls.__extension__):\n",
    "            return base_cls\n",
    "        \n",
    "        subclasses = base_cls.__subclasses__()\n",
    "        \n",
    "        for sub_cls in subclasses:\n",
    "            if sub_cls.__extension__ and path.name.endswith(sub_cls.__extension__):\n",
    "                return sub_cls\n",
    "        \n",
    "        for sub_cls in subclasses:\n",
    "            subsub = cls._detect_tracker(path, sub_cls)\n",
    "            if subsub:\n",
    "                return subsub\n",
    "        \n",
    "        return None"
   ]
  },
  {
   "cell_type": "markdown",
   "metadata": {},
   "source": [
    "### Dict Tracker\n",
    "\n",
    "Store as a dictionary (aka key/value pair, map, hash), or generally vanilla JSON-compatible (no timestamps, etc)."
   ]
  },
  {
   "cell_type": "code",
   "execution_count": null,
   "metadata": {},
   "outputs": [],
   "source": [
    "class _DictTracker(_Tracker):\n",
    "    def dict_from_widget(self):\n",
    "        d = {}\n",
    "        w = self.tracked_widget\n",
    "        if w is not None:\n",
    "            s = E.dependency_state(w)[w.comm.comm_id][\"state\"]\n",
    "            for k in self.tracked_traits or list(s):\n",
    "                d[k] = s.get(k, None)\n",
    "        return d\n",
    "    \n",
    "    def widget_from_dict(self, content):\n",
    "         with self.tracked_widget.hold_trait_notifications():\n",
    "            for trait in self.tracked_traits or self.tracked_widget.trait_names():\n",
    "                if trait in content:\n",
    "                    new_value = content[trait]\n",
    "                    old_value = getattr(self.tracked_widget, trait) \n",
    "                    if new_value != old_value:\n",
    "                        setattr(self.tracked_widget, trait, new_value)"
   ]
  },
  {
   "cell_type": "markdown",
   "metadata": {},
   "source": [
    "### JSON Dict Tracker\n",
    "While not the most naively revision-control-aware format, JSON is widely distributed."
   ]
  },
  {
   "cell_type": "code",
   "execution_count": null,
   "metadata": {},
   "outputs": [],
   "source": [
    "class JSONDictTracker(_DictTracker):\n",
    "    __extension__ = \".json\"\n",
    "    \n",
    "    @run_on_executor\n",
    "    def on_user_change(self):\n",
    "        self.path.write_text(\n",
    "            json.dumps(self.dict_from_widget(), sort_keys=True, indent=True), \n",
    "            encoding=self.encoding\n",
    "        )\n",
    "    \n",
    "    @run_on_executor\n",
    "    def on_file_change(self):\n",
    "        if not self.path.exists():\n",
    "            return\n",
    "        content = self.widget_from_dict(json.loads(self.path.read_text()))"
   ]
  },
  {
   "cell_type": "markdown",
   "metadata": {},
   "source": [
    "### YAML Dict Tracker\n",
    "YAML is somewhat more flexible for change control, but whitespace can be a bummer"
   ]
  },
  {
   "cell_type": "code",
   "execution_count": null,
   "metadata": {},
   "outputs": [],
   "source": [
    "class YAMLDictTracker(_DictTracker):\n",
    "    __extension__ = \".yaml\"\n",
    "    \n",
    "    @run_on_executor\n",
    "    def on_user_change(self):\n",
    "        self.path.write_text(\n",
    "            yaml.safe_dump(self.dict_from_widget(), default_flow_style=False), \n",
    "            encoding=self.encoding\n",
    "        )\n",
    "    \n",
    "    @run_on_executor\n",
    "    def on_file_change(self):\n",
    "        if not self.path.exists():\n",
    "            return\n",
    "\n",
    "        self.widget_from_dict(yaml.safe_load(self.path.read_text()))"
   ]
  }
 ],
 "metadata": {
  "kernelspec": {
   "display_name": "Python 3",
   "language": "python",
   "name": "python3"
  },
  "language_info": {
   "codemirror_mode": {
    "name": "ipython",
    "version": 3
   },
   "file_extension": ".py",
   "mimetype": "text/x-python",
   "name": "python",
   "nbconvert_exporter": "python",
   "pygments_lexer": "ipython3",
   "version": "3.8.5"
  }
 },
 "nbformat": 4,
 "nbformat_minor": 4
}
