{
 "cells": [
  {
   "cell_type": "markdown",
   "metadata": {},
   "source": [
    "## DVCS Tool Prototypes\n",
    "\n",
    "These will eventually move into some dedicated files."
   ]
  },
  {
   "cell_type": "code",
   "execution_count": null,
   "metadata": {},
   "outputs": [],
   "source": [
    "import ipywidgets as W, traitlets as T, pathlib as P, time, pprint\n",
    "from datetime import datetime"
   ]
  },
  {
   "cell_type": "code",
   "execution_count": null,
   "metadata": {},
   "outputs": [],
   "source": [
    "def make_repo_explorer():\n",
    "    return W.HBox([\n",
    "        W.Label(\"History\"),\n",
    "        W.Select(options=[\"origin\", \"collaborator1\"], description=\"remote\", multiple=False, rows=1),\n",
    "        W.Select(options=[\"main\", \"dev\"], description=\"head\", multiple=False, rows=1)\n",
    "    ])\n",
    "make_repo_explorer()"
   ]
  },
  {
   "cell_type": "code",
   "execution_count": null,
   "metadata": {},
   "outputs": [],
   "source": [
    "def default_history_label(c):\n",
    "    return \"\"\"{} by {} at {}\"\"\".format(\n",
    "        c[\"message\"],\n",
    "        c[\"author\"][\"name\"],\n",
    "        datetime.fromtimestamp(c[\"timestamp\"]).isoformat()\n",
    "    )\n",
    "    \n",
    "def make_commit_switcher(repo, selection_cls=W.Dropdown, history_label=default_history_label):\n",
    "    switcher = selection_cls()\n",
    "    revert = W.Button(description=\"Revert\")\n",
    "    def _make_options(head_history):\n",
    "        return [(history_label(c), c[\"commit\"]) for c in head_history]\n",
    "    T.dlink((repo, \"head_history\"), (switcher, \"options\"), _make_options)\n",
    "    def _switch(self):\n",
    "        repo.revert(switcher.value)\n",
    "    revert.on_click(_switch)\n",
    "    return W.HBox([switcher, revert])"
   ]
  }
 ],
 "metadata": {
  "kernelspec": {
   "display_name": "Python 3",
   "language": "python",
   "name": "python3"
  },
  "language_info": {
   "codemirror_mode": {
    "name": "ipython",
    "version": 3
   },
   "file_extension": ".py",
   "mimetype": "text/x-python",
   "name": "python",
   "nbconvert_exporter": "python",
   "pygments_lexer": "ipython3",
   "version": "3.8.5"
  }
 },
 "nbformat": 4,
 "nbformat_minor": 4
}
