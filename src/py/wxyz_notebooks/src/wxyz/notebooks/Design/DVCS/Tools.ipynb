{
 "cells": [
  {
   "cell_type": "markdown",
   "metadata": {},
   "source": [
    "## DVCS Tool Prototypes\n",
    "\n",
    "These will eventually move into some dedicated files."
   ]
  },
  {
   "cell_type": "code",
   "execution_count": null,
   "metadata": {},
   "outputs": [],
   "source": [
    "import ipywidgets as W, traitlets as T, pathlib as P, time, pprint, ruamel_yaml\n",
    "from datetime import datetime"
   ]
  },
  {
   "cell_type": "code",
   "execution_count": null,
   "metadata": {},
   "outputs": [],
   "source": [
    "def make_repo_explorer():\n",
    "    return W.HBox([\n",
    "        W.Label(\"History\"),\n",
    "        W.Select(options=[\"origin\", \"collaborator1\"], description=\"remote\", multiple=False, rows=1),\n",
    "        W.Select(options=[\"main\", \"dev\"], description=\"head\", multiple=False, rows=1)\n",
    "    ])\n",
    "make_repo_explorer()"
   ]
  },
  {
   "cell_type": "code",
   "execution_count": null,
   "metadata": {},
   "outputs": [],
   "source": [
    "def make_actions():\n",
    "    return W.VBox([\n",
    "        W.Label(\"Actions\"), \n",
    "        W.HBox([\n",
    "            W.Label(\"Save\"), \n",
    "            W.HTML(\"<code>+100/-75</code>\", description=\"Δ\"),\n",
    "            W.Text(description=\"Message\", placeholder=\"Updated value.yaml\"),\n",
    "            W.Button(description=\"Save\", icon=\"check\")\n",
    "        ]), \n",
    "        W.HBox([\n",
    "            W.Label(\"Restore\"), \n",
    "            W.Select(options=[\"main\", \"dev\"], description=\"head\", multiple=False, rows=1),\n",
    "            W.SelectionSlider(options=[\"just now\", \"5 minutes ago\"], description=\"history\", multiple=False, rows=1),\n",
    "            W.HTML(\"<code>+100/-75</code>\", description=\"Δ\"),\n",
    "            W.Button(description=\"Revert\", icon=\"refresh\")\n",
    "        ]),\n",
    "    ])\n",
    "make_actions()"
   ]
  },
  {
   "cell_type": "code",
   "execution_count": null,
   "metadata": {},
   "outputs": [],
   "source": []
  }
 ],
 "metadata": {
  "kernelspec": {
   "display_name": "Python 3",
   "language": "python",
   "name": "python3"
  },
  "language_info": {
   "codemirror_mode": {
    "name": "ipython",
    "version": 3
   },
   "file_extension": ".py",
   "mimetype": "text/x-python",
   "name": "python",
   "nbconvert_exporter": "python",
   "pygments_lexer": "ipython3",
   "version": "3.7.8"
  }
 },
 "nbformat": 4,
 "nbformat_minor": 4
}
