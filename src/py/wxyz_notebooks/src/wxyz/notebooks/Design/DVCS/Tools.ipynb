{
 "cells": [
  {
   "cell_type": "markdown",
   "metadata": {},
   "source": [
    "## DVCS Tool Prototypes\n",
    "\n",
    "These will eventually move into some dedicated files."
   ]
  },
  {
   "cell_type": "code",
   "execution_count": null,
   "metadata": {},
   "outputs": [],
   "source": [
    "import ipywidgets as W, traitlets as T, pathlib as P, time, pprint\n",
    "from datetime import datetime"
   ]
  },
  {
   "cell_type": "code",
   "execution_count": null,
   "metadata": {},
   "outputs": [],
   "source": [
    "def make_repo_explorer():\n",
    "    return W.HBox([\n",
    "        W.Label(\"History\"),\n",
    "        W.Select(options=[\"origin\", \"collaborator1\"], description=\"remote\", multiple=False, rows=1),\n",
    "        W.Select(options=[\"main\", \"dev\"], description=\"head\", multiple=False, rows=1)\n",
    "    ])\n",
    "make_repo_explorer()"
   ]
  },
  {
   "cell_type": "code",
   "execution_count": null,
   "metadata": {},
   "outputs": [],
   "source": [
    "def make_actions():\n",
    "    return W.VBox([\n",
    "        W.Label(\"Actions\"), \n",
    "        W.HBox([\n",
    "            W.Label(\"Save\"), \n",
    "            W.HTML(\"<code>+100/-75</code>\", description=\"Δ\"),\n",
    "            W.Text(description=\"Message\", placeholder=\"Updated value.yaml\"),\n",
    "            W.Button(description=\"Save\", icon=\"check\")\n",
    "        ]), \n",
    "        W.HBox([\n",
    "            W.Label(\"Restore\"), \n",
    "            W.Select(options=[\"main\", \"dev\"], description=\"head\", multiple=False, rows=1),\n",
    "            W.SelectionSlider(options=[\"just now\", \"5 minutes ago\"], description=\"history\", multiple=False, rows=1),\n",
    "            W.HTML(\"<code>+100/-75</code>\", description=\"Δ\"),\n",
    "            W.Button(description=\"Revert\", icon=\"refresh\")\n",
    "        ]),\n",
    "    ])\n",
    "make_actions()"
   ]
  },
  {
   "cell_type": "code",
   "execution_count": null,
   "metadata": {},
   "outputs": [],
   "source": [
    "def make_basic_repo_ui(repo):\n",
    "    watch = W.Checkbox(True, description=\"Watch\")\n",
    "    changes = W.HTML()\n",
    "    message = W.Text(placeholder=\"Commit message\")\n",
    "    commit = W.Button(description=\"Commit\")\n",
    "    \n",
    "    def _do_commit(*args):\n",
    "        staged = []\n",
    "        for change in repo.changes:\n",
    "            for path in [\"a_path\", \"b_path\"]:\n",
    "                if change[path] and change[path] not in staged:\n",
    "                    repo.stage(change[path])\n",
    "                    staged += [change[path]]\n",
    "        repo.commit(message.value or message.placeholder)\n",
    "    \n",
    "    commit.on_click(_do_commit)\n",
    "    \n",
    "    def change_html(changes):\n",
    "        if not changes:\n",
    "            message.placeholder = \"Commit message\"\n",
    "            return \"<i>Δ0</i>\"\n",
    "        paths = sum([[change[\"a_path\"], change[\"b_path\"]] for change in changes], [])\n",
    "        paths = sorted(set([p for p in paths if p]))\n",
    "        message.placeholder = f\"\"\"Updated {\", \".join(paths)}\"\"\"\n",
    "\n",
    "        return f\"\"\"<i title=\"{message.placeholder}\">Δ{len(changes)}</i>\"\"\"\n",
    "    \n",
    "        \n",
    "    T.link((watch, \"value\"), (repo, \"watching\"))\n",
    "    T.dlink((repo, \"changes\"), (changes, \"value\"), change_html)\n",
    "    T.dlink((repo, \"changes\"), (commit, \"disabled\"), lambda x: not len(x))\n",
    "    return W.HBox([W.VBox([watch, changes]), W.VBox([message, commit])])"
   ]
  },
  {
   "cell_type": "code",
   "execution_count": null,
   "metadata": {},
   "outputs": [],
   "source": [
    "def make_head_switcher(repo, description=\"Heads\"):\n",
    "    switcher = W.Dropdown(description=description)\n",
    "    refresh = W.Button(icon=\"refresh\")\n",
    "    refresh.on_click(lambda *x: repo._update_heads())\n",
    "    T.dlink((repo, \"heads\"), (switcher, \"options\"))\n",
    "    return W.HBox([switcher, refresh])"
   ]
  },
  {
   "cell_type": "code",
   "execution_count": null,
   "metadata": {},
   "outputs": [],
   "source": [
    "def default_history_label(c):\n",
    "    return \"\"\"{} by {} at {}\"\"\".format(\n",
    "        c[\"message\"],\n",
    "        c[\"author\"][\"name\"],\n",
    "        datetime.fromtimestamp(c[\"timestamp\"]).isoformat()\n",
    "    )\n",
    "    \n",
    "def make_commit_switcher(repo, selection_cls=W.Dropdown, history_label=default_history_label):\n",
    "    switcher = selection_cls()\n",
    "    revert = W.Button(description=\"Revert\")\n",
    "    def _make_options(head_history):\n",
    "        return [(history_label(c), c[\"commit\"]) for c in head_history]\n",
    "    T.dlink((repo, \"head_history\"), (switcher, \"options\"), _make_options)\n",
    "    def _switch(self):\n",
    "        repo.revert(switcher.value)\n",
    "    revert.on_click(_switch)\n",
    "    return W.HBox([switcher, revert])"
   ]
  },
  {
   "cell_type": "code",
   "execution_count": null,
   "metadata": {},
   "outputs": [],
   "source": []
  }
 ],
 "metadata": {
  "kernelspec": {
   "display_name": "Python 3",
   "language": "python",
   "name": "python3"
  },
  "language_info": {
   "codemirror_mode": {
    "name": "ipython",
    "version": 3
   },
   "file_extension": ".py",
   "mimetype": "text/x-python",
   "name": "python",
   "nbconvert_exporter": "python",
   "pygments_lexer": "ipython3",
   "version": "3.8.5"
  }
 },
 "nbformat": 4,
 "nbformat_minor": 4
}
