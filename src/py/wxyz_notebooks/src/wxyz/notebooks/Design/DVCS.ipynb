{
 "cells": [
  {
   "cell_type": "markdown",
   "metadata": {},
   "source": [
    "# DVCS\n",
    "\n",
    "Connect traits to distributed version control systems like `git` and `fossil` to capture changes and metadata over time.\n",
    "\n",
    "> _The initial implementation will be mostly served by the kernel, but a browser-side implementation seems possible_"
   ]
  },
  {
   "cell_type": "markdown",
   "metadata": {},
   "source": [
    "## Wanted: Simple Example\n",
    "\n",
    "It should be easy to link a single widget to a sane on-disk representation. \n",
    "\n",
    "```python\n",
    "import ipywidgets as W\n",
    "from wxyz.dvcs import Repo, WidgetWatcher\n",
    "\n",
    "text = W.Textarea()\n",
    "repo = Repo()\n",
    "repo.watch(text, [\"value\"], \"value.json\")\n",
    "```"
   ]
  },
  {
   "cell_type": "markdown",
   "metadata": {},
   "source": [
    "## Concepts"
   ]
  },
  {
   "cell_type": "markdown",
   "metadata": {},
   "source": [
    "### Repo\n",
    "- Low-level representation of a repo.\n",
    "- Can list \n",
    "  - `Head`\n",
    "  - `Remote`"
   ]
  },
  {
   "cell_type": "markdown",
   "metadata": {},
   "source": [
    "### Remote\n",
    "A remote repo that can be \n",
    "- can list\n",
    "  - `Refs`\n",
    "- (at least) `fetch`\n",
    "- (maybe) `push`ed to\n"
   ]
  },
  {
   "cell_type": "markdown",
   "metadata": {},
   "source": [
    "### Head\n",
    "- a named commit\n",
    "- can list `RepoFile`"
   ]
  },
  {
   "cell_type": "markdown",
   "metadata": {},
   "source": [
    "### RepoFile\n",
    "\n",
    "A file in the repo\n",
    "- can get the value, commi"
   ]
  },
  {
   "cell_type": "markdown",
   "metadata": {},
   "source": [
    "### Diff\n",
    "\n",
    "A diff of two refs"
   ]
  },
  {
   "cell_type": "markdown",
   "metadata": {},
   "source": [
    "## Prototype fiddling"
   ]
  },
  {
   "cell_type": "code",
   "execution_count": null,
   "metadata": {},
   "outputs": [],
   "source": [
    "import ipywidgets as W, traitlets as T, git as G, pathlib as P, time, pprint, ruamel_yaml\n",
    "from datetime import datetime"
   ]
  },
  {
   "cell_type": "code",
   "execution_count": null,
   "metadata": {},
   "outputs": [],
   "source": [
    "def make_repo_explorer():\n",
    "    return W.HBox([\n",
    "        W.Label(\"History\"),\n",
    "        W.Select(options=[\"origin\", \"collaborator1\"], description=\"remote\", multiple=False, rows=1),\n",
    "        W.Select(options=[\"main\", \"dev\"], description=\"head\", multiple=False, rows=1)\n",
    "    ])\n",
    "make_repo_explorer()"
   ]
  },
  {
   "cell_type": "code",
   "execution_count": null,
   "metadata": {},
   "outputs": [],
   "source": [
    "def make_actions():\n",
    "    return W.VBox([\n",
    "        W.Label(\"Actions\"), \n",
    "        W.HBox([\n",
    "            W.Label(\"Save\"), \n",
    "            W.HTML(\"<code>+100/-75</code>\", description=\"Δ\"),\n",
    "            W.Text(description=\"Message\", placeholder=\"Updated value.yaml\"),\n",
    "            W.Button(description=\"Save\", icon=\"check\")\n",
    "        ]), \n",
    "        W.HBox([\n",
    "            W.Label(\"Restore\"), \n",
    "            W.Select(options=[\"main\", \"dev\"], description=\"head\", multiple=False, rows=1),\n",
    "            W.SelectionSlider(options=[\"just now\", \"5 minutes ago\"], description=\"history\", multiple=False, rows=1),\n",
    "            W.HTML(\"<code>+100/-75</code>\", description=\"Δ\"),\n",
    "            W.Button(description=\"Revert\", icon=\"refresh\")\n",
    "        ]),\n",
    "    ])\n",
    "make_actions()"
   ]
  },
  {
   "cell_type": "code",
   "execution_count": null,
   "metadata": {},
   "outputs": [],
   "source": [
    "from wxyz.dvcs import Watcher"
   ]
  },
  {
   "cell_type": "code",
   "execution_count": null,
   "metadata": {},
   "outputs": [],
   "source": [
    "class Commit(W.Widget):\n",
    "    message = T.Unicode()\n",
    "    summary = T.Unicode()\n",
    "    authored = T.Instance(datetime)\n",
    "    committed = T.Instance(datetime)\n",
    "    committer = T.Unicode()\n",
    "    author = T.Unicode()\n",
    "    paths = W.trait_types.TypedTuple(T.Instance(P.Path))"
   ]
  },
  {
   "cell_type": "code",
   "execution_count": null,
   "metadata": {},
   "outputs": [],
   "source": [
    "class Repo(W.Widget):\n",
    "    working_dir = T.Instance(P.Path)\n",
    "    watching = T.Bool(default_value=False)\n",
    "    dirty = T.Bool(default_value=False)\n",
    "    changes = T.Tuple(allow_none=True)\n",
    "    _watcher = T.Instance(Watcher, allow_none=True)\n",
    "    _change_link = None\n",
    "    \n",
    "    def __init__(self, working_dir, *args, **kwargs):\n",
    "        kwargs[\"working_dir\"] = P.Path(kwargs.get(\"working_dir\", working_dir))\n",
    "        super().__init__(*args, **kwargs)\n",
    "    \n",
    "    @T.default(\"changes\")\n",
    "    def _default_changes(self):\n",
    "        return tuple()\n",
    "    \n",
    "    @T.observe(\"watching\", \"path\")\n",
    "    def _on_watching(self, change):\n",
    "        if self._watcher:\n",
    "            if self._change_link:\n",
    "                self._change_link.unlink()\n",
    "                self._change_link = None\n",
    "            self._watcher.watching = False\n",
    "            self._watcher = None\n",
    "        if self.watching:\n",
    "            self._watcher = Watcher(self.working_dir)\n",
    "            self._change_link = T.dlink((self._watcher, \"changes\"), (self, \"changes\"), self._on_watch_changes)\n",
    "            self._watcher.watching = True\n",
    "    \n",
    "    def _on_watch_changes(self, changes):\n",
    "        \"\"\" react to changes from the watcher\n",
    "        \"\"\"\n",
    "        return changes"
   ]
  },
  {
   "cell_type": "code",
   "execution_count": null,
   "metadata": {},
   "outputs": [],
   "source": [
    "class Git(Repo):\n",
    "    _git = T.Instance(G.Repo, allow_none=True)\n",
    "    \n",
    "    @T.observe(\"working_dir\")\n",
    "    def _on_path(self, change):\n",
    "        if change.new:\n",
    "            self._git = G.Repo.init(change.new)\n",
    "        \n",
    "    \n",
    "    def _on_watch_changes(self, changes):\n",
    "        self.dirty = self._git.is_dirty()\n",
    "        return [\n",
    "            dict(\n",
    "                a_path=diff.a_path,\n",
    "                b_path=diff.b_path,\n",
    "                change_type=diff.change_type\n",
    "            )\n",
    "            for diff in self._git.index.diff(None)\n",
    "        ] + [\n",
    "            dict(\n",
    "                a_path=None,\n",
    "                b_path=ut,\n",
    "                change_type=\"U\"\n",
    "            ) for ut in repo._git.untracked_files\n",
    "        ]\n",
    "    \n",
    "    def stage(self, path):\n",
    "        self._git.index.add(path)\n",
    "    \n",
    "    def unstage(self, path):\n",
    "        self._git.index.remove(path)\n",
    "    \n",
    "    def commit(self, message):\n",
    "        self._git.index.commit(message)"
   ]
  },
  {
   "cell_type": "markdown",
   "metadata": {},
   "source": [
    "# A Demo UI"
   ]
  },
  {
   "cell_type": "code",
   "execution_count": null,
   "metadata": {},
   "outputs": [],
   "source": [
    "changes = W.VBox()\n",
    "commit_message = W.Textarea(description=\"message\")\n",
    "path = W.HTML()\n",
    "watching = W.Checkbox(description=\"Watching?\")\n",
    "dirty = W.Checkbox(description=\"Dirty?\", disabled=True)\n",
    "commit = W.Button(description=\"Commit\")"
   ]
  },
  {
   "cell_type": "code",
   "execution_count": null,
   "metadata": {},
   "outputs": [],
   "source": [
    "repo = Git(\"_foo\")"
   ]
  },
  {
   "cell_type": "code",
   "execution_count": null,
   "metadata": {},
   "outputs": [],
   "source": [
    "def make_change(change):\n",
    "    stage = W.Checkbox(description=\"Stage\")\n",
    "    def on_stage(self):\n",
    "        repo.stage(change.b_path or change.a_path)\n",
    "    stage.observe(on_stage, \"value\")\n",
    "    \n",
    "    unstage = W.Checkbox(description=\"Unstage\")\n",
    "    def on_unstage(self):\n",
    "        repo.unstage(change.b_path or change.a_path)\n",
    "    unstage.observe(on_unstage, \"value\")\n",
    "        \n",
    "    return W.HBox([\n",
    "        W.HTML(change.b_path or change.a_path),\n",
    "        stage,\n",
    "        unstage\n",
    "    ])"
   ]
  },
  {
   "cell_type": "code",
   "execution_count": null,
   "metadata": {},
   "outputs": [],
   "source": [
    "def change_to_children(changes):\n",
    "    return list(map(make_change, repo._git.index.diff(None)))"
   ]
  },
  {
   "cell_type": "code",
   "execution_count": null,
   "metadata": {},
   "outputs": [],
   "source": [
    "T.dlink((repo, \"working_dir\"), (path ,\"value\"), \"<code>{}</code>\".format)\n",
    "T.dlink((repo, \"changes\"), (changes, \"children\"), change_to_children)\n",
    "T.link((repo, \"watching\"), (watching, \"value\"))\n",
    "T.dlink((repo, \"dirty\"), (dirty, \"value\"))\n",
    "commit.on_click(lambda x: repo.commit(commit_message.value))"
   ]
  },
  {
   "cell_type": "code",
   "execution_count": null,
   "metadata": {},
   "outputs": [],
   "source": [
    "head = W.HBox([\n",
    "    path,\n",
    "    dirty,\n",
    "    watching\n",
    "])\n",
    "body = W.HBox([\n",
    "    W.VBox([\n",
    "        W.HTML(\"<h2>Uncommitted Changes</h2>\"),\n",
    "        changes\n",
    "    ]),\n",
    "    W.VBox([\n",
    "        W.HTML(\"<h2>Commit</h2>\"),\n",
    "        commit_message,\n",
    "        commit\n",
    "    ])\n",
    "])\n",
    "ui = W.VBox([head, body])\n",
    "ui"
   ]
  },
  {
   "cell_type": "code",
   "execution_count": null,
   "metadata": {},
   "outputs": [],
   "source": [
    "readme = (repo.working_dir / \"README.md\")\n",
    "readme.write_text(f\"# f00: {time.time()}\")"
   ]
  },
  {
   "cell_type": "code",
   "execution_count": null,
   "metadata": {},
   "outputs": [],
   "source": [
    "gitignore = (repo.working_dir / \".gitignore\")\n",
    "gitignore.write_text(\"\"\"\n",
    ".ipynb_checkpoints/\n",
    "\"\"\")"
   ]
  },
  {
   "cell_type": "code",
   "execution_count": null,
   "metadata": {},
   "outputs": [],
   "source": [
    "repo._git.index.add([readme.name,  gitignore.name])"
   ]
  },
  {
   "cell_type": "code",
   "execution_count": null,
   "metadata": {},
   "outputs": [],
   "source": [
    "repo._git.index.commit(f\"woop {time.time()}\")"
   ]
  },
  {
   "cell_type": "code",
   "execution_count": null,
   "metadata": {},
   "outputs": [],
   "source": [
    "diff = repo._git.index.diff(None)[0]"
   ]
  },
  {
   "cell_type": "code",
   "execution_count": null,
   "metadata": {},
   "outputs": [],
   "source": [
    "diff.b_path"
   ]
  },
  {
   "cell_type": "code",
   "execution_count": null,
   "metadata": {},
   "outputs": [],
   "source": [
    "repo._git.index.entries"
   ]
  },
  {
   "cell_type": "code",
   "execution_count": null,
   "metadata": {},
   "outputs": [],
   "source": [
    "repo._git.index.remove([\".gitignore\"])"
   ]
  },
  {
   "cell_type": "code",
   "execution_count": null,
   "metadata": {},
   "outputs": [],
   "source": [
    "repo._git.index.diff(None)"
   ]
  },
  {
   "cell_type": "code",
   "execution_count": null,
   "metadata": {},
   "outputs": [],
   "source": [
    "!cd _foo && git status"
   ]
  },
  {
   "cell_type": "code",
   "execution_count": null,
   "metadata": {},
   "outputs": [],
   "source": [
    "repo._git.index.entries"
   ]
  }
 ],
 "metadata": {
  "kernelspec": {
   "display_name": "Python 3",
   "language": "python",
   "name": "python3"
  },
  "language_info": {
   "codemirror_mode": {
    "name": "ipython",
    "version": 3
   },
   "file_extension": ".py",
   "mimetype": "text/x-python",
   "name": "python",
   "nbconvert_exporter": "python",
   "pygments_lexer": "ipython3",
   "version": "3.7.8"
  }
 },
 "nbformat": 4,
 "nbformat_minor": 4
}
