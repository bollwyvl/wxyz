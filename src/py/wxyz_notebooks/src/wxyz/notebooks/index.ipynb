{
 "cells": [
  {
   "cell_type": "markdown",
   "metadata": {},
   "source": [
    "# WXYZ\n",
    "> _Experimental widgets. Probably don't expect them to keep working right now._\n",
    "\n",
    "Some examples of using `ipywidgets` and JupyterLab a little roughly. \n",
    "\n",
    "> Run the next cell (and check out how you can use JupyterLab commands in trusted output)."
   ]
  },
  {
   "cell_type": "code",
   "execution_count": null,
   "metadata": {},
   "outputs": [],
   "source": [
    "%%html\n",
    "<blockquote>\n",
    "    <a href=\"https://jupyter.org\" data-commandlinker-command=\"notebook:restart-run-all\" >Restart & Run All</a>\n",
    "</blockquote>"
   ]
  },
  {
   "cell_type": "code",
   "execution_count": 2,
   "metadata": {
    "jupyter": {
     "source_hidden": true
    }
   },
   "outputs": [],
   "source": [
    "import importnb\n",
    "with importnb.Notebook():\n",
    "    from wxyz.notebooks.Examples import (\n",
    "        Hello_Worlds, JSON_LD_Playground, JSON_Tricks, Dock_Panel, Full_Screen, SVG, DataGrid, \n",
    "        StyleGrid_I, StyleGrid_II, SelectGrid, JSON_Schema_Form, Terminal, JSON_E,\n",
    "        Editor, Filing\n",
    "    )"
   ]
  },
  {
   "cell_type": "markdown",
   "metadata": {},
   "source": [
    "## Narratives"
   ]
  },
  {
   "cell_type": "markdown",
   "metadata": {},
   "source": [
    "### Hello Worlds\n",
    "[Transform data into markup](./Examples/Hello%20Worlds.ipynb), with various interactive stops along the way.\n",
    "\n",
    "> _See also_:\n",
    "> - _[Tribbles](./Design/Tribbles.ipynb)_"
   ]
  },
  {
   "cell_type": "code",
   "execution_count": 3,
   "metadata": {
    "jupyter": {
     "source_hidden": true
    }
   },
   "outputs": [
    {
     "data": {
      "application/vnd.jupyter.widget-view+json": {
       "model_id": "805eea4f01504d7a983929112a417db1",
       "version_major": 2,
       "version_minor": 0
      },
      "text/plain": [
       "DockBox(children=(Editor(value='{\"planets\": [\\n        {\"name\": \"Alderaan\", \"moons\": [\"That\\'s no Moon...\"]},\\…"
      ]
     },
     "metadata": {},
     "output_type": "display_data"
    }
   ],
   "source": [
    "Hello_Worlds.hello_worlds"
   ]
  },
  {
   "cell_type": "markdown",
   "metadata": {},
   "source": [
    "## Deep Dive: JSON and Friends"
   ]
  },
  {
   "cell_type": "markdown",
   "metadata": {},
   "source": [
    "### JSON Tricks\n",
    "Interactively [learn about JSON](./Examples/JSON%20Tricks.ipynb), Schema, and Pointer."
   ]
  },
  {
   "cell_type": "code",
   "execution_count": 4,
   "metadata": {
    "jupyter": {
     "source_hidden": true
    }
   },
   "outputs": [
    {
     "data": {
      "application/vnd.jupyter.widget-view+json": {
       "model_id": "0c8ff805c47b457b9b44258c794a69cc",
       "version_major": 2,
       "version_minor": 0
      },
      "text/plain": [
       "DockBox(children=(Editor(value='{\"foo\": 1}', config=EditorConfig(mode='json', theme='zenburn'), description='J…"
      ]
     },
     "metadata": {},
     "output_type": "display_data"
    }
   ],
   "source": [
    "JSON_Tricks.json_tricks"
   ]
  },
  {
   "cell_type": "markdown",
   "metadata": {},
   "source": [
    "### JSON Schema Form\n",
    "\n",
    "Build [data-driven forms](./Examples/JSON%20Schema%20Form.ipynb) quickly."
   ]
  },
  {
   "cell_type": "code",
   "execution_count": 5,
   "metadata": {
    "jupyter": {
     "source_hidden": true
    }
   },
   "outputs": [
    {
     "data": {
      "application/vnd.jupyter.widget-view+json": {
       "model_id": "b62bb0ea72fa4c1794cb40fab0c68059",
       "version_major": 2,
       "version_minor": 0
      },
      "text/plain": [
       "DockBox(children=(Editor(value='title: Quest\\ndescription: Answer me these riddles 3... or 4... or...\\ntype: a…"
      ]
     },
     "metadata": {},
     "output_type": "display_data"
    }
   ],
   "source": [
    "f1, fb1 = JSON_Schema_Form.make_a_json_schema_form_playground()\n",
    "fb1"
   ]
  },
  {
   "cell_type": "markdown",
   "metadata": {},
   "source": [
    "### JSON-E\n",
    "\n",
    "[Transform JSON](./Examples/JSON-E.ipynb), with JSON. "
   ]
  },
  {
   "cell_type": "code",
   "execution_count": 6,
   "metadata": {
    "jupyter": {
     "source_hidden": true
    }
   },
   "outputs": [
    {
     "data": {
      "application/vnd.jupyter.widget-view+json": {
       "model_id": "c818ef387f4f482294ce80cc5be43ebd",
       "version_major": 2,
       "version_minor": 0
      },
      "text/plain": [
       "DockBox(children=(Editor(value='message: hello ${key}\\nk=${num}: true', config=EditorConfig(mode='yaml-e', the…"
      ]
     },
     "metadata": {},
     "output_type": "display_data"
    }
   ],
   "source": [
    "je1 = JSON_E.make_a_json_e_playground()\n",
    "je1"
   ]
  },
  {
   "cell_type": "markdown",
   "metadata": {},
   "source": [
    "### JSON-LD\n",
    "A [recreation](./Examples/JSON-LD%20Playground.ipynb) of the [JSON-LD Playground](https://json-ld.org/playground/)."
   ]
  },
  {
   "cell_type": "code",
   "execution_count": 7,
   "metadata": {
    "jupyter": {
     "source_hidden": true
    }
   },
   "outputs": [
    {
     "data": {
      "application/vnd.jupyter.widget-view+json": {
       "model_id": "17d5635247a248b7abec0be1edde95c1",
       "version_major": 2,
       "version_minor": 0
      },
      "text/plain": [
       "DockBox(children=(Editor(value=None, config=EditorConfig(mode='application/ld+json', theme='material'), descri…"
      ]
     },
     "metadata": {},
     "output_type": "display_data"
    }
   ],
   "source": [
    "JSON_LD_Playground.jsonld_playground"
   ]
  },
  {
   "cell_type": "markdown",
   "metadata": {},
   "source": [
    "## Deep Dive: HTML and Friends"
   ]
  },
  {
   "cell_type": "markdown",
   "metadata": {},
   "source": [
    "### FileBox\n",
    "\n",
    "The [upstream `ipywidgets.FileUpload`](https://ipywidgets.readthedocs.io/en/latest/examples/Widget%20List.html#File-Upload) should probably be used."
   ]
  },
  {
   "cell_type": "markdown",
   "metadata": {},
   "source": [
    "### Full Screen\n",
    "[Full screen widgets](./Examples/Full%20Screen.ipynb) on <kbd>Click</kbd> or <kbd>Ctrl+Click</kbd>, rebooted from `ipylayoutwidgets`."
   ]
  },
  {
   "cell_type": "code",
   "execution_count": 8,
   "metadata": {
    "jupyter": {
     "source_hidden": true
    }
   },
   "outputs": [
    {
     "data": {
      "application/vnd.jupyter.widget-view+json": {
       "model_id": "101b49fde924441fb79ece8dd18a0417",
       "version_major": 2,
       "version_minor": 0
      },
      "text/plain": [
       "Fullscreen(children=(FloatSlider(value=0.0, layout=Layout(flex='1', height='100%'), max=1.1, min=-1.1, orienta…"
      ]
     },
     "metadata": {},
     "output_type": "display_data"
    }
   ],
   "source": [
    "Full_Screen.sine"
   ]
  },
  {
   "cell_type": "markdown",
   "metadata": {},
   "source": [
    "<a name=\"svg\"/>\n",
    "\n",
    "### SVG\n",
    "\n",
    "Another crossover from `ipylayoutwidgets`. Put some [widgets where you want them on an SVG](./Examples/SVG.ipynb) loaded from a file made in [Inkscape](https://inkscape.org/), or [some other source](https://svgwrite.readthedocs.io)."
   ]
  },
  {
   "cell_type": "code",
   "execution_count": 9,
   "metadata": {
    "jupyter": {
     "source_hidden": true
    }
   },
   "outputs": [
    {
     "data": {
      "application/vnd.jupyter.widget-view+json": {
       "model_id": "57990acc89b24d989e0fcb425730be59",
       "version_major": 2,
       "version_minor": 0
      },
      "text/plain": [
       "Fullscreen(children=(VBox(children=(HBox(children=(Checkbox(value=True, description='show SVG'), HTML(value=\"a…"
      ]
     },
     "metadata": {},
     "output_type": "display_data"
    }
   ],
   "source": [
    "Full_Screen.Fullscreen([SVG.app])"
   ]
  },
  {
   "cell_type": "markdown",
   "metadata": {},
   "source": [
    "### FileBox\n",
    "\n",
    "`FileBox` puts [files on the page](./Exmaples/Filing.ipynb) from the kernel or browser.}"
   ]
  },
  {
   "cell_type": "code",
   "execution_count": 10,
   "metadata": {
    "jupyter": {
     "source_hidden": true
    }
   },
   "outputs": [
    {
     "data": {
      "application/vnd.jupyter.widget-view+json": {
       "model_id": "802d7a9397aa4d9db60e2d255ff3643d",
       "version_major": 2,
       "version_minor": 0
      },
      "text/plain": [
       "DockBox(children=(Output(layout=Layout(width='100%')), FileBox(accept=('*.json', '*.ipynb', '*.jsonld'), child…"
      ]
     },
     "metadata": {},
     "output_type": "display_data"
    }
   ],
   "source": [
    "Filing.app"
   ]
  },
  {
   "cell_type": "markdown",
   "metadata": {},
   "source": [
    "## Deep Dive: JupyterLab, Lumino and Friends"
   ]
  },
  {
   "cell_type": "markdown",
   "metadata": {},
   "source": [
    "### Dock Panel\n",
    "A partial [interactive data model](./Examples/Dock%20Panel.ipynb) for the Lumino [Dock Panel](https://jupyterlab.github.io/lumino/widgets/classes/dockpanel.html)."
   ]
  },
  {
   "cell_type": "code",
   "execution_count": 11,
   "metadata": {
    "jupyter": {
     "source_hidden": true
    }
   },
   "outputs": [
    {
     "data": {
      "application/vnd.jupyter.widget-view+json": {
       "model_id": "d4b25dc277bf4b1482f1ead88c2037d6",
       "version_major": 2,
       "version_minor": 0
      },
      "text/plain": [
       "DockBox(children=(FloatSlider(value=72.0, description='🙈', max=79.0, min=1.0, orientation='vertical'), FloatSl…"
      ]
     },
     "metadata": {},
     "output_type": "display_data"
    }
   ],
   "source": [
    "Dock_Panel.resizable_dock"
   ]
  },
  {
   "cell_type": "markdown",
   "metadata": {},
   "source": [
    "### Dock Pop\n",
    "Like a `DockPanel`, but just puts stuff into the JupyterLab main area. "
   ]
  },
  {
   "cell_type": "code",
   "execution_count": 12,
   "metadata": {
    "jupyter": {
     "source_hidden": true
    }
   },
   "outputs": [
    {
     "data": {
      "application/vnd.jupyter.widget-view+json": {
       "model_id": "bf9cc6a9dbd74faaa1b2eed0ccb4765b",
       "version_major": 2,
       "version_minor": 0
      },
      "text/plain": [
       "HBox(children=(Text(value='', description='New Slider', placeholder='Slider Name'), RadioButtons(description='…"
      ]
     },
     "metadata": {},
     "output_type": "display_data"
    }
   ],
   "source": [
    "Dock_Panel.make_a_slider"
   ]
  },
  {
   "cell_type": "markdown",
   "metadata": {},
   "source": [
    "### Editor\n",
    "\n",
    "Build [custom editors](./Examples/Editor.ipynb) with CodeMirror. "
   ]
  },
  {
   "cell_type": "code",
   "execution_count": 13,
   "metadata": {
    "jupyter": {
     "source_hidden": true
    }
   },
   "outputs": [
    {
     "data": {
      "application/vnd.jupyter.widget-view+json": {
       "model_id": "605d366cf5fe47a8a595d5ae03d406ca",
       "version_major": 2,
       "version_minor": 0
      },
      "text/plain": [
       "HBox(children=(VBox(children=(SelectionSlider(description='mode', options=('ipython',), value='ipython'), Sele…"
      ]
     },
     "metadata": {},
     "output_type": "display_data"
    }
   ],
   "source": [
    "editor = Editor.app\n",
    "editor"
   ]
  },
  {
   "cell_type": "markdown",
   "metadata": {},
   "source": [
    "### Terminal\n",
    "\n",
    "Create [text-based displays](./Examples/Terminal.ipynb) with xtermjs."
   ]
  },
  {
   "cell_type": "code",
   "execution_count": 14,
   "metadata": {
    "jupyter": {
     "source_hidden": true
    }
   },
   "outputs": [
    {
     "data": {
      "application/vnd.jupyter.widget-view+json": {
       "model_id": "f82cff4d6831479c8c4690a35252873f",
       "version_major": 2,
       "version_minor": 0
      },
      "text/plain": [
       "DockBox(children=(Terminal(description='Terminal 0', theme={'foreground': '#fff', 'background': '#000', 'curso…"
      ]
     },
     "metadata": {},
     "output_type": "display_data"
    }
   ],
   "source": [
    "term = Terminal.make_a_fancy_terminal_demo()\n",
    "term"
   ]
  },
  {
   "cell_type": "markdown",
   "metadata": {},
   "source": [
    "### DataGrid\n",
    "[Interact with tabular data](](./Examples/DataGrid.ipynb)) using the Lumino [Data Grid](https://jupyterlab.github.io/lumino/datagrid/classes/datagrid.html)."
   ]
  },
  {
   "cell_type": "code",
   "execution_count": 15,
   "metadata": {
    "jupyter": {
     "source_hidden": true
    }
   },
   "outputs": [
    {
     "data": {
      "application/vnd.jupyter.widget-view+json": {
       "model_id": "fc15df077d9946e19900b6119f8b2827",
       "version_major": 2,
       "version_minor": 0
      },
      "text/plain": [
       "VBox(children=(interactive(children=(IntSlider(value=500, description='rows', max=1000, min=1), IntSlider(valu…"
      ]
     },
     "metadata": {},
     "output_type": "display_data"
    }
   ],
   "source": [
    "dg1 = DataGrid.make_grid()\n",
    "dg1"
   ]
  },
  {
   "cell_type": "markdown",
   "metadata": {},
   "source": [
    "### Style Grid\n",
    "\n",
    "[Project data](./Examples/StyleGrid%202.ipynb) onto a DataGrid."
   ]
  },
  {
   "cell_type": "code",
   "execution_count": 16,
   "metadata": {
    "jupyter": {
     "source_hidden": true
    }
   },
   "outputs": [
    {
     "data": {
      "application/vnd.jupyter.widget-view+json": {
       "model_id": "009f5bcd1b76463bbf5351bc8bceb527",
       "version_major": 2,
       "version_minor": 0
      },
      "text/plain": [
       "DockBox(children=(VBox(children=(StyleGrid(grid_style=GridStyle(backgroundColor='rgba(0,0,0,0.0)', columnBackg…"
      ]
     },
     "metadata": {},
     "output_type": "display_data"
    }
   ],
   "source": [
    "sgi = StyleGrid_I.make_style_grid_i_remix()\n",
    "sgi"
   ]
  },
  {
   "cell_type": "markdown",
   "metadata": {},
   "source": [
    "### TextFormatter"
   ]
  },
  {
   "cell_type": "code",
   "execution_count": 17,
   "metadata": {
    "jupyter": {
     "source_hidden": true
    }
   },
   "outputs": [
    {
     "data": {
      "application/vnd.jupyter.widget-view+json": {
       "model_id": "cbbcfbe8ba8441a6a92e619d0f2ce531",
       "version_major": 2,
       "version_minor": 0
      },
      "text/plain": [
       "DockBox(children=(VBox(children=(StyleGrid(grid_style=GridStyle(backgroundColor='rgba(0,0,0,0.0)', cursorBorde…"
      ]
     },
     "metadata": {},
     "output_type": "display_data"
    }
   ],
   "source": [
    "dg2 = StyleGrid_II.make_style_grid_ii()\n",
    "dg2"
   ]
  },
  {
   "cell_type": "markdown",
   "metadata": {},
   "source": [
    "### SelectGrid\n",
    "\n",
    "Use [multiple selections and linked grids](./Examples/SelectGrid.ipynb)."
   ]
  },
  {
   "cell_type": "code",
   "execution_count": 18,
   "metadata": {
    "jupyter": {
     "source_hidden": true
    }
   },
   "outputs": [
    {
     "data": {
      "application/vnd.jupyter.widget-view+json": {
       "model_id": "a5c7fcf5968b4ecfbfa25055cde2ccc4",
       "version_major": 2,
       "version_minor": 0
      },
      "text/plain": [
       "DockBox(children=(VBox(children=(IntSlider(value=500, description='rows', max=1000, min=1), IntSlider(value=50…"
      ]
     },
     "metadata": {},
     "output_type": "display_data"
    }
   ],
   "source": [
    "pg3 = SelectGrid.make_select_grid()\n",
    "pg3"
   ]
  },
  {
   "cell_type": "code",
   "execution_count": 19,
   "metadata": {},
   "outputs": [
    {
     "name": "stdout",
     "output_type": "stream",
     "text": [
      "thanks for watching!\n"
     ]
    }
   ],
   "source": [
    "print(\"thanks for watching!\")"
   ]
  }
 ],
 "metadata": {
  "kernelspec": {
   "display_name": "Python 3",
   "language": "python",
   "name": "python3"
  },
  "language_info": {
   "codemirror_mode": {
    "name": "ipython",
    "version": 3
   },
   "file_extension": ".py",
   "mimetype": "text/x-python",
   "name": "python",
   "nbconvert_exporter": "python",
   "pygments_lexer": "ipython3",
   "version": "3.8.6"
  },
  "toc-autonumbering": true
 },
 "nbformat": 4,
 "nbformat_minor": 4
}
