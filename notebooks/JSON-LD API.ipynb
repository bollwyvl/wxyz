{
 "cells": [
  {
   "cell_type": "code",
   "execution_count": null,
   "metadata": {},
   "outputs": [],
   "source": [
    "from ipywxyz import Expand, Compact, Flatten, Frame, Normalize\n",
    "from pyld import jsonld"
   ]
  },
  {
   "cell_type": "code",
   "execution_count": null,
   "metadata": {},
   "outputs": [],
   "source": [
    "ctx = {\n",
    "    \"@context\": {\n",
    "        \"@vocab\": \"http://schema.org/\",\n",
    "        \"schema\": \"http://schema.org/\"\n",
    "    }\n",
    "}\n",
    "\n",
    "doc = {\n",
    "    **ctx,\n",
    "    \"@type\": \"Person\",\n",
    "    \"name\": \"Jane Doe\",\n",
    "    \"jobTitle\": \"Professor\",\n",
    "    \"telephone\": \"(425) 123-4567\",\n",
    "    \"url\": \"http://www.janedoe.com\"\n",
    "}\n",
    "good_frame = {\n",
    "    **ctx,\n",
    "    \"name\": \"Jane Doe\"\n",
    "}\n",
    "bad_frame = {\n",
    "    **ctx,\n",
    "    \"name\": \"Dane Joe\"\n",
    "}"
   ]
  },
  {
   "cell_type": "code",
   "execution_count": null,
   "metadata": {},
   "outputs": [],
   "source": [
    "expand = Expand({\n",
    "    \"http://schema.org/name\": \"Manu Sporny\",\n",
    "    \"http://schema.org/url\": {\"@id\": \"http://manu.sporny.org/\"},\n",
    "    \"http://schema.org/image\": {\"@id\": \"http://manu.sporny.org/images/manu.png\"}\n",
    "})\n",
    "expand.value"
   ]
  },
  {
   "cell_type": "code",
   "execution_count": null,
   "metadata": {},
   "outputs": [],
   "source": [
    "Compact(doc, context=ctx).value"
   ]
  },
  {
   "cell_type": "code",
   "execution_count": null,
   "metadata": {},
   "outputs": [],
   "source": [
    "Flatten(doc).value"
   ]
  },
  {
   "cell_type": "code",
   "execution_count": null,
   "metadata": {},
   "outputs": [],
   "source": [
    "Frame(doc, frame=good_frame).value"
   ]
  },
  {
   "cell_type": "code",
   "execution_count": null,
   "metadata": {},
   "outputs": [],
   "source": [
    "Frame(doc, frame=bad_frame).value"
   ]
  },
  {
   "cell_type": "code",
   "execution_count": null,
   "metadata": {},
   "outputs": [],
   "source": [
    "normalized = Normalize(doc)\n",
    "normalized.error, normalized.value"
   ]
  }
 ],
 "metadata": {
  "kernelspec": {
   "display_name": "Python 3",
   "language": "python",
   "name": "python3"
  },
  "language_info": {
   "codemirror_mode": {
    "name": "ipython",
    "version": 3
   },
   "file_extension": ".py",
   "mimetype": "text/x-python",
   "name": "python",
   "nbconvert_exporter": "python",
   "pygments_lexer": "ipython3",
   "version": "3.7.1"
  }
 },
 "nbformat": 4,
 "nbformat_minor": 2
}
