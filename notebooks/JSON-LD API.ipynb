{
 "cells": [
  {
   "cell_type": "code",
   "execution_count": 1,
   "metadata": {},
   "outputs": [],
   "source": [
    "from ipywxyz import Expand, Compact, Flatten, Frame, Normalize\n",
    "from pyld import jsonld"
   ]
  },
  {
   "cell_type": "code",
   "execution_count": 2,
   "metadata": {},
   "outputs": [],
   "source": [
    "ctx = {\n",
    "    \"@context\": {\n",
    "        \"@vocab\": \"http://schema.org/\",\n",
    "        \"schema\": \"http://schema.org/\"\n",
    "    }\n",
    "}\n",
    "\n",
    "doc = {\n",
    "    **ctx,\n",
    "    \"@type\": \"Person\",\n",
    "    \"name\": \"Jane Doe\",\n",
    "    \"jobTitle\": \"Professor\",\n",
    "    \"telephone\": \"(425) 123-4567\",\n",
    "    \"url\": \"http://www.janedoe.com\"\n",
    "}\n",
    "good_frame = {\n",
    "    **ctx,\n",
    "    \"name\": \"Jane Doe\"\n",
    "}\n",
    "bad_frame = {\n",
    "    **ctx,\n",
    "    \"name\": \"Dane Joe\"\n",
    "}"
   ]
  },
  {
   "cell_type": "code",
   "execution_count": 3,
   "metadata": {},
   "outputs": [
    {
     "data": {
      "text/plain": [
       "[{'http://schema.org/image': [{'@id': 'http://manu.sporny.org/images/manu.png'}],\n",
       "  'http://schema.org/name': [{'@value': 'Manu Sporny'}],\n",
       "  'http://schema.org/url': [{'@id': 'http://manu.sporny.org/'}]}]"
      ]
     },
     "execution_count": 3,
     "metadata": {},
     "output_type": "execute_result"
    }
   ],
   "source": [
    "expand = Expand({\n",
    "    \"http://schema.org/name\": \"Manu Sporny\",\n",
    "    \"http://schema.org/url\": {\"@id\": \"http://manu.sporny.org/\"},\n",
    "    \"http://schema.org/image\": {\"@id\": \"http://manu.sporny.org/images/manu.png\"}\n",
    "})\n",
    "expand.value"
   ]
  },
  {
   "cell_type": "code",
   "execution_count": 4,
   "metadata": {},
   "outputs": [
    {
     "data": {
      "text/plain": [
       "{'@context': {'@vocab': 'http://schema.org/', 'schema': 'http://schema.org/'},\n",
       " '@type': 'Person',\n",
       " 'jobTitle': 'Professor',\n",
       " 'name': 'Jane Doe',\n",
       " 'telephone': '(425) 123-4567',\n",
       " 'url': 'http://www.janedoe.com'}"
      ]
     },
     "execution_count": 4,
     "metadata": {},
     "output_type": "execute_result"
    }
   ],
   "source": [
    "Compact(doc, context=ctx).value"
   ]
  },
  {
   "cell_type": "code",
   "execution_count": 5,
   "metadata": {},
   "outputs": [
    {
     "data": {
      "text/plain": [
       "{'@graph': [{'@id': '_:b0',\n",
       "   '@type': 'http://schema.org/Person',\n",
       "   'http://schema.org/jobTitle': 'Professor',\n",
       "   'http://schema.org/name': 'Jane Doe',\n",
       "   'http://schema.org/telephone': '(425) 123-4567',\n",
       "   'http://schema.org/url': 'http://www.janedoe.com'}]}"
      ]
     },
     "execution_count": 5,
     "metadata": {},
     "output_type": "execute_result"
    }
   ],
   "source": [
    "Flatten(doc).value"
   ]
  },
  {
   "cell_type": "code",
   "execution_count": 6,
   "metadata": {},
   "outputs": [
    {
     "data": {
      "text/plain": [
       "{'@context': {'@vocab': 'http://schema.org/', 'schema': 'http://schema.org/'},\n",
       " '@graph': [{'@type': 'Person',\n",
       "   'jobTitle': 'Professor',\n",
       "   'name': 'Jane Doe',\n",
       "   'telephone': '(425) 123-4567',\n",
       "   'url': 'http://www.janedoe.com'}]}"
      ]
     },
     "execution_count": 6,
     "metadata": {},
     "output_type": "execute_result"
    }
   ],
   "source": [
    "Frame(doc, frame=good_frame).value"
   ]
  },
  {
   "cell_type": "code",
   "execution_count": 7,
   "metadata": {},
   "outputs": [
    {
     "data": {
      "text/plain": [
       "{'@context': {'@vocab': 'http://schema.org/', 'schema': 'http://schema.org/'},\n",
       " '@graph': [{'@type': 'Person',\n",
       "   'jobTitle': 'Professor',\n",
       "   'name': None,\n",
       "   'telephone': '(425) 123-4567',\n",
       "   'url': 'http://www.janedoe.com'}]}"
      ]
     },
     "execution_count": 7,
     "metadata": {},
     "output_type": "execute_result"
    }
   ],
   "source": [
    "Frame(doc, frame=bad_frame).value"
   ]
  },
  {
   "cell_type": "code",
   "execution_count": 8,
   "metadata": {},
   "outputs": [
    {
     "data": {
      "text/plain": [
       "('',\n",
       " '_:c14n0 <http://schema.org/jobTitle> \"Professor\" .\\n_:c14n0 <http://schema.org/name> \"Jane Doe\" .\\n_:c14n0 <http://schema.org/telephone> \"(425) 123-4567\" .\\n_:c14n0 <http://schema.org/url> \"http://www.janedoe.com\" .\\n_:c14n0 <http://www.w3.org/1999/02/22-rdf-syntax-ns#type> <http://schema.org/Person> .\\n')"
      ]
     },
     "execution_count": 8,
     "metadata": {},
     "output_type": "execute_result"
    }
   ],
   "source": [
    "normalized = Normalize(doc)\n",
    "normalized.error, normalized.value"
   ]
  }
 ],
 "metadata": {
  "kernelspec": {
   "display_name": "Python 3",
   "language": "python",
   "name": "python3"
  },
  "language_info": {
   "codemirror_mode": {
    "name": "ipython",
    "version": 3
   },
   "file_extension": ".py",
   "mimetype": "text/x-python",
   "name": "python",
   "nbconvert_exporter": "python",
   "pygments_lexer": "ipython3",
   "version": "3.7.1"
  }
 },
 "nbformat": 4,
 "nbformat_minor": 2
}
