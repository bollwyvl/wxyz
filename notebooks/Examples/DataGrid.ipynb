{
 "cells": [
  {
   "cell_type": "markdown",
   "metadata": {},
   "source": [
    "# DataGrid"
   ]
  },
  {
   "cell_type": "code",
   "execution_count": null,
   "metadata": {},
   "outputs": [],
   "source": [
    "import pandas as pd, traitlets as T, ipywidgets as W\n",
    "from wxyz.datagrid.widget_datagrid import DataGrid"
   ]
  },
  {
   "cell_type": "code",
   "execution_count": null,
   "metadata": {},
   "outputs": [],
   "source": [
    "def make_grid(GridClass=DataGrid, df=None, container=W.VBox):\n",
    "    dg = GridClass(layout=dict(height=\"60vh\", flex=\"1\"))\n",
    "    rando = None\n",
    "    if df is not None:\n",
    "        dg.value = df\n",
    "    else:\n",
    "        with W.Output():\n",
    "            @W.interact\n",
    "            def rando(rows=(1, 1000), cols=(1, 1000)):\n",
    "                dg.value = pd.np.random.rand(rows, cols)\n",
    "    pg = container([*([rando.widget] if rando else []), dg], layout=dict(flex=\"1\"))\n",
    "    pg.dg = dg\n",
    "    return pg"
   ]
  },
  {
   "cell_type": "code",
   "execution_count": null,
   "metadata": {},
   "outputs": [],
   "source": [
    "if __name__ == \"__main__\":\n",
    "    display(make_grid())"
   ]
  },
  {
   "cell_type": "code",
   "execution_count": null,
   "metadata": {},
   "outputs": [],
   "source": []
  }
 ],
 "metadata": {
  "kernelspec": {
   "display_name": "Python 3",
   "language": "python",
   "name": "python3"
  },
  "language_info": {
   "codemirror_mode": {
    "name": "ipython",
    "version": 3
   },
   "file_extension": ".py",
   "mimetype": "text/x-python",
   "name": "python",
   "nbconvert_exporter": "python",
   "pygments_lexer": "ipython3",
   "version": "3.7.3"
  }
 },
 "nbformat": 4,
 "nbformat_minor": 2
}
