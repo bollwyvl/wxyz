{
 "cells": [
  {
   "cell_type": "markdown",
   "metadata": {},
   "source": [
    "# DataGrid"
   ]
  },
  {
   "cell_type": "code",
   "execution_count": null,
   "metadata": {},
   "outputs": [],
   "source": [
    "from ipywxyz import DataGrid, AlphaColorPicker, TextRenderer\n",
    "from ipywxyz.widgets.widget_datagrid import FixedFunc\n",
    "import pandas as pd, traitlets as T, ipywidgets as W"
   ]
  },
  {
   "cell_type": "code",
   "execution_count": null,
   "metadata": {},
   "outputs": [],
   "source": [
    "def make_grid():\n",
    "    dg = DataGrid(layout=dict(height=\"400px\", flex=\"1\"))\n",
    "\n",
    "    with W.Output():\n",
    "        @W.interact\n",
    "        def data(rows=(1, 1000), cols=(1, 1000)):\n",
    "            dg.value = pd.DataFrame((pd.np.arange(rows * cols) / 100.0).reshape((rows, cols)))\n",
    "    x = W.IntSlider(description='scroll x')\n",
    "    y = W.IntSlider(description='scroll y', orientation='vertical')\n",
    "    rs = W.IntSlider(description='row height', orientation='vertical')\n",
    "    cs = W.IntSlider(description='column width')\n",
    "    hr = W.HTML()\n",
    "    hc = W.HTML()\n",
    "\n",
    "    T.link((x, \"value\"), (dg, \"scroll_x\"))\n",
    "    T.dlink((dg, \"max_x\"), (x, \"max\"))\n",
    "    T.link((y, \"value\"), (dg, \"scroll_y\"))\n",
    "    T.dlink((dg, \"max_y\"), (y, \"max\"))\n",
    "    T.link((dg, \"row_size\"), (rs, \"value\"))\n",
    "    T.link((dg, \"column_size\"), (cs, \"value\"))\n",
    "    T.dlink((dg, \"hover_row\"), (hr, \"value\"), \"row {}\".format)\n",
    "    T.dlink((dg, \"hover_column\"), (hc, \"value\"), \"column {}\".format)\n",
    "    colors = [ \n",
    "        [p, T.link((dg, t), (p, \"value\"))][0]\n",
    "        for t in dg.traits().keys()\n",
    "        for p in [AlphaColorPicker(description=t.replace('_color', '').replace('_', ' '))]\n",
    "        if t.endswith('_color')\n",
    "    ]\n",
    "    grid_playground = W.HBox([\n",
    "        W.VBox([\n",
    "            W.HBox([W.VBox([hr, hc]), x, cs, data.widget]), \n",
    "            dg, \n",
    "        ], layout=dict(flex=\"1\")),\n",
    "        W.VBox([y, rs, *colors]), \n",
    "    ])\n",
    "    grid_playground.dg = dg\n",
    "    return grid_playground"
   ]
  },
  {
   "cell_type": "code",
   "execution_count": null,
   "metadata": {},
   "outputs": [],
   "source": [
    "grid_playground = make_grid()\n",
    "grid_playground"
   ]
  },
  {
   "cell_type": "markdown",
   "metadata": {},
   "source": [
    "Cell renderers are still a work-in-progress."
   ]
  },
  {
   "cell_type": "code",
   "execution_count": null,
   "metadata": {},
   "outputs": [],
   "source": [
    "grid_renderer_playground = make_grid()\n",
    "btn = W.Button(description=\"Custom Renderers\")\n",
    "def _btn_click(*_):\n",
    "    grid_renderer_playground.dg.cell_renderers = []\n",
    "\n",
    "    dg = grid_renderer_playground.dg\n",
    "    with dg.hold_trait_notifications():\n",
    "        dg.grid_line_color = dg.background_color = dg.header_background_color = dg.header_grid_line_color = 'rgba(0, 0, 0, 0)'\n",
    "        dg.void_color = \"black\"\n",
    "        dg.row_size = 40\n",
    "\n",
    "        grid_renderer_playground.dg.cell_renderers = [\n",
    "            TextRenderer(text_color=\"#ccc\", font=\"14px sans-serif\", format_func=FixedFunc(digits=1)),\n",
    "            TextRenderer(text_color=\"#fff\", font=\"bold 14px sans-serif\", region=\"row-header\"),\n",
    "            TextRenderer(text_color=\"#2196f3\", font=\"bold 24px sans-serif\", region=\"column-header\")\n",
    "        ]\n",
    "btn.on_click(_btn_click)\n",
    "grid_renderer_playground.children = (btn,) + grid_renderer_playground.children\n",
    "grid_renderer_playground"
   ]
  }
 ],
 "metadata": {
  "kernelspec": {
   "display_name": "Python 3",
   "language": "python",
   "name": "python3"
  },
  "language_info": {
   "codemirror_mode": {
    "name": "ipython",
    "version": 3
   },
   "file_extension": ".py",
   "mimetype": "text/x-python",
   "name": "python",
   "nbconvert_exporter": "python",
   "pygments_lexer": "ipython3",
   "version": "3.7.2"
  }
 },
 "nbformat": 4,
 "nbformat_minor": 2
}
