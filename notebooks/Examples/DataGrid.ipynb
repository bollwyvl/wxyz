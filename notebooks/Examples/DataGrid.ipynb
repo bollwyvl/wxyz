{
 "cells": [
  {
   "cell_type": "markdown",
   "metadata": {},
   "source": [
    "# DataGrid"
   ]
  },
  {
   "cell_type": "code",
   "execution_count": null,
   "metadata": {},
   "outputs": [],
   "source": [
    "from ipywxyz import DataGrid, AlphaColorPicker\n",
    "import pandas as pd, traitlets as T, ipywidgets as W"
   ]
  },
  {
   "cell_type": "code",
   "execution_count": null,
   "metadata": {},
   "outputs": [],
   "source": [
    "dg = DataGrid(layout=dict(height=\"400px\", flex=\"1\"))\n",
    "\n",
    "with W.Output():\n",
    "    @W.interact\n",
    "    def data(rows=(1, 1000), cols=(1, 1000)):\n",
    "        dg.value = pd.DataFrame(pd.np.arange(rows * cols).reshape((rows, cols)))\n",
    "x = W.IntSlider(description='scroll x')\n",
    "y = W.IntSlider(description='scroll y', orientation='vertical')\n",
    "rs = W.IntSlider(description='row height', orientation='vertical')\n",
    "cs = W.IntSlider(description='column width')\n",
    "hr = W.HTML()\n",
    "hc = W.HTML()\n",
    "\n",
    "T.link((x, \"value\"), (dg, \"scroll_x\"))\n",
    "T.dlink((dg, \"max_x\"), (x, \"max\"))\n",
    "T.link((y, \"value\"), (dg, \"scroll_y\"))\n",
    "T.dlink((dg, \"max_y\"), (y, \"max\"))\n",
    "T.link((dg, \"row_size\"), (rs, \"value\"))\n",
    "T.link((dg, \"column_size\"), (cs, \"value\"))\n",
    "T.dlink((dg, \"hover_row\"), (hr, \"value\"), \"row {}\".format)\n",
    "T.dlink((dg, \"hover_column\"), (hc, \"value\"), \"column {}\".format)\n",
    "colors = [ \n",
    "    [p, T.link((dg, t), (p, \"value\"))][0]\n",
    "    for t in dg.traits().keys()\n",
    "    for p in [AlphaColorPicker(description=t.replace('_color', '').replace('_', ' '))]\n",
    "    if t.endswith('_color')\n",
    "]\n",
    "grid_playground = W.HBox([\n",
    "    W.VBox([\n",
    "        W.HBox([W.VBox([hr, hc]), x, cs, data.widget]), \n",
    "        dg, \n",
    "    ], layout=dict(flex=\"1\")),\n",
    "    W.VBox([y, rs, *colors]), \n",
    "])"
   ]
  },
  {
   "cell_type": "code",
   "execution_count": null,
   "metadata": {},
   "outputs": [],
   "source": [
    "grid_playground"
   ]
  }
 ],
 "metadata": {
  "kernelspec": {
   "display_name": "Python 3",
   "language": "python",
   "name": "python3"
  },
  "language_info": {
   "codemirror_mode": {
    "name": "ipython",
    "version": 3
   },
   "file_extension": ".py",
   "mimetype": "text/x-python",
   "name": "python",
   "nbconvert_exporter": "python",
   "pygments_lexer": "ipython3",
   "version": "3.7.2"
  }
 },
 "nbformat": 4,
 "nbformat_minor": 2
}
