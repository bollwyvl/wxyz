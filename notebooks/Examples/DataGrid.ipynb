{
 "cells": [
  {
   "cell_type": "markdown",
   "metadata": {},
   "source": [
    "# DataGrid"
   ]
  },
  {
   "cell_type": "code",
   "execution_count": 12,
   "metadata": {},
   "outputs": [],
   "source": [
    "import pandas as pd\n",
    "from ipywxyz import DataGrid\n",
    "from ipywxyz.widgets.widget_datagrid import MoreColorPicker\n",
    "import traitlets as T, ipywidgets as W"
   ]
  },
  {
   "cell_type": "code",
   "execution_count": 23,
   "metadata": {},
   "outputs": [],
   "source": [
    "dg = DataGrid(layout=dict(height=\"400px\", flex=\"1\"))\n",
    "\n",
    "with W.Output():\n",
    "    @W.interact\n",
    "    def data(rows=(1, 1000), cols=(1, 1000)):\n",
    "        dg.value = pd.DataFrame(pd.np.arange(rows * cols).reshape((rows, cols)))\n",
    "x = W.IntSlider(description='x')\n",
    "y = W.IntSlider(description='y', orientation='vertical')\n",
    "rs = W.IntSlider(description='row height', orientation='vertical')\n",
    "cs = W.IntSlider(description='column width')\n",
    "\n",
    "T.link((x, \"value\"), (dg, \"x\"))\n",
    "T.dlink((dg, \"max_x\"), (x, \"max\"))\n",
    "T.link((y, \"value\"), (dg, \"y\"))\n",
    "T.dlink((dg, \"max_y\"), (y, \"max\"))\n",
    "T.link((dg, \"row_size\"), (rs, \"value\"))\n",
    "T.link((dg, \"column_size\"), (cs, \"value\"))\n",
    "colors = [ \n",
    "    [p, T.link((dg, t), (p, \"value\"))][0]\n",
    "    for t in dg.traits().keys()\n",
    "    for p in [MoreColorPicker(description=t.replace('_color', '').replace('_', ' '))]\n",
    "    if t.endswith('_color')\n",
    "]\n",
    "grid_playground = W.HBox([W.VBox([y, rs]), W.VBox([W.HBox([x, cs, data.widget]), dg, W.HBox(colors)], layout=dict(flex=\"1\"))])"
   ]
  },
  {
   "cell_type": "code",
   "execution_count": 24,
   "metadata": {},
   "outputs": [
    {
     "data": {
      "application/vnd.jupyter.widget-view+json": {
       "model_id": "f859c33c4b894ed097d2615341484add",
       "version_major": 2,
       "version_minor": 0
      },
      "text/plain": [
       "HBox(children=(VBox(children=(IntSlider(value=0, description='y', max=0, orientation='vertical'), IntSlider(va…"
      ]
     },
     "metadata": {},
     "output_type": "display_data"
    }
   ],
   "source": [
    "grid_playground"
   ]
  }
 ],
 "metadata": {
  "kernelspec": {
   "display_name": "Python 3",
   "language": "python",
   "name": "python3"
  },
  "language_info": {
   "codemirror_mode": {
    "name": "ipython",
    "version": 3
   },
   "file_extension": ".py",
   "mimetype": "text/x-python",
   "name": "python",
   "nbconvert_exporter": "python",
   "pygments_lexer": "ipython3",
   "version": "3.7.2"
  }
 },
 "nbformat": 4,
 "nbformat_minor": 2
}
