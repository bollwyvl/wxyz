{
 "cells": [
  {
   "cell_type": "markdown",
   "metadata": {},
   "source": [
    "# JSON Schema Form's UI Schema\n",
    "One quirk of [react-jsonschema-form](https://react-jsonschema-form.readthedocs.io) is it's `uiSchema`,\n",
    "which ironically is _not_ constrained by a JSON schema.\n",
    "\n",
    "Since it _is_ unconstrained, we can add whatever we like: in this case, a schema for `uiSchema` that could generate part of a applies `@detahbeds/jupyterlab-rjsf`'s CodeMirror mode."
   ]
  },
  {
   "cell_type": "code",
   "execution_count": 152,
   "metadata": {},
   "outputs": [
    {
     "name": "stdout",
     "output_type": "stream",
     "text": [
      "Collecting package metadata (current_repodata.json): done\n",
      "Solving environment: done\n",
      "\n",
      "## Package Plan ##\n",
      "\n",
      "  environment location: /home/weg/projects/deathbeds/wxyz/envs/default\n",
      "\n",
      "  added / updated specs:\n",
      "    - requests_cache\n",
      "\n",
      "\n",
      "The following NEW packages will be INSTALLED:\n",
      "\n",
      "  requests_cache     conda-forge/noarch::requests_cache-0.4.13-py_0\n",
      "\n",
      "\n",
      "Preparing transaction: done\n",
      "Verifying transaction: done\n",
      "Executing transaction: done\n"
     ]
    }
   ],
   "source": [
    "!conda install -yc conda-forge requests_cache"
   ]
  },
  {
   "cell_type": "code",
   "execution_count": 169,
   "metadata": {},
   "outputs": [],
   "source": [
    "import requests, lxml.etree as etree, requests_cache, bleach\n",
    "requests_cache.install_cache(\"codemirror-schema-form\")"
   ]
  },
  {
   "cell_type": "code",
   "execution_count": 180,
   "metadata": {},
   "outputs": [
    {
     "data": {
      "text/plain": [
       "{'value': {'description': 'The starting value of the editor. Can be a string, or\\n      a <a href=\"#api_doc\">document object</a>.\\n\\n      ',\n",
       "  'type': ['string']},\n",
       " 'mode': {'description': 'The mode to use. When not given, this will default to the\\n      first mode that was loaded. It may be a string, which either\\n      simply names the mode or is\\n      a <a href=\"http://en.wikipedia.org/wiki/MIME\">MIME</a> type\\n      associated with the mode. The value <code>\"null\"</code>\\n      indicates no highlighting should be applied. Alternatively, it\\n      may be an object containing configuration options for the mode,\\n      with a <code>name</code> property that names the mode (for\\n      example <code>{name: \"javascript\", json: true}</code>). The demo\\n      pages for each mode contain information about what configuration\\n      parameters the mode supports. You can ask CodeMirror which modes\\n      and MIME types have been defined by inspecting\\n      the <code>CodeMirror.modes</code>\\n      and <code>CodeMirror.mimeModes</code> objects. The first maps\\n      mode names to their constructors, and the second maps MIME types\\n      to mode specs.\\n\\n      ',\n",
       "  'type': ['string']},\n",
       " 'lineSeparator': {'description': 'Explicitly set the line separator for the editor. By default\\n      (value <code>null</code>), the document will be split on CRLFs\\n      as well as lone CRs and LFs, and a single LF will be used as\\n      line separator in all output (such\\n      as <a href=\"#getValue\"><code>getValue</code></a>). When a\\n      specific string is given, lines will only be split on that\\n      string, and output will, by default, use that same\\n      separator.\\n\\n      ',\n",
       "  'type': ['string']},\n",
       " 'theme': {'description': 'The theme to style the editor with. You must make sure the\\n      CSS file defining the corresponding <code>.cm-s-[name]</code>\\n      styles is loaded (see\\n      the <a href=\"../theme/\"><code>theme</code></a> directory in the\\n      distribution). The default is <code>\"default\"</code>, for which\\n      colors are included in <code>codemirror.css</code>. It is\\n      possible to use multiple theming classes at once&#8212;for\\n      example <code>\"foo bar\"</code> will assign both\\n      the <code>cm-s-foo</code> and the <code>cm-s-bar</code> classes\\n      to the editor.\\n\\n      ',\n",
       "  'type': ['string']},\n",
       " 'smartIndent': {'description': 'Whether to use the context-sensitive indentation that the\\n      mode provides (or just indent the same as the line before).\\n      Defaults to true.\\n\\n      ',\n",
       "  'type': ['boolean']},\n",
       " 'indentWithTabs': {'description': 'Whether, when indenting, the first N*<code>tabSize</code>\\n      spaces should be replaced by N tabs. Default is false.\\n\\n      ',\n",
       "  'type': ['boolean']},\n",
       " 'electricChars': {'description': 'Configures whether the editor should re-indent the current\\n      line when a character is typed that might change its proper\\n      indentation (only works if the mode supports indentation).\\n      Default is true.\\n\\n      ',\n",
       "  'type': ['boolean']},\n",
       " 'rtlMoveVisually': {'description': 'Determines whether horizontal cursor movement through\\n      right-to-left (Arabic, Hebrew) text is visual (pressing the left\\n      arrow moves the cursor left) or logical (pressing the left arrow\\n      moves to the next lower index in the string, which is visually\\n      right in right-to-left text). The default is <code>false</code>\\n      on Windows, and <code>true</code> on other platforms.\\n\\n      ',\n",
       "  'type': ['boolean']},\n",
       " 'keyMap': {'description': 'Configures the key map to use. The default\\n      is <code>\"default\"</code>, which is the only key map defined\\n      in <code>codemirror.js</code> itself. Extra key maps are found in\\n      the <a href=\"../keymap/\"><code>key map</code></a> directory. See\\n      the <a href=\"#keymaps\">section on key maps</a> for more\\n      information.\\n\\n      ',\n",
       "  'type': ['string']},\n",
       " 'extend': {'description': 'Whether to extend the existing selection range or start\\n          a new one. By default, this is enabled when shift\\n          clicking.\\n          ',\n",
       "  'type': [None]},\n",
       " 'addNew': {'description': 'When enabled, this adds a new range to the existing\\n          selection, rather than replacing it. The default behavior is\\n          to enable this for command-click on Mac OS, and\\n          control-click on other platforms.\\n          ',\n",
       "  'type': [None]},\n",
       " 'moveOnDrag': {'description': 'When the mouse even drags content around inside the\\n          editor, this controls whether it is copied (false) or moved\\n          (true). By default, this is enabled by alt-clicking on Mac\\n          OS, and ctrl-clicking elsewhere.\\n        ',\n",
       "  'type': [None]},\n",
       " 'lineWrapping': {'description': 'Whether CodeMirror should scroll or wrap for long lines.\\n      Defaults to <code>false</code> (scroll).\\n\\n      ',\n",
       "  'type': ['boolean']},\n",
       " 'lineNumbers': {'description': 'Whether to show line numbers to the left of the editor.\\n\\n      ',\n",
       "  'type': ['boolean']},\n",
       " 'fixedGutter': {'description': 'Determines whether the gutter scrolls along with the content\\n      horizontally (false) or whether it stays fixed during horizontal\\n      scrolling (true, the default).\\n\\n      ',\n",
       "  'type': ['boolean']},\n",
       " 'scrollbarStyle': {'description': 'Chooses a scrollbar implementation. The default\\n      is <code>\"native\"</code>, showing native scrollbars. The core\\n      library also provides the <code>\"null\"</code> style, which\\n      completely hides the\\n      scrollbars. <a href=\"#addon_simplescrollbars\">Addons</a> can\\n      implement additional scrollbar models.\\n\\n      ',\n",
       "  'type': ['string']},\n",
       " 'coverGutterNextToScrollbar': {'description': 'When <a href=\"#option_fixedGutter\"><code>fixedGutter</code></a>\\n      is on, and there is a horizontal scrollbar, by default the\\n      gutter will be visible to the left of this scrollbar. If this\\n      option is set to true, it will be covered by an element with\\n      class <code>CodeMirror-gutter-filler</code>.\\n\\n      ',\n",
       "  'type': ['boolean']},\n",
       " 'inputStyle': {'description': 'Selects the way CodeMirror handles input and focus. The core\\n      library defines the <code>\"textarea\"</code>\\n      and <code>\"contenteditable\"</code> input models. On mobile\\n      browsers, the default is <code>\"contenteditable\"</code>. On\\n      desktop browsers, the default is <code>\"textarea\"</code>.\\n      Support for IME and screen readers is better in\\n      the <code>\"contenteditable\"</code> model. The intention is to\\n      make it the default on modern desktop browsers in the\\n      future.\\n\\n      ',\n",
       "  'type': ['string']},\n",
       " 'readOnly': {'description': 'This disables editing of the editor content by the user. If\\n      the special value <code>\"nocursor\"</code> is given (instead of\\n      simply <code>true</code>), focusing of the editor is also\\n      disallowed.\\n\\n      ',\n",
       "  'type': ['boolean', 'string']},\n",
       " 'screenReaderLabel': {'description': 'This label is read by the screenreaders when CodeMirror text area is focused. This\\n      is helpful for accessibility.\\n\\n      ',\n",
       "  'type': ['string']},\n",
       " 'showCursorWhenSelecting': {'description': 'Whether the cursor should be drawn when a selection is\\n      active. Defaults to false.\\n\\n      ',\n",
       "  'type': ['boolean']},\n",
       " 'lineWiseCopyCut': {'description': 'When enabled, which is the default, doing copy or cut when\\n      there is no selection will copy or cut the whole lines that have\\n      cursors on them.\\n\\n      ',\n",
       "  'type': ['boolean']},\n",
       " 'pasteLinesPerSelection': {'description': 'When pasting something from an external source (not from the\\n      editor itself), if the number of lines matches the number of\\n      selection, CodeMirror will by default insert one line per\\n      selection. You can set this to <code>false</code> to disable\\n      that behavior.\\n\\n      ',\n",
       "  'type': ['boolean']},\n",
       " 'selectionsMayTouch': {'description': 'Determines whether multiple selections are joined as soon as\\n      they touch (the default) or only when they overlap (true).\\n\\n      ',\n",
       "  'type': ['boolean']},\n",
       " 'autofocus': {'description': 'Can be used to make CodeMirror focus itself on\\n      initialization. Defaults to off.\\n      When <a href=\"#fromTextArea\"><code>fromTextArea</code></a> is\\n      used, and no explicit value is given for this option, it will be\\n      set to true when either the source textarea is focused, or it\\n      has an <code>autofocus</code> attribute and no other element is\\n      focused.\\n\\n      ',\n",
       "  'type': ['boolean']},\n",
       " 'dragDrop': {'description': 'Controls whether drag-and-drop is enabled. On by default.\\n\\n      ',\n",
       "  'type': ['boolean']},\n",
       " 'resetSelectionOnContextMenu': {'description': 'Controls whether, when the context menu is opened with a\\n      click outside of the current selection, the cursor is moved to\\n      the point of the click. Defaults to <code>true</code>.\\n\\n      ',\n",
       "  'type': ['boolean']},\n",
       " 'flattenSpans': {'description': 'By default, CodeMirror will combine adjacent tokens into a\\n      single span if they have the same class. This will result in a\\n      simpler DOM tree, and thus perform better. With some kinds of\\n      styling (such as rounded corners), this will change the way the\\n      document looks. You can set this option to false to disable this\\n      behavior.\\n\\n      ',\n",
       "  'type': ['boolean']},\n",
       " 'addModeClass': {'description': 'When enabled (off by default), an extra CSS class will be\\n      added to each token, indicating the\\n      (<a href=\"#innerMode\">inner</a>) mode that produced it, prefixed\\n      with <code>\"cm-m-\"</code>. For example, tokens from the XML mode\\n      will get the <code>cm-m-xml</code> class.\\n\\n      ',\n",
       "  'type': ['boolean']},\n",
       " 'spellcheck': {'description': 'Specifies whether or not spellcheck will be enabled on the input.\\n\\n      ',\n",
       "  'type': ['boolean']},\n",
       " 'autocorrect': {'description': 'Specifies whether or not autocorrect will be enabled on the input.\\n\\n      ',\n",
       "  'type': ['boolean']},\n",
       " 'autocapitalize': {'description': 'Specifies whether or not autocapitalization will be enabled on the input.\\n    ',\n",
       "  'type': ['boolean']}}"
      ]
     },
     "execution_count": 180,
     "metadata": {},
     "output_type": "execute_result"
    }
   ],
   "source": [
    "doc = etree.HTML(requests.get(\"https://codemirror.net/doc/manual.html#config\").text)\n",
    "clean = lambda x: x if x in ['string', 'boolean'] else 'boolean' if x in ['boolean'] else None\n",
    "easy_cm_options = {\n",
    "    e.text: {\n",
    "        \"description\": bleach.clean(etree.tostring(e.getparent()\n",
    "            .getparent()\n",
    "            .getnext()).decode(\"utf-8\").replace('<dd>', '').replace('</dd>', '')),\n",
    "        \"type\": [\n",
    "            clean(arg.strip()) \n",
    "            for arg in etree\n",
    "                .tostring(e.getparent())\n",
    "                .decode(\"utf-8\")\n",
    "                .replace(\"</code>\", \"\")\n",
    "                .split(\":\")[1]\n",
    "                .split('|')\n",
    "            if arg.strip() in ['string', 'boolean', 'bool']\n",
    "        ]\n",
    "    } \n",
    "    for e in doc.xpath(\"\"\"//*[@id='config']//strong\"\"\")\n",
    "}\n",
    "easy_cm_options = {\n",
    "    k: v\n",
    "    for k, v in easy_cm_options.items()\n",
    "    if v[\"type\"]\n",
    "}\n",
    "easy_cm_options"
   ]
  },
  {
   "cell_type": "code",
   "execution_count": 181,
   "metadata": {},
   "outputs": [],
   "source": [
    "cm_schema = {\n",
    "    \"type\": \"object\", \n",
    "    \"title\": \"CodeMirror Options\",\n",
    "    \"description\": \"CodeMirror JSON properties to initialize inside a JSON Schema Form https://codemirror.net/doc/manual.html#config\",\n",
    "    \"properties\": {\n",
    "         # TODO: automate discovery\n",
    "        \"theme\": {\n",
    "            \"type\": \"string\",\n",
    "            \"enum\": [\"zenburn\", \"the-matrix\", \"material\"],\n",
    "            \"default\": \"zenburn\"\n",
    "        },\n",
    "        \"lineNumbers\": {\n",
    "            \"type\": \"boolean\",\n",
    "            \"default\": True\n",
    "        },\n",
    "        \"spellcheck\": {\n",
    "            \"type\": \"boolean\",\n",
    "            \"default\": True\n",
    "        },\n",
    "        \"inputStyle\": {\n",
    "            \"type\": \"string\",\n",
    "            \"enum\": [\"contenteditable\", \"textarea\"],\n",
    "            \"default\": \"contenteditable\"\n",
    "        },\n",
    "        **easy_cm_options\n",
    "    }\n",
    "}"
   ]
  },
  {
   "cell_type": "code",
   "execution_count": 182,
   "metadata": {},
   "outputs": [],
   "source": [
    "with __import__(\"importnb\").Notebook():\n",
    "    import JSON_Schema_Form"
   ]
  },
  {
   "cell_type": "code",
   "execution_count": 183,
   "metadata": {
    "collapsed": true,
    "jupyter": {
     "outputs_hidden": true
    }
   },
   "outputs": [
    {
     "data": {
      "application/vnd.jupyter.widget-view+json": {
       "model_id": "abc5ab63fd6e45e8a1f5336b63696468",
       "version_major": 2,
       "version_minor": 0
      },
      "text/plain": [
       "JSONSchemaForm(schema={'type': 'object', 'title': 'CodeMirror Options', 'description': 'CodeMirror JSON proper…"
      ]
     },
     "metadata": {},
     "output_type": "display_data"
    }
   ],
   "source": [
    "cm_schema_form = JSON_Schema_Form.JSONSchemaForm(schema=cm_schema)\n",
    "cm_schema_form"
   ]
  },
  {
   "cell_type": "code",
   "execution_count": 33,
   "metadata": {},
   "outputs": [],
   "source": [
    "box.children += tuple([cm_schema_form])"
   ]
  },
  {
   "cell_type": "code",
   "execution_count": null,
   "metadata": {},
   "outputs": [],
   "source": [
    "%%html\n",
    "<style>\n",
    ".jp-SchemaForm > .form-group.field.field-object {\n",
    "    display: flex;\n",
    "    flex-direction: column;\n",
    "}\n",
    ".form-group.field {\n",
    "    display: flex;\n",
    "    flex: 1;\n",
    "    flex-direction: row;\n",
    "    max-width: 25%;\n",
    "}\n",
    ".form-group.field > * {\n",
    "    flex: 1;\n",
    "}\n",
    "fieldset {\n",
    "    display: flex;\n",
    "    flex-direction: row;\n",
    "    flex-wrap: wrap;\n",
    "}\n",
    "</style>"
   ]
  },
  {
   "cell_type": "code",
   "execution_count": null,
   "metadata": {},
   "outputs": [],
   "source": []
  }
 ],
 "metadata": {
  "kernelspec": {
   "display_name": "Python 3",
   "language": "python",
   "name": "python3"
  },
  "language_info": {
   "codemirror_mode": {
    "name": "ipython",
    "version": 3
   },
   "file_extension": ".py",
   "mimetype": "text/x-python",
   "name": "python",
   "nbconvert_exporter": "python",
   "pygments_lexer": "ipython3",
   "version": "3.7.6"
  }
 },
 "nbformat": 4,
 "nbformat_minor": 4
}
