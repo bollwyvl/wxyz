{
 "cells": [
  {
   "cell_type": "markdown",
   "metadata": {},
   "source": [
    "# SelectGrid"
   ]
  },
  {
   "cell_type": "code",
   "execution_count": null,
   "metadata": {},
   "outputs": [],
   "source": [
    "import pandas as pd, traitlets as T, ipywidgets as W\n",
    "from ipywxyz import SelectGrid, DockBox"
   ]
  },
  {
   "cell_type": "code",
   "execution_count": null,
   "metadata": {},
   "outputs": [],
   "source": [
    "flex = dict(layout=dict(flex=\"1\"))"
   ]
  },
  {
   "cell_type": "code",
   "execution_count": null,
   "metadata": {},
   "outputs": [],
   "source": [
    "def make_select_grid(GridClass=SelectGrid, df=None):\n",
    "    pg = DockBox(layout=dict(height=\"60vh\"))\n",
    "    dg = pg.dg = GridClass()\n",
    "    dg2 = pg.dg2 = GridClass()\n",
    "    dg3 = pg.dg3 = GridClass()\n",
    "    \n",
    "    rando = None\n",
    "    if df is not None:\n",
    "        dg.value = df\n",
    "    else:\n",
    "        with W.Output():\n",
    "            @W.interact\n",
    "            def rando(rows=(1, 1000), cols=(1, 1000)):\n",
    "                dg.value = pd.np.random.rand(rows, cols)\n",
    "    x, y = [\n",
    "        [\n",
    "            W.jslink((w, \"value\"), (dg, f\"scroll_{v}\")),\n",
    "            W.jslink((pg.dg, f\"max_{v}\"), (w, \"max\")),\n",
    "            w,\n",
    "        ][-1]\n",
    "        for i, v in enumerate(\"xy\")\n",
    "        for w in [W.IntSlider(description=f\"${v}$\", layout=dict(flex=\"1\"))] \n",
    "    ]\n",
    "    \n",
    "    def _slice(c):\n",
    "        s = dg.selection\n",
    "        dg2.value = dg.value.iloc[s[2]: s[3]+ 1, s[0]:s[1] + 1]\n",
    "    \n",
    "    dg.observe(_slice, [\"selection\", \"value\"])\n",
    "    \n",
    "    def _slice2(c):\n",
    "        s = dg2.selection\n",
    "        dg3.value = dg2.value.iloc[s[2]: s[3]+ 1, s[0]:s[1] + 1]\n",
    "    \n",
    "    dg2.observe(_slice2, [\"selection\", \"value\"])\n",
    "    \n",
    "    pg.children = [\n",
    "        W.VBox([*(rando.widget.children if rando else []), x, y]), \n",
    "        dg, \n",
    "        dg2,\n",
    "        dg3\n",
    "    ]\n",
    "    dg.description = \"dataset\"\n",
    "    dg2.description = \"subset\"\n",
    "    dg3.description = \"sub-subset\"\n",
    "    pg.hide_tabs = True\n",
    "    @pg.on_displayed\n",
    "    def on_display(*args, **kwargs):\n",
    "        pg.dock_layout = {'type': 'split-area',\n",
    " 'orientation': 'horizontal',\n",
    " 'children': [{'type': 'tab-area', 'widgets': [1], 'currentIndex': 0},\n",
    "  {'type': 'tab-area', 'widgets': [2], 'currentIndex': 0},\n",
    "  {'type': 'split-area',\n",
    "   'orientation': 'vertical',\n",
    "   'children': [{'type': 'tab-area', 'widgets': [3], 'currentIndex': 0},\n",
    "    {'type': 'tab-area', 'widgets': [0], 'currentIndex': 0}],\n",
    "   'sizes': [0.6, 0.4]}],\n",
    " 'sizes': [0.41894974454222295, 0.24771692212444382, 0.3333333333333333]}\n",
    "    return pg"
   ]
  },
  {
   "cell_type": "code",
   "execution_count": null,
   "metadata": {},
   "outputs": [],
   "source": [
    "if __name__ == \"__main__\":\n",
    "    pg = make_select_grid()\n",
    "    display(pg)"
   ]
  }
 ],
 "metadata": {
  "kernelspec": {
   "display_name": "Python 3",
   "language": "python",
   "name": "python3"
  },
  "language_info": {
   "codemirror_mode": {
    "name": "ipython",
    "version": 3
   },
   "file_extension": ".py",
   "mimetype": "text/x-python",
   "name": "python",
   "nbconvert_exporter": "python",
   "pygments_lexer": "ipython3",
   "version": "3.7.2"
  }
 },
 "nbformat": 4,
 "nbformat_minor": 2
}
