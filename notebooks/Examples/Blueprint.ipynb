{
 "cells": [
  {
   "cell_type": "code",
   "execution_count": null,
   "metadata": {},
   "outputs": [],
   "source": [
    "import pandas"
   ]
  },
  {
   "cell_type": "code",
   "execution_count": null,
   "metadata": {},
   "outputs": [],
   "source": [
    "from wxyz.lab.widget_blueprint import T, W, Icon, Button "
   ]
  },
  {
   "cell_type": "markdown",
   "metadata": {},
   "source": [
    "# Icon\n",
    "`ipywidgets` ships with an `Icon` class that will accept any of (some version) of FontAwesome icons. JupyterLab 1.x also includes the [Blueprint icons](https://blueprintjs.com/docs/#icons). There's probably an opportunity to make both work, e.g. an `IconSet`."
   ]
  },
  {
   "cell_type": "code",
   "execution_count": null,
   "metadata": {},
   "outputs": [],
   "source": [
    "icons = pandas.read_json(\"https://unpkg.com/@blueprintjs/icons@3.10.0/resources/icons/icons.json\").set_index(\"iconName\")"
   ]
  },
  {
   "cell_type": "code",
   "execution_count": null,
   "metadata": {},
   "outputs": [],
   "source": [
    "def make_an_icon_explorer(icon=None):\n",
    "    \n",
    "    if icon is None:\n",
    "        icon = Icon()\n",
    "    out = W.Output()\n",
    "    \n",
    "    icon_combo = W.Select(options=sorted(icons.index), rows=1)\n",
    "    group = W.Select(options=[\"<all>\"] + sorted(set(icons[\"group\"])), rows=1)\n",
    "    display_name = W.Text(description=\"Display Name\", disabled=True)\n",
    "    T.dlink(\n",
    "        (group, \"value\"), (icon_combo, \"options\"), \n",
    "        lambda group: sorted(set(icons[icons[\"group\"] == group].index)) if group != \"<all>\" else sorted(icons.index)\n",
    "    )\n",
    "        \n",
    "    with out:\n",
    "        @W.interact(\n",
    "            group=group,\n",
    "            icon=icon_combo,\n",
    "            display_name=display_name,\n",
    "            size=W.IntSlider(100, min=8, max=256),\n",
    "            **{c: W.IntSlider(255, max=255) for c in \"red green blue\".split(\" \")}, \n",
    "            alpha=W.FloatSlider(1, min=0, max=1))\n",
    "        def icon_explorer(**kwargs):\n",
    "            display_name.value = icons.loc[kwargs[\"icon\"]].displayName\n",
    "            with icon.hold_trait_notifications():\n",
    "                icon.icon = kwargs[\"icon\"]\n",
    "                icon.color = \"rgba({red},{green},{blue},{alpha})\".format(**kwargs)\n",
    "                icon.icon_size = kwargs[\"size\"]\n",
    "    \n",
    "    return out, icon"
   ]
  },
  {
   "cell_type": "code",
   "execution_count": null,
   "metadata": {},
   "outputs": [],
   "source": [
    "if __name__ == \"__main__\":\n",
    "    explorer, icon = make_an_icon_explorer()\n",
    "    display(W.HBox([explorer, icon]))"
   ]
  },
  {
   "cell_type": "code",
   "execution_count": null,
   "metadata": {},
   "outputs": [],
   "source": [
    "icon.color = \"var(--jp-ui-font-color1)\""
   ]
  },
  {
   "cell_type": "markdown",
   "metadata": {},
   "source": [
    "# Button\n",
    "[Blueprint buttons](https://blueprintjs.com/docs/#core/components/button) provide a number of features."
   ]
  },
  {
   "cell_type": "code",
   "execution_count": null,
   "metadata": {},
   "outputs": [],
   "source": [
    "def make_a_button_explorer(btn=None):\n",
    "    btn = btn or Button()\n",
    "    \n",
    "    icon = btn.icon if isinstance(btn.icon, Icon) else Icon(btn.icon)\n",
    "    icon_right = btn.icon_right if isinstance(btn.icon_right, Icon) else Icon(btn.icon_right) \n",
    "    icon_explorer, btn.icon = make_an_icon_explorer(icon)\n",
    "    icon_explorer_right, btn.icon_right = make_an_icon_explorer(icon_right)\n",
    "    \n",
    "    btn.icon, btn.icon_right = icon, icon_right\n",
    "    \n",
    "    out = W.Output()\n",
    "    \n",
    "    with out:\n",
    "        @W.interact\n",
    "        def a_button(description=\"A Button\", minimal=False, large=False, small=False, loading=False):\n",
    "            with btn.hold_trait_notifications():\n",
    "                btn.description = description\n",
    "                btn.minimal = minimal\n",
    "                btn.large = large\n",
    "                btn.small = small\n",
    "                btn.loading = loading\n",
    "    \n",
    "    return btn, icon_explorer, out, icon_explorer_right"
   ]
  },
  {
   "cell_type": "code",
   "execution_count": null,
   "metadata": {},
   "outputs": [],
   "source": [
    "if __name__ == \"__main__\":\n",
    "    btn_widgets = make_a_button_explorer()\n",
    "    display(\n",
    "        W.VBox([\n",
    "            W.HBox(btn_widgets[1:]),\n",
    "            btn_widgets[0],\n",
    "        ])\n",
    "    )"
   ]
  }
 ],
 "metadata": {
  "kernelspec": {
   "display_name": "Python 3",
   "language": "python",
   "name": "python3"
  },
  "language_info": {
   "codemirror_mode": {
    "name": "ipython",
    "version": 3
   },
   "file_extension": ".py",
   "mimetype": "text/x-python",
   "name": "python",
   "nbconvert_exporter": "python",
   "pygments_lexer": "ipython3",
   "version": "3.7.3"
  }
 },
 "nbformat": 4,
 "nbformat_minor": 4
}
