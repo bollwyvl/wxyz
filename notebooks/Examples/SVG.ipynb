{
 "cells": [
  {
   "cell_type": "code",
   "execution_count": null,
   "metadata": {},
   "outputs": [],
   "source": [
    "from ipywxyz.widgets.widget_svg import SVGBox, W, T, Path\n",
    "from ipywxyz import Fullscreen"
   ]
  },
  {
   "cell_type": "code",
   "execution_count": null,
   "metadata": {},
   "outputs": [],
   "source": [
    "example = Path(\"example.svg\") if Path(\"example.svg\").exists() else Path(\"Examples\", \"example.svg\")"
   ]
  },
  {
   "cell_type": "code",
   "execution_count": null,
   "metadata": {},
   "outputs": [],
   "source": [
    "svg = Fullscreen([SVGBox(\n",
    "    [W.FloatSlider(description=x, orientation='vertical') for x in \"xyz\"],\n",
    "    svg_file=str(example),\n",
    "    area_widgets=dict(x=0, y=1, z=2)\n",
    ")])\n",
    "svg"
   ]
  }
 ],
 "metadata": {
  "kernelspec": {
   "display_name": "Python 3",
   "language": "python",
   "name": "python3"
  },
  "language_info": {
   "codemirror_mode": {
    "name": "ipython",
    "version": 3
   },
   "file_extension": ".py",
   "mimetype": "text/x-python",
   "name": "python",
   "nbconvert_exporter": "python",
   "pygments_lexer": "ipython3",
   "version": "3.7.1"
  }
 },
 "nbformat": 4,
 "nbformat_minor": 2
}
