{
 "cells": [
  {
   "cell_type": "code",
   "execution_count": null,
   "metadata": {},
   "outputs": [],
   "source": [
    "from ipywxyz.widgets.widget_svg import SVGBox, W, T, Path\n",
    "from ipywxyz.widgets.widget_fullscreen import Fullscreen"
   ]
  },
  {
   "cell_type": "code",
   "execution_count": null,
   "metadata": {},
   "outputs": [],
   "source": [
    "example = Path(\"example.svg\") if Path(\"example.svg\").exists() else Path(\"Examples\", \"example.svg\")"
   ]
  },
  {
   "cell_type": "code",
   "execution_count": null,
   "metadata": {},
   "outputs": [],
   "source": [
    "sliders = [W.FloatSlider(description=x, orientation='vertical') for x in \"xyz\"]\n",
    "svg = SVGBox(\n",
    "    sliders,\n",
    "    svg_file=str(example),\n",
    "    area_widgets=dict(x=0, y=1, z=2),\n",
    "    layout=dict(width=\"100vw\", height=\"100vh\", overflow=\"hidden\")\n",
    ")\n",
    "T.dlink(\n",
    "    (sliders[0], \"value\"), (svg, \"visible_areas\"),\n",
    "    lambda i: list(\"bxyz\"[0:int((i + 50) / 25)])\n",
    ")\n",
    "Fullscreen([svg])"
   ]
  },
  {
   "cell_type": "code",
   "execution_count": null,
   "metadata": {},
   "outputs": [],
   "source": []
  }
 ],
 "metadata": {
  "kernelspec": {
   "display_name": "Python 3",
   "language": "python",
   "name": "python3"
  },
  "language_info": {
   "codemirror_mode": {
    "name": "ipython",
    "version": 3
   },
   "file_extension": ".py",
   "mimetype": "text/x-python",
   "name": "python",
   "nbconvert_exporter": "python",
   "pygments_lexer": "ipython3",
   "version": "3.7.3"
  }
 },
 "nbformat": 4,
 "nbformat_minor": 2
}
