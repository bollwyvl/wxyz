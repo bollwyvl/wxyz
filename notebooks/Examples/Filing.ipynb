{
 "cells": [
  {
   "cell_type": "code",
   "execution_count": 4,
   "metadata": {},
   "outputs": [],
   "source": [
    "import pandas as pd\n",
    "import ipywidgets as W\n",
    "from wxyz.html.widget_file import FileBox, File"
   ]
  },
  {
   "cell_type": "code",
   "execution_count": 5,
   "metadata": {},
   "outputs": [
    {
     "data": {
      "application/vnd.jupyter.widget-view+json": {
       "model_id": "0c6cb3d1c8264fc09c2ee66535647957",
       "version_major": 2,
       "version_minor": 0
      },
      "text/plain": [
       "HBox(children=(FileBox(layout=Layout(align_items='stretch', display='flex', flex_flow='column-reverse'), multi…"
      ]
     },
     "metadata": {},
     "output_type": "display_data"
    }
   ],
   "source": [
    "box = FileBox(multiple=True, layout=dict(flex_flow=\"column-reverse\", display=\"flex\", align_items=\"stretch\"))\n",
    "info = W.Output()\n",
    "def show(_):\n",
    "    info.clear_output()\n",
    "    with info:\n",
    "        display(pd.DataFrame([\n",
    "            dict(name=c.name, size=c.size, mime_type=c.mime_type, last_modified=pd.to_datetime(c.last_modified, unit=\"ms\"))\n",
    "            for c in box.children\n",
    "        ]))\n",
    "box.observe(show)\n",
    "W.HBox([box, info])"
   ]
  },
  {
   "cell_type": "code",
   "execution_count": null,
   "metadata": {},
   "outputs": [],
   "source": []
  }
 ],
 "metadata": {
  "kernelspec": {
   "display_name": "Python 3",
   "language": "python",
   "name": "python3"
  },
  "language_info": {
   "codemirror_mode": {
    "name": "ipython",
    "version": 3
   },
   "file_extension": ".py",
   "mimetype": "text/x-python",
   "name": "python",
   "nbconvert_exporter": "python",
   "pygments_lexer": "ipython3",
   "version": "3.7.3"
  }
 },
 "nbformat": 4,
 "nbformat_minor": 2
}
