{
 "cells": [
  {
   "cell_type": "markdown",
   "metadata": {},
   "source": [
    "# Dock Panel\n",
    "The Phosphor `DockPanel` is the core of JupyterLab. An `wxyz` `DockBox` exposes _some_ of the power of the `DockPanel`, but has some interesting side-effects in how it interacts with the main Application."
   ]
  },
  {
   "cell_type": "code",
   "execution_count": 15,
   "metadata": {},
   "outputs": [],
   "source": [
    "import ipywidgets as W\n",
    "import traitlets as T\n",
    "from ipywxyz import DockBox"
   ]
  },
  {
   "cell_type": "markdown",
   "metadata": {},
   "source": [
    "Emoji are fun."
   ]
  },
  {
   "cell_type": "code",
   "execution_count": 16,
   "metadata": {},
   "outputs": [
    {
     "name": "stdout",
     "output_type": "stream",
     "text": [
      "😀 😁 😂 😃 😄 😅 😆 😇 😈 😉 😊 😋 😌 😍 😎 😏 😐 😑 😒 😓 😔 😕 😖 😗 😘 😙 😚 😛 😜 😝 😞 😟 😠 😡 😢 😣 😤 😥 😦 😧 😨 😩 😪 😫 😬 😭 😮 😯 😰 😱 😲 😳 😴 😵 😶 😷 😸 😹 😺 😻 😼 😽 😾 😿 🙀 🙁 🙂 🙃 🙄 🙅 🙆 🙇 🙈 🙉 🙊 🙋 🙌 🙍 🙎 🙏\n"
     ]
    }
   ],
   "source": [
    "emoji = [chr(128512 + i) for i in range(80)]\n",
    "if __name__ == \"__main__\":\n",
    "    print(\" \".join(emoji))"
   ]
  },
  {
   "cell_type": "code",
   "execution_count": 17,
   "metadata": {},
   "outputs": [],
   "source": [
    "sliders = [\n",
    "    W.FloatSlider(72 + i, min=1, max=len(emoji) - 1, description=e, orientation=\"vertical\")\n",
    "    for i, e in enumerate(emoji[72:75])\n",
    "]"
   ]
  },
  {
   "cell_type": "code",
   "execution_count": 18,
   "metadata": {},
   "outputs": [],
   "source": [
    "resizable_dock = DockBox(sliders, layout=dict(height=\"60vh\"))"
   ]
  },
  {
   "cell_type": "code",
   "execution_count": 19,
   "metadata": {},
   "outputs": [],
   "source": [
    "def make_layout(*sizes, orientation=\"horizontal\"):\n",
    "    return dict(\n",
    "        type=\"split-area\",\n",
    "        orientation=orientation,\n",
    "        children=[\n",
    "            {\"type\": \"tab-area\", \"widgets\": [i], \"currentIndex\": 0} \n",
    "            for i, x in enumerate(sizes)\n",
    "        ],\n",
    "        sizes=[x for x in sizes]\n",
    "    )"
   ]
  },
  {
   "cell_type": "code",
   "execution_count": 21,
   "metadata": {},
   "outputs": [],
   "source": [
    "def emojisize():\n",
    "    resizable_dock.dock_layout = make_layout(*[x.value for x in sliders])\n",
    "    for i, x in enumerate(sliders):\n",
    "        x.description = emoji[int(x.value)]"
   ]
  },
  {
   "cell_type": "code",
   "execution_count": 24,
   "metadata": {},
   "outputs": [],
   "source": [
    "[f.observe(lambda *x, **y: emojisize()) for f in sliders];"
   ]
  },
  {
   "cell_type": "code",
   "execution_count": 25,
   "metadata": {},
   "outputs": [
    {
     "data": {
      "application/vnd.jupyter.widget-view+json": {
       "model_id": "333bdc79d4b74b0dbd1cf9b573a29ae2",
       "version_major": 2,
       "version_minor": 0
      },
      "text/plain": [
       "DockBox(children=(FloatSlider(value=45.7, description='😭', max=79.0, min=1.0, orientation='vertical'), FloatSl…"
      ]
     },
     "metadata": {},
     "output_type": "display_data"
    }
   ],
   "source": [
    "resizable_dock"
   ]
  }
 ],
 "metadata": {
  "kernelspec": {
   "display_name": "Python 3",
   "language": "python",
   "name": "python3"
  },
  "language_info": {
   "codemirror_mode": {
    "name": "ipython",
    "version": 3
   },
   "file_extension": ".py",
   "mimetype": "text/x-python",
   "name": "python",
   "nbconvert_exporter": "python",
   "pygments_lexer": "ipython3",
   "version": "3.7.1"
  }
 },
 "nbformat": 4,
 "nbformat_minor": 2
}
