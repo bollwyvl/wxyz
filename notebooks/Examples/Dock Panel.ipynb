{
 "cells": [
  {
   "cell_type": "markdown",
   "metadata": {},
   "source": [
    "The Phosphor `DockPanel` is the core of JupyterLab. An `wxyz` `DockBox` exposes _some_ of the power of the `DockPanel`, but has some interesting side-effects in how it interacts with the main Application."
   ]
  },
  {
   "cell_type": "code",
   "execution_count": null,
   "metadata": {},
   "outputs": [],
   "source": [
    "import ipywidgets as W\n",
    "import traitlets as T\n",
    "from ipywxyz import DockBox"
   ]
  },
  {
   "cell_type": "code",
   "execution_count": null,
   "metadata": {},
   "outputs": [],
   "source": [
    "emoji = [chr(128512 + i) for i in range(80)]\n",
    "sliders = [\n",
    "    W.FloatSlider(72 + i, min=1, max=len(emoji) - 1, description=e, orientation=\"vertical\")\n",
    "    for i, e in enumerate(emoji[72:75])\n",
    "]\n",
    "resizable_dock = DockBox(sliders, layout=dict(height=\"60vh\"))\n",
    "\n",
    "def emojisize(*args, **kwargs):\n",
    "    resizable_dock.dock_layout = dict(\n",
    "        type=\"split-area\",\n",
    "        orientation=\"horizontal\",\n",
    "        children=[\n",
    "            {\"type\": \"tab-area\", \"widgets\": [i], \"currentIndex\": 0} \n",
    "            for i, x in enumerate(sliders)\n",
    "        ],\n",
    "        sizes=[x.value for x in sliders]\n",
    "    )\n",
    "    for i, x in enumerate(sliders):\n",
    "        x.description = emoji[int(x.value)]\n",
    "\n",
    "[f.observe(emojisize) for f in sliders]\n",
    "resizable_dock"
   ]
  }
 ],
 "metadata": {
  "kernelspec": {
   "display_name": "Python 3",
   "language": "python",
   "name": "python3"
  },
  "language_info": {
   "codemirror_mode": {
    "name": "ipython",
    "version": 3
   },
   "file_extension": ".py",
   "mimetype": "text/x-python",
   "name": "python",
   "nbconvert_exporter": "python",
   "pygments_lexer": "ipython3",
   "version": "3.7.1"
  }
 },
 "nbformat": 4,
 "nbformat_minor": 2
}
