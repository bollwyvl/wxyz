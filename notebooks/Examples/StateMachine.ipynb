{
 "cells": [
  {
   "cell_type": "markdown",
   "metadata": {},
   "source": [
    "# StateMachine"
   ]
  },
  {
   "cell_type": "code",
   "execution_count": null,
   "metadata": {},
   "outputs": [],
   "source": [
    "from wxyz.stm.widget_stm import StateMachine, W"
   ]
  },
  {
   "cell_type": "code",
   "execution_count": null,
   "metadata": {},
   "outputs": [],
   "source": [
    "def show_a_state_switch(\n",
    "    states=[\"magic\", \"more_magic\"], \n",
    "    transitions=[\n",
    "        [\"switch\", \"magic\", \"more_magic\"],\n",
    "        [\"switch\", \"more_magic\", \"magic\"]\n",
    "    ], \n",
    "    **kwargs\n",
    "):\n",
    "    stm = StateMachine(states=states, transitions=transitions, **kwargs)\n",
    "    current = W.Text(description=\"$S_{tate}$\", disabled=True)\n",
    "    buttons = [W.Button(description=t) for t in set([t for t, u, v in transitions])]\n",
    "    for btn in buttons:\n",
    "        @btn.on_click\n",
    "        def switch_left(btn):\n",
    "            try:\n",
    "                getattr(stm.model, btn.description)()\n",
    "                stm.error = \"\"\n",
    "            except Exception as err:\n",
    "                stm.error = str(err)\n",
    "    err = W.Textarea()\n",
    "    W.dlink((stm, \"state\"), (current, \"value\"))\n",
    "    W.dlink((stm, \"error\"), (err, \"value\"))\n",
    "    view = W.HBox([*buttons, current, err])\n",
    "    return stm, view"
   ]
  },
  {
   "cell_type": "code",
   "execution_count": null,
   "metadata": {},
   "outputs": [],
   "source": [
    "if __name__ == \"__main__\":\n",
    "    stm, stm_view = show_a_state_switch()\n",
    "    display(stm_view)"
   ]
  },
  {
   "cell_type": "code",
   "execution_count": null,
   "metadata": {},
   "outputs": [],
   "source": [
    "def make_an_adventure():\n",
    "    view2 = W.Output()\n",
    "    with view2:\n",
    "        stm2, _ = show_a_state_switch(\n",
    "            [\"Floor\", \"Pit\", \"Ladder\"],\n",
    "            [\n",
    "                [\"fall\", \"Floor\", \"Pit\"],\n",
    "                [\"sleep\", \"Pit\", \"Pit\"],\n",
    "                [\"sleep\", \"Floor\", \"Floor\"],\n",
    "                [\"climb\", \"Pit\", \"Ladder\"],\n",
    "                [\"climb\", \"Ladder\", \"Floor\"]\n",
    "            ],\n",
    "            graph=True, prog=\"dot\"\n",
    "        )\n",
    "        svg = W.HTML()\n",
    "        W.dlink((stm2, \"state\"), (svg, \"value\"), lambda x: stm2._update_svg() or stm2.svg)\n",
    "        display(svg, _)\n",
    "    view2\n",
    "    return view2"
   ]
  },
  {
   "cell_type": "code",
   "execution_count": null,
   "metadata": {},
   "outputs": [],
   "source": [
    "if __name__ == \"__main__\":\n",
    "    display(make_an_adventure())"
   ]
  }
 ],
 "metadata": {
  "kernelspec": {
   "display_name": "Python 3",
   "language": "python",
   "name": "python3"
  },
  "language_info": {
   "codemirror_mode": {
    "name": "ipython",
    "version": 3
   },
   "file_extension": ".py",
   "mimetype": "text/x-python",
   "name": "python",
   "nbconvert_exporter": "python",
   "pygments_lexer": "ipython3",
   "version": "3.7.3"
  }
 },
 "nbformat": 4,
 "nbformat_minor": 2
}
