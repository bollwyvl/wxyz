{
 "cells": [
  {
   "cell_type": "markdown",
   "metadata": {},
   "source": [
    "# JSS\n",
    "[jss](https://www.npmjs.com/package/jss) is a JSON-compatible way to generate CSS."
   ]
  },
  {
   "cell_type": "code",
   "execution_count": null,
   "metadata": {},
   "outputs": [],
   "source": [
    "from wxyz.jss.widget_jss import JSS, W, T"
   ]
  },
  {
   "cell_type": "code",
   "execution_count": null,
   "metadata": {},
   "outputs": [],
   "source": [
    "slider = W.FloatSlider()\n",
    "slider"
   ]
  },
  {
   "cell_type": "code",
   "execution_count": null,
   "metadata": {},
   "outputs": [],
   "source": [
    "jss = JSS(widgets={\n",
    "    \"foo\": [slider]\n",
    "})\n",
    "jss"
   ]
  },
  {
   "cell_type": "code",
   "execution_count": null,
   "metadata": {},
   "outputs": [],
   "source": [
    "T.dlink((slider, \"value\"), (jss, \"jss\"), lambda x: {\n",
    "    \"foo\": {\n",
    "        \"background-color\": f\"rgba(255,255,255,{x / 100})\",\n",
    "        \"&.widget-hslider .ui-slider .ui-slider-handle\": {\n",
    "            \"border-radius\": f\"{x / 2}%\"\n",
    "        }\n",
    "    },\n",
    "});"
   ]
  }
 ],
 "metadata": {
  "kernelspec": {
   "display_name": "Python 3",
   "language": "python",
   "name": "python3"
  },
  "language_info": {
   "codemirror_mode": {
    "name": "ipython",
    "version": 3
   },
   "file_extension": ".py",
   "mimetype": "text/x-python",
   "name": "python",
   "nbconvert_exporter": "python",
   "pygments_lexer": "ipython3",
   "version": "3.7.3"
  }
 },
 "nbformat": 4,
 "nbformat_minor": 4
}
