{
 "cells": [
  {
   "cell_type": "code",
   "execution_count": null,
   "metadata": {},
   "outputs": [],
   "source": [
    "import ipywxyz, tpot, ipywidgets, pandas, traitlets, dask.distributed, multiprocessing, sklearn\n",
    "from lime.lime_tabular import LimeTabularExplainer \n",
    "from sklearn.datasets import load_iris\n",
    "from sklearn.model_selection import train_test_split\n",
    "import re\n",
    "import yellowbrick.features"
   ]
  },
  {
   "cell_type": "code",
   "execution_count": null,
   "metadata": {},
   "outputs": [],
   "source": [
    "%matplotlib inline"
   ]
  },
  {
   "cell_type": "code",
   "execution_count": null,
   "metadata": {},
   "outputs": [],
   "source": [
    "client = dask.distributed.Client(n_workers=multiprocessing.cpu_count(), threads_per_worker=1)\n",
    "client"
   ]
  },
  {
   "cell_type": "code",
   "execution_count": null,
   "metadata": {},
   "outputs": [],
   "source": [
    "dashboard_url = re.findall(r'http.*?(?=/status)', client._repr_html_())[0]\n",
    "iframe_client = ipywidgets.HTML(f\"\"\"\n",
    "<iframe src=\"{dashboard_url}/tasks\" width=\"100%\" height=\"300\" border=\"0\" style=\"border: 0\"></iframe>\n",
    "\"\"\")\n",
    "# iframe_client"
   ]
  },
  {
   "cell_type": "code",
   "execution_count": null,
   "metadata": {},
   "outputs": [],
   "source": [
    "dataset = None\n",
    "df: pandas.DataFrame = None\n",
    "train: pandas.np.ndarray = None\n",
    "test: pandas.np.ndarray = None\n",
    "labels_train: pandas.np.array = None \n",
    "labels_test: pandas.np.array = None\n",
    "model: sklearn.pipeline.Pipeline = None"
   ]
  },
  {
   "cell_type": "code",
   "execution_count": null,
   "metadata": {},
   "outputs": [],
   "source": [
    "grid_train = ipywxyz.SelectGrid(description=\"Training Data\")\n",
    "grid_test = ipywxyz.SelectGrid(description=\"Test Data\")\n",
    "grid_labels_train = ipywxyz.SelectGrid(description=\"Training Labels\")\n",
    "grid_labels_test = ipywxyz.SelectGrid(description=\"Test Labels\")\n",
    "\n",
    "correlation = ipywidgets.Output()\n",
    "\n",
    "train_output = ipywidgets.Output(description=\"Training Output\")\n",
    "generations = ipywidgets.IntSlider(2, min=1, max=1000, description=\"generations\")\n",
    "population_size = ipywidgets.IntSlider(7, min=1, max=1000, description=\"population size\")\n",
    "cv = ipywidgets.IntSlider(2, min=1, max=10, description=\"cross validation\")\n",
    "random_state = ipywidgets.IntSlider(42, min=-1e6, max=1e6, description=\"random state\")\n",
    "verbosity = ipywidgets.IntSlider(5, 1, 11, description=\"verbosity\")"
   ]
  },
  {
   "cell_type": "code",
   "execution_count": null,
   "metadata": {},
   "outputs": [],
   "source": [
    "with ipywidgets.Output():\n",
    "    @ipywidgets.interact\n",
    "    def loader(dataset_name=ipywidgets.SelectionSlider(options=[\"iris\", \"breast_cancer\", \"boston\", \"diabetes\", \"wine\"], description=\"Dataset\")):\n",
    "        global dataset, df, train, test, labels_train, labels_test, explainer\n",
    "        dataset = getattr(sklearn.datasets, f\"load_{dataset_name}\")()\n",
    "        df = pandas.DataFrame(dataset.data, columns=dataset.feature_names)\n",
    "        (\n",
    "            train, \n",
    "            test, \n",
    "            labels_train, \n",
    "            labels_test\n",
    "        ) = sklearn.model_selection.train_test_split(\n",
    "            dataset.data, \n",
    "            dataset.target, \n",
    "            train_size=0.80\n",
    "        )\n",
    "        grid_train.value = pandas.DataFrame(train)\n",
    "        grid_test.value = pandas.DataFrame(test)\n",
    "        grid_labels_train.value = pandas.DataFrame(labels_train)\n",
    "        grid_labels_test.value = pandas.DataFrame(labels_test)\n",
    "        explainer = LimeTabularExplainer(\n",
    "            train,\n",
    "            feature_names=dataset.feature_names, \n",
    "            class_names=getattr(dataset, \"target_names\", None), \n",
    "            discretize_continuous=True\n",
    "        )"
   ]
  },
  {
   "cell_type": "code",
   "execution_count": null,
   "metadata": {},
   "outputs": [],
   "source": [
    "with ipywidgets.Output():\n",
    "    @ipywidgets.interact\n",
    "    def visualize(algorithm=ipywidgets.SelectionSlider(options=['pearson', 'covariance', 'spearman'])):\n",
    "        global visualizer\n",
    "        visualizer = yellowbrick.features.Rank2D(features=dataset.feature_names, algorithm=algorithm)\n",
    "\n",
    "        correlation.clear_output()\n",
    "        with correlation:\n",
    "            visualizer.fit(train, labels_train)\n",
    "            visualizer.transform(train)\n",
    "            visualizer.poof()"
   ]
  },
  {
   "cell_type": "code",
   "execution_count": null,
   "metadata": {},
   "outputs": [],
   "source": [
    "def trainer(start_training=ipywidgets.ToggleButton):\n",
    "    global model\n",
    "    model = tpot.TPOTClassifier(\n",
    "        generations=generations.value,\n",
    "        population_size=population_size.value,\n",
    "        cv=cv.value,\n",
    "        n_jobs=-1,\n",
    "        random_state=random_state.value,\n",
    "        verbosity=0,\n",
    "        use_dask=True\n",
    "    )\n",
    "    with train_output:\n",
    "        model.fit(train, labels_train)\n",
    "        print(model.score(test, labels_test))\n",
    "\n",
    "btn_train = ipywidgets.Button(description=\"🚂\")\n",
    "btn_train.on_click(trainer)\n",
    "box_train = ipywidgets.VBox([\n",
    "    generations,\n",
    "    population_size,\n",
    "    cv,\n",
    "    random_state,\n",
    "    verbosity,\n",
    "    btn_train\n",
    "], description=\"Parameters\")\n",
    "# box_train"
   ]
  },
  {
   "cell_type": "code",
   "execution_count": null,
   "metadata": {},
   "outputs": [],
   "source": [
    "with ipywidgets.Output():\n",
    "    @ipywidgets.interact\n",
    "    def explain(instance=(0, len(test) - 1)):\n",
    "        try:\n",
    "            exp = explainer.explain_instance(test[instance], model.predict_proba)\n",
    "            exp.show_in_notebook()\n",
    "        except Exception as err:\n",
    "            print(err)"
   ]
  },
  {
   "cell_type": "code",
   "execution_count": null,
   "metadata": {},
   "outputs": [],
   "source": [
    "traitlets.dlink((grid_test, \"viewport\"), (explain.widget.children[0], \"value\"), lambda v: v[2])\n",
    "traitlets.link((grid_train, \"scroll_y\"), (grid_labels_train, \"scroll_y\"))\n",
    "traitlets.link((grid_test, \"scroll_y\"), (grid_labels_test, \"scroll_y\"));"
   ]
  },
  {
   "cell_type": "code",
   "execution_count": null,
   "metadata": {},
   "outputs": [],
   "source": [
    "pg = ipywxyz.DockBox([\n",
    "    loader.widget,\n",
    "    visualize.widget,\n",
    "    correlation,\n",
    "    grid_train,\n",
    "    grid_labels_train,\n",
    "    grid_test,\n",
    "    grid_labels_test,\n",
    "    box_train,\n",
    "    train_output,\n",
    "    iframe_client,\n",
    "    explain.widget,\n",
    "], layout=dict(height=\"100vh\"))\n",
    "train_output.description = \"Training Output\"\n",
    "def layout(*_):\n",
    "    pg.dock_layout = {'type': 'split-area',\n",
    " 'orientation': 'horizontal',\n",
    " 'children': [{'type': 'split-area',\n",
    "   'orientation': 'vertical',\n",
    "   'children': [{'type': 'tab-area', 'widgets': [5], 'currentIndex': 0},\n",
    "    {'type': 'tab-area', 'widgets': [3], 'currentIndex': 0}],\n",
    "   'sizes': [0.5, 0.5]},\n",
    "  {'type': 'split-area',\n",
    "   'orientation': 'vertical',\n",
    "   'children': [{'type': 'tab-area', 'widgets': [6], 'currentIndex': 0},\n",
    "    {'type': 'tab-area', 'widgets': [4], 'currentIndex': 0}],\n",
    "   'sizes': [0.5, 0.5]},\n",
    "  {'type': 'split-area',\n",
    "   'orientation': 'vertical',\n",
    "   'children': [{'type': 'tab-area', 'widgets': [0], 'currentIndex': 0},\n",
    "    {'type': 'tab-area', 'widgets': [2], 'currentIndex': 0},\n",
    "    {'type': 'tab-area', 'widgets': [1], 'currentIndex': 0}],\n",
    "   'sizes': [0.3030839281152105, 0.41608264801846156, 0.2808334238663279]},\n",
    "  {'type': 'split-area',\n",
    "   'orientation': 'vertical',\n",
    "   'children': [{'type': 'tab-area', 'widgets': [9], 'currentIndex': 0},\n",
    "    {'type': 'tab-area', 'widgets': [7], 'currentIndex': 0},\n",
    "    {'type': 'tab-area', 'widgets': [8], 'currentIndex': 0}],\n",
    "   'sizes': [0.3703284415172773, 0.31483577924136136, 0.31483577924136136]},\n",
    "  {'type': 'tab-area', 'widgets': [10], 'currentIndex': 0}],\n",
    " 'sizes': [0.08564685481230452,\n",
    "  0.09288380506162426,\n",
    "  0.25631036671974694,\n",
    "  0.30134697916301306,\n",
    "  0.26381199424331125]}\n",
    "\n",
    "pg.on_displayed(layout)\n",
    "pg.hide_tabs = True\n",
    "pg"
   ]
  }
 ],
 "metadata": {
  "kernelspec": {
   "display_name": "Python 3",
   "language": "python",
   "name": "python3"
  },
  "language_info": {
   "codemirror_mode": {
    "name": "ipython",
    "version": 3
   },
   "file_extension": ".py",
   "mimetype": "text/x-python",
   "name": "python",
   "nbconvert_exporter": "python",
   "pygments_lexer": "ipython3",
   "version": "3.7.2"
  }
 },
 "nbformat": 4,
 "nbformat_minor": 2
}
