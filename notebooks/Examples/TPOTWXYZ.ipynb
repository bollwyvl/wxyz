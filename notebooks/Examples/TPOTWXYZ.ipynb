{
 "cells": [
  {
   "cell_type": "code",
   "execution_count": null,
   "metadata": {},
   "outputs": [],
   "source": [
    "%config InlineBackend.figure_formats = ['svg']\n",
    "%matplotlib inline\n",
    "from wxyz.datagrid.widget_selectgrid import SelectGrid\n",
    "from wxyz.lab.widget_dock import DockBox\n",
    "import re, yellowbrick.features, tpot, ipywidgets as W, numpy as np, pandas as pd, traitlets as T, dask.distributed, multiprocessing, sklearn, warnings\n",
    "from lime.lime_tabular import LimeTabularExplainer \n",
    "from sklearn.datasets import load_iris\n",
    "from sklearn.model_selection import train_test_split"
   ]
  },
  {
   "cell_type": "code",
   "execution_count": null,
   "metadata": {},
   "outputs": [],
   "source": [
    "%%html\n",
    "<style>\n",
    ".widget-hslider, .widget-hprogress, .widget-inline-hbox .widget-label{\n",
    "    width: auto;\n",
    "}\n",
    ".jp-RenderedSVG img {\n",
    "    max-width: 100%;\n",
    "    max-height: 100%;\n",
    "}\n",
    "</style>"
   ]
  },
  {
   "cell_type": "code",
   "execution_count": null,
   "metadata": {},
   "outputs": [],
   "source": [
    "class App(T.HasTraits):\n",
    "    dataset = T.Any()\n",
    "    dask = T.Instance(dask.distributed.Client, allow_none=True)\n",
    "    df = T.Instance(pd.DataFrame, allow_none=True)\n",
    "    train = T.Instance(np.ndarray, allow_none=True)\n",
    "    test = T.Instance(np.ndarray, allow_none=True)\n",
    "    labels_train = T.Instance(np.ndarray, allow_none=True) \n",
    "    labels_test = T.Instance(np.ndarray, allow_none=True)\n",
    "    model = T.Instance(tpot.TPOTClassifier, allow_none=True)\n",
    "    explainer = T.Instance(LimeTabularExplainer, allow_none=True)\n",
    "app = App()"
   ]
  },
  {
   "cell_type": "code",
   "execution_count": null,
   "metadata": {},
   "outputs": [],
   "source": [
    "app.dask = dask.distributed.Client(n_workers=multiprocessing.cpu_count(), threads_per_worker=1)\n",
    "dashboard_url = re.findall(r'http.*?(?=/status)', app.dask._repr_html_())[0]\n",
    "iframe_client = W.HTML(f\"\"\"\n",
    "<iframe src=\"{dashboard_url}/tasks\" width=\"100%\" height=\"300\" border=\"0\" style=\"border: 0\"></iframe>\n",
    "\"\"\")\n",
    "# iframe_client"
   ]
  },
  {
   "cell_type": "code",
   "execution_count": null,
   "metadata": {},
   "outputs": [],
   "source": [
    "grid_train = SelectGrid(description=\"Training Data\")\n",
    "grid_test = SelectGrid(description=\"Test Data\")\n",
    "grid_labels_train = SelectGrid(description=\"Training Labels\")\n",
    "grid_labels_test = SelectGrid(description=\"Test Labels\")\n",
    "\n",
    "correlation = W.Output()\n",
    "fitness = W.FloatSlider(0, min=0, max=1, description=\"🎯 Score\", disabled=True)\n",
    "\n",
    "train_output = W.Output(description=\"Training Output\")\n",
    "\n",
    "generations = W.IntSlider(10, min=1, max=100, description=\"👴 Generations\", layout=dict(flex=\"1\"))\n",
    "population_size = W.IntSlider(7, min=1, max=100, description=\"👶 Population\", layout=dict(flex=\"1\"))\n",
    "cv = W.IntSlider(2, min=1, max=10, description=\"❌ Cross Validation\", layout=dict(flex=\"1\"))\n",
    "random_state = W.IntSlider(42, min=1, max=1e6, description=\"🎰 Random\", layout=dict(flex=\"1\"))\n",
    "verbosity = W.IntSlider(2, min=1, max=11, description=\"📣 Verbosity\", layout=dict(flex=\"1\"))"
   ]
  },
  {
   "cell_type": "code",
   "execution_count": null,
   "metadata": {},
   "outputs": [],
   "source": [
    "@W.interact\n",
    "def loader(\n",
    "    dataset_name=W.SelectionSlider(options=[\"iris\", \"breast_cancer\", \"boston\", \"diabetes\", \"wine\"], description=\"🗄 Dataset\"),\n",
    "    test_size=W.FloatSlider(0.8, min=0.000001, max=0.99999, step=0.01, description=\"⚖ Train/Test\"),\n",
    "    algorithm=W.SelectionSlider(options=['pearson', 'covariance', 'spearman'], description=\"🌡️ Correlation\"),\n",
    "):\n",
    "    app.dataset = getattr(sklearn.datasets, f\"load_{dataset_name}\")()\n",
    "    app.df = pd.DataFrame(app.dataset.data, columns=app.dataset.feature_names)\n",
    "    (\n",
    "        app.train, \n",
    "        app.test, \n",
    "        app.labels_train, \n",
    "        app.labels_test\n",
    "    ) = sklearn.model_selection.train_test_split(\n",
    "        app.dataset.data,\n",
    "        app.dataset.target,\n",
    "        train_size=1 - test_size,\n",
    "        test_size=test_size\n",
    "    )\n",
    "    grid_train.value = pd.DataFrame(app.train)\n",
    "    grid_test.value = pd.DataFrame(app.test)\n",
    "    grid_labels_train.value = pd.DataFrame(app.labels_train)\n",
    "    grid_labels_test.value = pd.DataFrame(app.labels_test)\n",
    "    app.explainer = LimeTabularExplainer(\n",
    "        app.train,\n",
    "        feature_names=app.dataset.feature_names, \n",
    "        class_names=getattr(app.dataset, \"target_names\", None), \n",
    "        discretize_continuous=True\n",
    "    )\n",
    "    visualizer = yellowbrick.features.Rank2D(features=app.dataset.feature_names, algorithm=algorithm)\n",
    "    visualizer.fit(app.train, app.labels_train)\n",
    "    visualizer.transform(app.train)\n",
    "    visualizer.poof()"
   ]
  },
  {
   "cell_type": "code",
   "execution_count": null,
   "metadata": {},
   "outputs": [],
   "source": [
    "btn_train = W.Button(description=\"🚂 Train\")\n",
    "\n",
    "def trainer(*args, **kwargs):\n",
    "    train_output.clear_output()\n",
    "    with train_output:\n",
    "        app.model = tpot.TPOTClassifier(\n",
    "            generations=generations.value,\n",
    "            population_size=population_size.value,\n",
    "            cv=cv.value,\n",
    "            n_jobs=-1,\n",
    "            random_state=random_state.value,\n",
    "            verbosity=verbosity.value,\n",
    "            use_dask=True\n",
    "        )\n",
    "\n",
    "        _update = app.model._check_periodic_pipeline\n",
    "\n",
    "        def update(gen):\n",
    "            _update(gen)\n",
    "            fitness.value = app.model._optimized_pipeline_score\n",
    "\n",
    "        app.model._check_periodic_pipeline = update\n",
    "\n",
    "    train_output.clear_output()\n",
    "\n",
    "    with train_output, warnings.catch_warnings():\n",
    "        fitness.value = 0\n",
    "        warnings.simplefilter(\"ignore\")\n",
    "        app.model.fit(app.train, app.labels_train)\n",
    "        fitness.value = app.model.score(app.test, app.labels_test)\n",
    "        \n",
    "\n",
    "btn_train.on_click(trainer)\n",
    "        \n",
    "box_train = W.VBox([\n",
    "    generations,\n",
    "    population_size,\n",
    "    cv,\n",
    "    random_state,\n",
    "    verbosity,\n",
    "    btn_train,\n",
    "    fitness,\n",
    "], description=\"Parameters\", layout=dict(display=\"flex\"))\n",
    "display(box_train)\n",
    "display(train_output)"
   ]
  },
  {
   "cell_type": "code",
   "execution_count": null,
   "metadata": {},
   "outputs": [],
   "source": [
    "with W.Output():\n",
    "    @W.interact\n",
    "    def explain(instance=W.IntSlider(0, min=0, max=100, description=\"🤔 'Splain\")):\n",
    "        try: explain.widget.children[0].max = app.test.shape[0] - 1\n",
    "        except: pass\n",
    "        if app.explainer and app.model and hasattr(app.model, \"predict_proba\"):\n",
    "            app.explainer.explain_instance(app.test[instance], app.model.predict_proba).show_in_notebook()"
   ]
  },
  {
   "cell_type": "code",
   "execution_count": null,
   "metadata": {},
   "outputs": [],
   "source": [
    "W.jslink((grid_train, \"scroll_y\"), (grid_labels_train, \"scroll_y\"))\n",
    "W.jslink((grid_test, \"scroll_y\"), (grid_labels_test, \"scroll_y\"));"
   ]
  },
  {
   "cell_type": "code",
   "execution_count": null,
   "metadata": {},
   "outputs": [],
   "source": [
    "pg = DockBox([\n",
    "    loader.widget,\n",
    "    grid_train,\n",
    "    grid_labels_train,\n",
    "    grid_test,\n",
    "    grid_labels_test,\n",
    "    box_train,\n",
    "    train_output,\n",
    "    iframe_client,\n",
    "    explain.widget,\n",
    "], layout=dict(height=\"100vh\"))\n",
    "train_output.description = \"Training Output\""
   ]
  },
  {
   "cell_type": "code",
   "execution_count": null,
   "metadata": {},
   "outputs": [],
   "source": [
    "@pg.on_displayed\n",
    "def fix_layout(*args):\n",
    "    pg.hide_tabs = True\n",
    "    pg.dock_layout = {'type': 'split-area',\n",
    " 'orientation': 'horizontal',\n",
    " 'children': [{'type': 'split-area',\n",
    "   'orientation': 'vertical',\n",
    "   'children': [{'type': 'tab-area', 'widgets': [8], 'currentIndex': 0},\n",
    "    {'type': 'tab-area', 'widgets': [0], 'currentIndex': 0},\n",
    "    {'type': 'tab-area', 'widgets': [1], 'currentIndex': 0}],\n",
    "   'sizes': [0.3288275105446067, 0.15804757115893375, 0.5131249182964596]},\n",
    "  {'type': 'split-area',\n",
    "   'orientation': 'vertical',\n",
    "   'children': [{'type': 'tab-area', 'widgets': [2], 'currentIndex': 0},\n",
    "    {'type': 'tab-area', 'widgets': [4], 'currentIndex': 0}],\n",
    "   'sizes': [0.5, 0.5]},\n",
    "  {'type': 'split-area',\n",
    "   'orientation': 'vertical',\n",
    "   'children': [{'type': 'tab-area', 'widgets': [3], 'currentIndex': 0},\n",
    "    {'type': 'tab-area', 'widgets': [5], 'currentIndex': 0}],\n",
    "   'sizes': [0.5, 0.5]},\n",
    "  {'type': 'split-area',\n",
    "   'orientation': 'vertical',\n",
    "   'children': [{'type': 'tab-area', 'widgets': [6], 'currentIndex': 0},\n",
    "    {'type': 'tab-area', 'widgets': [7], 'currentIndex': 0}],\n",
    "   'sizes': [0.30860784292804, 0.69139215707196]},\n",
    "  {'type': 'tab-area', 'widgets': [9], 'currentIndex': 0}],\n",
    " 'sizes': [0.25792394844255556,\n",
    "  0.16167643973552365,\n",
    "  0.11422049816337114,\n",
    "  0.24536800382401186,\n",
    "  0.2208111098345378]}"
   ]
  },
  {
   "cell_type": "code",
   "execution_count": null,
   "metadata": {},
   "outputs": [],
   "source": [
    "pg"
   ]
  },
  {
   "cell_type": "code",
   "execution_count": null,
   "metadata": {},
   "outputs": [],
   "source": []
  }
 ],
 "metadata": {
  "kernelspec": {
   "display_name": "Python 3",
   "language": "python",
   "name": "python3"
  },
  "language_info": {
   "codemirror_mode": {
    "name": "ipython",
    "version": 3
   },
   "file_extension": ".py",
   "mimetype": "text/x-python",
   "name": "python",
   "nbconvert_exporter": "python",
   "pygments_lexer": "ipython3",
   "version": "3.7.3"
  }
 },
 "nbformat": 4,
 "nbformat_minor": 2
}
