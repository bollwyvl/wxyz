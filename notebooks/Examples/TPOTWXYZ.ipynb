{
 "cells": [
  {
   "cell_type": "code",
   "execution_count": 7,
   "metadata": {},
   "outputs": [],
   "source": [
    "import ipywxyz, tpot, ipywidgets, pandas, traitlets, dask.distributed, multiprocessing, sklearn\n",
    "from lime.lime_tabular import LimeTabularExplainer \n",
    "from sklearn.datasets import load_iris\n",
    "from sklearn.model_selection import train_test_split\n",
    "import re"
   ]
  },
  {
   "cell_type": "code",
   "execution_count": 8,
   "metadata": {},
   "outputs": [
    {
     "name": "stderr",
     "output_type": "stream",
     "text": [
      "/home/weg/Documents/projects/deathbeds/wxyz/envs/default/lib/python3.7/site-packages/distributed/bokeh/core.py:57: UserWarning: \n",
      "Port 8787 is already in use. \n",
      "Perhaps you already have a cluster running?\n",
      "Hosting the diagnostics dashboard on a random port instead.\n",
      "  warnings.warn('\\n' + msg)\n"
     ]
    },
    {
     "data": {
      "text/html": [
       "<table style=\"border: 2px solid white;\">\n",
       "<tr>\n",
       "<td style=\"vertical-align: top; border: 0px solid white\">\n",
       "<h3>Client</h3>\n",
       "<ul>\n",
       "  <li><b>Scheduler: </b>tcp://127.0.0.1:42333\n",
       "  <li><b>Dashboard: </b><a href='http://127.0.0.1:43761/status' target='_blank'>http://127.0.0.1:43761/status</a>\n",
       "</ul>\n",
       "</td>\n",
       "<td style=\"vertical-align: top; border: 0px solid white\">\n",
       "<h3>Cluster</h3>\n",
       "<ul>\n",
       "  <li><b>Workers: </b>8</li>\n",
       "  <li><b>Cores: </b>8</li>\n",
       "  <li><b>Memory: </b>16.72 GB</li>\n",
       "</ul>\n",
       "</td>\n",
       "</tr>\n",
       "</table>"
      ],
      "text/plain": [
       "<Client: scheduler='tcp://127.0.0.1:42333' processes=8 cores=8>"
      ]
     },
     "execution_count": 8,
     "metadata": {},
     "output_type": "execute_result"
    }
   ],
   "source": [
    "client = dask.distributed.Client(n_workers=multiprocessing.cpu_count(), threads_per_worker=1)\n",
    "client"
   ]
  },
  {
   "cell_type": "code",
   "execution_count": 24,
   "metadata": {},
   "outputs": [
    {
     "data": {
      "application/vnd.jupyter.widget-view+json": {
       "model_id": "94e9db56cd7a4541a1b9475cd41ba0a6",
       "version_major": 2,
       "version_minor": 0
      },
      "text/plain": [
       "HTML(value='\\n<iframe src=\"http://127.0.0.1:43761/tasks\" width=\"100%\" height=\"300\" border=\"0\" style=\"border: 0…"
      ]
     },
     "metadata": {},
     "output_type": "display_data"
    }
   ],
   "source": [
    "dashboard_url = re.findall(r'http.*?(?=/status)', client._repr_html_())[0]\n",
    "iframe_client = ipywidgets.HTML(f\"\"\"\n",
    "<iframe src=\"{dashboard_url}/tasks\" width=\"100%\" height=\"300\" border=\"0\" style=\"border: 0\"></iframe>\n",
    "\"\"\")\n",
    "iframe_client"
   ]
  },
  {
   "cell_type": "code",
   "execution_count": 28,
   "metadata": {},
   "outputs": [],
   "source": [
    "iris = load_iris()\n",
    "df = pandas.DataFrame(iris[\"data\"], columns=iris[\"feature_names\"])"
   ]
  },
  {
   "cell_type": "code",
   "execution_count": 29,
   "metadata": {},
   "outputs": [],
   "source": [
    "(\n",
    "    train, \n",
    "    test, \n",
    "    labels_train, \n",
    "    labels_test\n",
    ") = sklearn.model_selection.train_test_split(\n",
    "    iris.data, \n",
    "    iris.target, \n",
    "    train_size=0.80\n",
    ")"
   ]
  },
  {
   "cell_type": "code",
   "execution_count": 30,
   "metadata": {},
   "outputs": [],
   "source": [
    "grid_train = ipywxyz.SelectGrid(value=pandas.DataFrame(train), description=\"Training Data\")\n",
    "grid_test = ipywxyz.SelectGrid(value=pandas.DataFrame(test), description=\"Test Data\")\n",
    "grid_labels_train = ipywxyz.SelectGrid(value=pandas.DataFrame(labels_train), description=\"Training Labels\")\n",
    "grid_labels_test = ipywxyz.SelectGrid(value=pandas.DataFrame(labels_test), description=\"Test Labels\")"
   ]
  },
  {
   "cell_type": "code",
   "execution_count": 31,
   "metadata": {},
   "outputs": [
    {
     "data": {
      "text/plain": [
       "<traitlets.traitlets.link at 0x7f88c70be278>"
      ]
     },
     "execution_count": 31,
     "metadata": {},
     "output_type": "execute_result"
    }
   ],
   "source": [
    "traitlets.link((grid_train, \"scroll_y\"), (grid_labels_train, \"scroll_y\"))\n",
    "traitlets.link((grid_test, \"scroll_y\"), (grid_labels_test, \"scroll_y\"))"
   ]
  },
  {
   "cell_type": "code",
   "execution_count": 32,
   "metadata": {},
   "outputs": [],
   "source": [
    "model = None"
   ]
  },
  {
   "cell_type": "code",
   "execution_count": 33,
   "metadata": {},
   "outputs": [
    {
     "data": {
      "application/vnd.jupyter.widget-view+json": {
       "model_id": "5ffd232189164fe2815acd08e3872b5f",
       "version_major": 2,
       "version_minor": 0
      },
      "text/plain": [
       "VBox(children=(IntSlider(value=2, description='generations', max=1000, min=1), IntSlider(value=7, description=…"
      ]
     },
     "metadata": {},
     "output_type": "display_data"
    }
   ],
   "source": [
    "train_output = ipywidgets.Output(description=\"Training Output\")\n",
    "generations = ipywidgets.IntSlider(2, min=1, max=1000, description=\"generations\")\n",
    "population_size = ipywidgets.IntSlider(7, min=1, max=1000, description=\"population size\")\n",
    "cv = ipywidgets.IntSlider(2, min=1, max=10, description=\"cross validation\")\n",
    "random_state = ipywidgets.IntSlider(42, min=-1e6, max=1e6, description=\"random state\")\n",
    "verbosity = ipywidgets.IntSlider(5, 1, 11, description=\"verbosity\")\n",
    "\n",
    "def trainer(start_training=ipywidgets.ToggleButton):\n",
    "    global model\n",
    "    model = tpot.TPOTClassifier(\n",
    "        generations=generations.value,\n",
    "        population_size=population_size.value,\n",
    "        cv=cv.value,\n",
    "        n_jobs=-1,\n",
    "        random_state=random_state.value,\n",
    "        verbosity=0,\n",
    "        use_dask=True\n",
    "    )\n",
    "    with train_output:\n",
    "        model.fit(train, labels_train)\n",
    "        print(model.score(test, labels_test))\n",
    "\n",
    "btn_train = ipywidgets.Button(description=\"🚂\")\n",
    "btn_train.on_click(trainer)\n",
    "box_train = ipywidgets.VBox([\n",
    "    generations,\n",
    "    population_size,\n",
    "    cv,\n",
    "    random_state,\n",
    "    verbosity,\n",
    "    btn_train\n",
    "], description=\"Parameters\")\n",
    "box_train"
   ]
  },
  {
   "cell_type": "code",
   "execution_count": 34,
   "metadata": {},
   "outputs": [],
   "source": [
    "explainer = LimeTabularExplainer(\n",
    "    train,\n",
    "    feature_names=iris.feature_names, \n",
    "    class_names=iris.target_names, \n",
    "    discretize_continuous=True\n",
    ")\n",
    "\n",
    "with ipywidgets.Output():\n",
    "    @ipywidgets.interact\n",
    "    def explain(instance=(0, len(test) - 1)):\n",
    "        global model\n",
    "        global explain\n",
    "        try:\n",
    "            exp = explainer.explain_instance(test[instance], model.predict_proba)\n",
    "            exp.show_in_notebook()\n",
    "        except Exception as err:\n",
    "            print(err)"
   ]
  },
  {
   "cell_type": "code",
   "execution_count": 41,
   "metadata": {},
   "outputs": [
    {
     "data": {
      "text/plain": [
       "<traitlets.traitlets.directional_link at 0x7f88c532c5c0>"
      ]
     },
     "execution_count": 41,
     "metadata": {},
     "output_type": "execute_result"
    }
   ],
   "source": [
    "traitlets.dlink((grid_test, \"viewport\"), (explain.widget.children[0], \"value\"), lambda v: v[2])"
   ]
  },
  {
   "cell_type": "code",
   "execution_count": 38,
   "metadata": {},
   "outputs": [
    {
     "data": {
      "application/vnd.jupyter.widget-view+json": {
       "model_id": "acd8bd4f887f47fb959f2172e48be55c",
       "version_major": 2,
       "version_minor": 0
      },
      "text/plain": [
       "DockBox(children=(SelectGrid(description='Training Data', hover_row=14, selection=(0, 0, 0, 0)), SelectGrid(de…"
      ]
     },
     "metadata": {},
     "output_type": "display_data"
    }
   ],
   "source": [
    "pg = ipywxyz.DockBox([\n",
    "    grid_train,\n",
    "    grid_labels_train,\n",
    "    grid_test,\n",
    "    grid_labels_test,\n",
    "    box_train,\n",
    "    train_output,\n",
    "    iframe_client,\n",
    "    explain.widget,\n",
    "], layout=dict(height=\"100vh\"))\n",
    "train_output.description = \"Training Output\"\n",
    "def layout(*_):\n",
    "    pg.dock_layout = {'type': 'split-area',\n",
    " 'orientation': 'horizontal',\n",
    " 'children': [{'type': 'split-area',\n",
    "   'orientation': 'vertical',\n",
    "   'children': [{'type': 'tab-area', 'widgets': [2], 'currentIndex': 0},\n",
    "    {'type': 'tab-area', 'widgets': [0], 'currentIndex': 0}],\n",
    "   'sizes': [1, 1]},\n",
    "  {'type': 'split-area',\n",
    "   'orientation': 'vertical',\n",
    "   'children': [{'type': 'tab-area', 'widgets': [3], 'currentIndex': 0},\n",
    "    {'type': 'tab-area', 'widgets': [1], 'currentIndex': 0}],\n",
    "   'sizes': [1, 1]},\n",
    "  {'type': 'split-area',\n",
    "   'orientation': 'vertical',\n",
    "   'children': [{'type': 'tab-area', 'widgets': [6], 'currentIndex': 0},\n",
    "    {'type': 'tab-area', 'widgets': [4], 'currentIndex': 0}],\n",
    "   'sizes': [1, 1]},\n",
    "  {'type': 'split-area',\n",
    "   'orientation': 'vertical',\n",
    "   'children': [{'type': 'tab-area', 'widgets': [5], 'currentIndex': 0},\n",
    "    {'type': 'tab-area', 'widgets': [7], 'currentIndex': 0}],\n",
    "   'sizes': [2, 8]}],\n",
    " 'sizes': [2, 1, 2, 2]}\n",
    "pg.on_displayed(layout)\n",
    "pg.hide_tabs = True\n",
    "pg"
   ]
  },
  {
   "cell_type": "code",
   "execution_count": 36,
   "metadata": {},
   "outputs": [
    {
     "data": {
      "text/plain": [
       "{'type': 'split-area',\n",
       " 'orientation': 'horizontal',\n",
       " 'children': [{'type': 'split-area',\n",
       "   'orientation': 'vertical',\n",
       "   'children': [{'type': 'tab-area', 'widgets': [2], 'currentIndex': 0},\n",
       "    {'type': 'tab-area', 'widgets': [0], 'currentIndex': 0}],\n",
       "   'sizes': [0.5, 0.5]},\n",
       "  {'type': 'split-area',\n",
       "   'orientation': 'vertical',\n",
       "   'children': [{'type': 'tab-area', 'widgets': [3], 'currentIndex': 0},\n",
       "    {'type': 'tab-area', 'widgets': [1], 'currentIndex': 0}],\n",
       "   'sizes': [0.5, 0.5]},\n",
       "  {'type': 'split-area',\n",
       "   'orientation': 'vertical',\n",
       "   'children': [{'type': 'tab-area', 'widgets': [6], 'currentIndex': 0},\n",
       "    {'type': 'tab-area', 'widgets': [4], 'currentIndex': 0}],\n",
       "   'sizes': [0.5, 0.5]},\n",
       "  {'type': 'split-area',\n",
       "   'orientation': 'vertical',\n",
       "   'children': [{'type': 'tab-area', 'widgets': [5], 'currentIndex': 0},\n",
       "    {'type': 'tab-area', 'widgets': [7], 'currentIndex': 0}],\n",
       "   'sizes': [0.14538806039154445, 0.8546119396084556]}],\n",
       " 'sizes': [0.2718889439293394,\n",
       "  0.12519024008081184,\n",
       "  0.35681066790123983,\n",
       "  0.24611014808860895]}"
      ]
     },
     "execution_count": 36,
     "metadata": {},
     "output_type": "execute_result"
    }
   ],
   "source": [
    "pg.dock_layout"
   ]
  },
  {
   "cell_type": "code",
   "execution_count": null,
   "metadata": {},
   "outputs": [],
   "source": []
  }
 ],
 "metadata": {
  "kernelspec": {
   "display_name": "Python 3",
   "language": "python",
   "name": "python3"
  },
  "language_info": {
   "codemirror_mode": {
    "name": "ipython",
    "version": 3
   },
   "file_extension": ".py",
   "mimetype": "text/x-python",
   "name": "python",
   "nbconvert_exporter": "python",
   "pygments_lexer": "ipython3",
   "version": "3.7.2"
  }
 },
 "nbformat": 4,
 "nbformat_minor": 2
}
