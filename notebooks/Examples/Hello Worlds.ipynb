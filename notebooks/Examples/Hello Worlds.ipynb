{
 "cells": [
  {
   "cell_type": "markdown",
   "metadata": {},
   "source": [
    "<img src=\"https://uploads6.wikiart.org/images/m-c-escher/puddle.jpg!Large.jpg\" align=\"right\"/>\n",
    "\n",
    "## What is a Widget?\n",
    "Jupyter [Widgets](https://jupyter.org/widgets) are an opinionated, limited implementation of the [Observer pattern](https://en.wikipedia.org/wiki/Observer_pattern) with a primary focus on making the state of Jupyter [Kernels](https://jupyter.org/kernels) more immediately tangible than the traditional [REPL](https://en.wikipedia.org/wiki/Read%E2%80%93eval%E2%80%93print_loop).\n",
    "\n",
    "## Special/Not Special\n",
    "Originally implemented directly in the [IPython](https://ipython.org) notebook, widgets were one of the final pieces of [The Big Split (2015)](https://blog.jupyter.org/the-big-split-9d7b88a031a7), and are one of the few notebook pieces which mostly work in Notebook Classic and JupyterLab. While once enjoying special status in the Notebook, in JupyterLab they are just like any other extension, and careful reading of the [jupyter-widgets source](https://github.com/jupyter-widgets/ipywidgets/tree/master/packages) is very instructive on how to build ecosystems on top of the JupyterLab application architecture.\n",
    "\n",
    "## The $n$ Worlds\n",
    "Widgets occupy a number of spaces:\n",
    "- Kernel: widgets exist in a kernel, and typically follow the \"native\" observer interface\n",
    "- Message: widgets implement their own protocol on top of the Jupyter message spec  \n",
    "- Outputs: widgets get rendered as a media type output\n",
    "- Browser: widgets are canonically represented in the browser with a Backbone-based model system\n",
    "- Notebook: widgets can be serialized to JSON in the notebook\n",
    "\n",
    "Usually all of these things are pretty separate, but what if they weren't?"
   ]
  },
  {
   "cell_type": "code",
   "execution_count": 1,
   "metadata": {},
   "outputs": [],
   "source": [
    "import ipywidgets as W\n",
    "import traitlets as T"
   ]
  },
  {
   "cell_type": "code",
   "execution_count": 2,
   "metadata": {},
   "outputs": [],
   "source": [
    "from ipywxyz import Template, Markdown, Editor, DockBox, JSON"
   ]
  },
  {
   "cell_type": "markdown",
   "metadata": {},
   "source": [
    "First, consider taking some of the traditional roles of an input, and putting them in an output."
   ]
  },
  {
   "cell_type": "code",
   "execution_count": 3,
   "metadata": {},
   "outputs": [
    {
     "data": {
      "application/vnd.jupyter.widget-view+json": {
       "model_id": "5b75043d5224496bb0fd5b21736f0d99",
       "version_major": 2,
       "version_minor": 0
      },
      "text/plain": [
       "Editor(value='# {{ greetings[greeting] | default(\"Hello\") }} {{ planets[\"planets\"][planet][\"name\"] | default(\"…"
      ]
     },
     "metadata": {},
     "output_type": "display_data"
    }
   ],
   "source": [
    "flex = dict(layout=dict(flex=\"1\"))\n",
    "\n",
    "template_source = Editor(\n",
    "\"\"\"# {{ greetings[greeting] | default(\"Hello\") }} {{ planets[\"planets\"][planet][\"name\"] | default(\"World\") }}\n",
    "{% set moons = planets[\"planets\"][planet][\"moons\"] %}\n",
    "{%- if moons -%}\n",
    "> And also:\n",
    "{% for moon in moons -%}\n",
    "  - {{ moon }}\n",
    "{% endfor -%}\n",
    "{%- endif -%}\"\"\", \n",
    "    description=\"Jinja2 Template\",\n",
    "    **flex)\n",
    "template_source"
   ]
  },
  {
   "cell_type": "markdown",
   "metadata": {},
   "source": [
    "Then think about putting the roles of a kernel library in a widget."
   ]
  },
  {
   "cell_type": "code",
   "execution_count": 7,
   "metadata": {},
   "outputs": [
    {
     "data": {
      "application/vnd.jupyter.widget-view+json": {
       "model_id": "d998a4ddece74008bb837bf159a3a128",
       "version_major": 2,
       "version_minor": 0
      },
      "text/plain": [
       "Editor(value='', description='Template Output')"
      ]
     },
     "metadata": {},
     "output_type": "display_data"
    }
   ],
   "source": [
    "output = Editor(description=\"Template Output\")\n",
    "template = Template()\n",
    "W.jsdlink((template_source, \"value\"), (template, \"source\"))\n",
    "W.jsdlink((template, \"value\"), (output, \"value\"))\n",
    "output"
   ]
  },
  {
   "cell_type": "markdown",
   "metadata": {},
   "source": [
    "At present, there is no such thing as an evented, JSON-compatible widget, so we'll kinda punt and build a custom \"data\" widget."
   ]
  },
  {
   "cell_type": "code",
   "execution_count": 8,
   "metadata": {},
   "outputs": [],
   "source": [
    "from urllib.request import urlopen"
   ]
  },
  {
   "cell_type": "code",
   "execution_count": 9,
   "metadata": {},
   "outputs": [
    {
     "data": {
      "application/vnd.jupyter.widget-view+json": {
       "model_id": "e452168f7e464707acc20befde84c4f0",
       "version_major": 2,
       "version_minor": 0
      },
      "text/plain": [
       "Editor(value='{\\n  \"description\": \"Planets (including dwarf planets as recognized by the IAU) that orbit the S…"
      ]
     },
     "metadata": {},
     "output_type": "display_data"
    }
   ],
   "source": [
    "data_editor = Editor(\n",
    "    urlopen(\"https://raw.githubusercontent.com/dariusk/corpora/master/data/science/planets.json\").read().decode(\"utf-8\"),\n",
    "    description=\"Some planet-like things\", layout=dict(max_height=\"60vh\", height=\"60vh\"))\n",
    "json = JSON()\n",
    "W.jsdlink((data_editor, \"value\"), (json, \"source\"))\n",
    "data_editor"
   ]
  },
  {
   "cell_type": "code",
   "execution_count": 10,
   "metadata": {},
   "outputs": [],
   "source": [
    "class Context(W.Widget):\n",
    "    greetings = T.List(T.Unicode(), default_value=[\n",
    "        'Hi', \"Howdy\", \"Bon Jour\", \"今日は\"\n",
    "    ]).tag(sync=True)\n",
    "    greeting = T.Int(0).tag(sync=True)\n",
    "    planet = T.Int(0).tag(sync=True)\n",
    "    planets = T.Dict().tag(sync=True)\n",
    "context = Context()\n",
    "W.jsdlink((json, \"value\"), (context, \"planets\"))"
   ]
  },
  {
   "cell_type": "code",
   "execution_count": 11,
   "metadata": {},
   "outputs": [],
   "source": [
    "template.context = context"
   ]
  },
  {
   "cell_type": "markdown",
   "metadata": {},
   "source": [
    "There are even more useful widgets in `ipywidgets`, like nice ways to represent numbers, colors, etc."
   ]
  },
  {
   "cell_type": "code",
   "execution_count": 12,
   "metadata": {},
   "outputs": [
    {
     "data": {
      "application/vnd.jupyter.widget-view+json": {
       "model_id": "7cb9bc124c614a8e81e297b50c9ffcd0",
       "version_major": 2,
       "version_minor": 0
      },
      "text/plain": [
       "HBox(children=(IntSlider(value=0, description='greeting', max=3), IntSlider(value=0, description='planet', max…"
      ]
     },
     "metadata": {},
     "output_type": "display_data"
    }
   ],
   "source": [
    "greeting = W.IntSlider(description=\"greeting\", max=len(context.greetings) - 1)\n",
    "planet = W.IntSlider(description=\"planet\", max=len(json.value[\"planets\"]) - 1)\n",
    "W.jsdlink((greeting, \"value\"), (context, \"greeting\"))\n",
    "W.jsdlink((planet, \"value\"), (context, \"planet\"))\n",
    "W.HBox([greeting, planet])"
   ]
  },
  {
   "cell_type": "markdown",
   "metadata": {},
   "source": [
    "Finally, we can consider further transformations of existing values."
   ]
  },
  {
   "cell_type": "code",
   "execution_count": 13,
   "metadata": {},
   "outputs": [],
   "source": [
    "md = Markdown(description=\"a Markdown processor\")\n",
    "W.jsdlink((template, \"value\"), (md, \"source\"))"
   ]
  },
  {
   "cell_type": "markdown",
   "metadata": {},
   "source": [
    "Which in turn can be visualized."
   ]
  },
  {
   "cell_type": "code",
   "execution_count": 14,
   "metadata": {},
   "outputs": [
    {
     "data": {
      "application/vnd.jupyter.widget-view+json": {
       "model_id": "3e7ee3fc501d451aa63bc15283484ac9",
       "version_major": 2,
       "version_minor": 0
      },
      "text/plain": [
       "HTMLMath(value='', _dom_classes=('jp-RenderedHTMLCommon',))"
      ]
     },
     "metadata": {},
     "output_type": "display_data"
    }
   ],
   "source": [
    "html = W.HTMLMath(discription=\"the final render\").add_class(\"jp-RenderedHTMLCommon\")\n",
    "W.jsdlink((md, \"value\"), (html, \"value\"))\n",
    "html"
   ]
  },
  {
   "cell_type": "markdown",
   "metadata": {},
   "source": [
    "However, things can always go wrong:"
   ]
  },
  {
   "cell_type": "code",
   "execution_count": 17,
   "metadata": {},
   "outputs": [],
   "source": [
    "error = Editor(\"errors will appear here\", description=\"errors be here\", **flex)\n",
    "W.jsdlink((template, \"error\"), (error, \"value\"))"
   ]
  },
  {
   "cell_type": "code",
   "execution_count": 18,
   "metadata": {},
   "outputs": [
    {
     "data": {
      "application/vnd.jupyter.widget-view+json": {
       "model_id": "e21f2e637a624d938402ce2083a8ddf2",
       "version_major": 2,
       "version_minor": 0
      },
      "text/plain": [
       "Editor(value=\"attribute of type 'list' is not callable\", description='errors be here', layout=Layout(flex='1')…"
      ]
     },
     "metadata": {},
     "output_type": "display_data"
    }
   ],
   "source": [
    "error"
   ]
  },
  {
   "cell_type": "markdown",
   "metadata": {},
   "source": [
    "If you were following along at home, you've amassed quite a collection of widgets. Here they are again, all together."
   ]
  },
  {
   "cell_type": "code",
   "execution_count": 23,
   "metadata": {},
   "outputs": [
    {
     "data": {
      "application/vnd.jupyter.widget-view+json": {
       "model_id": "bd780493c44a4814a2378d94fd5e1b35",
       "version_major": 2,
       "version_minor": 0
      },
      "text/plain": [
       "DockBox(children=(Editor(value='{\\n  \"description\": \"Planets (including dwarf planets as recognized by the IAU…"
      ]
     },
     "metadata": {},
     "output_type": "display_data"
    }
   ],
   "source": [
    "html_box = W.VBox([greeting, planet, html])\n",
    "html_box.add_traits(description=T.Unicode(\"Output\").tag(sync=True),\n",
    "                    icon_class=T.Unicode(\"jp-RunIcon\").tag(sync=True))\n",
    "hello_worlds = DockBox([data_editor, template_source, W.VBox([output, error]), html_box], \n",
    "                       layout={\"height\": \"60vh\"})\n",
    "hello_worlds"
   ]
  },
  {
   "cell_type": "markdown",
   "metadata": {},
   "source": [
    "If those look kinda of like JupyterLab tabs, it's because they are. Give'em a drag."
   ]
  }
 ],
 "metadata": {
  "kernelspec": {
   "display_name": "Python 3",
   "language": "python",
   "name": "python3"
  },
  "language_info": {
   "codemirror_mode": {
    "name": "ipython",
    "version": 3
   },
   "file_extension": ".py",
   "mimetype": "text/x-python",
   "name": "python",
   "nbconvert_exporter": "python",
   "pygments_lexer": "ipython3",
   "version": "3.7.2"
  }
 },
 "nbformat": 4,
 "nbformat_minor": 2
}
