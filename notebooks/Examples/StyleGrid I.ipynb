{
 "cells": [
  {
   "cell_type": "markdown",
   "metadata": {},
   "source": [
    "# StyleGrid"
   ]
  },
  {
   "cell_type": "code",
   "execution_count": null,
   "metadata": {},
   "outputs": [],
   "source": [
    "from ipywxyz import AlphaColorPicker, StyleGrid\n",
    "import pandas as pd, traitlets as T, ipywidgets as W\n",
    "import importnb"
   ]
  },
  {
   "cell_type": "code",
   "execution_count": null,
   "metadata": {},
   "outputs": [],
   "source": [
    "with importnb.Notebook():\n",
    "    try:\n",
    "        from DataGrid import make_grid\n",
    "    except:\n",
    "        from .DataGrid import make_grid"
   ]
  },
  {
   "cell_type": "code",
   "execution_count": null,
   "metadata": {},
   "outputs": [],
   "source": [
    "def make_style_grid_i(GridClass=StyleGrid, df=None, container=W.VBox):\n",
    "    pg = make_grid(GridClass, df=df)\n",
    "    dg = pg.dg\n",
    "\n",
    "    rs = W.IntSlider(description='row height', orientation='vertical')\n",
    "    cs = W.IntSlider(description='column width')\n",
    "    hr = W.HTML()\n",
    "    hc = W.HTML()\n",
    "\n",
    "    W.jslink((dg, \"row_size\"), (rs, \"value\"))\n",
    "    W.jslink((dg, \"column_size\"), (cs, \"value\"))\n",
    "    colors = [ \n",
    "        [p, W.jslink((dg, t), (p, \"value\"))][0]\n",
    "        for t in dg.traits().keys()\n",
    "        for p in [AlphaColorPicker(description=t.replace('_color', '').replace('_', ' '))]\n",
    "        if t.endswith('_color')\n",
    "    ]\n",
    "    grid_playground = W.HBox([\n",
    "        W.VBox([\n",
    "            W.HBox([W.HBox([hr, hc]), cs]), \n",
    "            pg, \n",
    "        ], layout=dict(flex=\"1\")),\n",
    "        W.VBox([rs, *colors]), \n",
    "    ])\n",
    "    grid_playground.dg = dg\n",
    "    return grid_playground"
   ]
  },
  {
   "cell_type": "code",
   "execution_count": null,
   "metadata": {},
   "outputs": [],
   "source": [
    "if __name__ == \"__main__\":\n",
    "    display(make_style_grid_i())"
   ]
  }
 ],
 "metadata": {
  "kernelspec": {
   "display_name": "Python 3",
   "language": "python",
   "name": "python3"
  },
  "language_info": {
   "codemirror_mode": {
    "name": "ipython",
    "version": 3
   },
   "file_extension": ".py",
   "mimetype": "text/x-python",
   "name": "python",
   "nbconvert_exporter": "python",
   "pygments_lexer": "ipython3",
   "version": "3.7.2"
  }
 },
 "nbformat": 4,
 "nbformat_minor": 2
}
