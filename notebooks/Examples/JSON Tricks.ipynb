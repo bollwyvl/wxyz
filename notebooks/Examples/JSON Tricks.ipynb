{
 "cells": [
  {
   "cell_type": "code",
   "execution_count": null,
   "metadata": {},
   "outputs": [],
   "source": [
    "import ipywidgets as W\n",
    "import traitlets as T\n",
    "from wxyz.lab.widget_editor import Editor\n",
    "from wxyz.lab.widget_dock import DockBox\n",
    "from wxyz.core.widget_json import JSON, JSONSchema, JSONPointer"
   ]
  },
  {
   "cell_type": "code",
   "execution_count": null,
   "metadata": {},
   "outputs": [],
   "source": [
    "document_source = Editor(\"\"\"{\"foo\": 1}\"\"\", description=\"JSON Document\")\n",
    "schema_source = Editor(\"\"\"{\"type\": \"object\"}\"\"\", description=\"JSON Schema\")\n",
    "pointer_source = Editor(\"\"\"/foo\"\"\", description=\"JSON Pointer\")\n",
    "pointer_output = Editor(description=\"Pointed\")\n",
    "errors = Editor(description=\"Errors\")"
   ]
  },
  {
   "cell_type": "code",
   "execution_count": null,
   "metadata": {},
   "outputs": [],
   "source": [
    "document = JSON(\"\"\"{\"foo\": null}\"\"\")\n",
    "W.jsdlink((document_source, \"value\"), (document, \"source\"))\n",
    "W.jsdlink((document, \"error\"), (errors, \"value\"))"
   ]
  },
  {
   "cell_type": "code",
   "execution_count": null,
   "metadata": {},
   "outputs": [],
   "source": [
    "schema = JSONSchema(schema={\"type\": \"object\"})\n",
    "schema_json = JSON()\n",
    "W.jsdlink((schema_source, \"value\"), (schema_json, \"source\"))\n",
    "W.jsdlink((schema_json, \"value\"), (schema, \"schema\"))\n",
    "W.jsdlink((document, \"value\"), (schema, \"source\"))\n",
    "W.jsdlink((schema_json, \"error\"), (errors, \"value\"))\n",
    "W.jsdlink((schema, \"error\"), (errors, \"value\"))"
   ]
  },
  {
   "cell_type": "code",
   "execution_count": null,
   "metadata": {},
   "outputs": [],
   "source": [
    "pointer = JSONPointer(pointer=\"/foo\")\n",
    "W.jsdlink((document, \"value\"), (pointer, \"source\"))\n",
    "W.jsdlink((pointer_source, \"value\"), (pointer, \"pointer\"))\n",
    "W.jsdlink((pointer, \"value\"), (pointer_output, \"value\"))\n",
    "W.jsdlink((pointer, \"error\"), (errors, \"value\"))"
   ]
  },
  {
   "cell_type": "code",
   "execution_count": null,
   "metadata": {},
   "outputs": [],
   "source": [
    "json_tricks = DockBox([\n",
    "    document_source,\n",
    "    schema_source,\n",
    "    W.VBox([\n",
    "        pointer_source,\n",
    "        pointer_output\n",
    "    ]),\n",
    "    errors\n",
    "], layout=dict(height=\"40vh\"))"
   ]
  },
  {
   "cell_type": "code",
   "execution_count": null,
   "metadata": {},
   "outputs": [],
   "source": [
    "@json_tricks.on_displayed\n",
    "def on_display(*args, **kwargs):\n",
    "    json_tricks.dock_layout = {\n",
    "        'type': 'split-area',\n",
    "        'orientation': 'horizontal',\n",
    "        'children': [\n",
    "            {'type': 'split-area', 'orientation': 'vertical', 'children': [\n",
    "                {'type': 'tab-area', 'widgets': [0], 'currentIndex': 0},\n",
    "                {'type': 'tab-area', 'widgets': [1], 'currentIndex': 0},\n",
    "            ], 'sizes': [1, 1]},\n",
    "\n",
    "            {'type': 'split-area', 'orientation': 'vertical', 'children': [\n",
    "                {'type': 'tab-area', 'widgets': [2], 'currentIndex': 0},\n",
    "                {'type': 'tab-area', 'widgets': [3], 'currentIndex': 0},\n",
    "            ], 'sizes': [3, 1]},\n",
    "\n",
    "        ],\n",
    "        'sizes': [1, 1]\n",
    "    }"
   ]
  },
  {
   "cell_type": "code",
   "execution_count": null,
   "metadata": {},
   "outputs": [],
   "source": [
    "json_tricks"
   ]
  }
 ],
 "metadata": {
  "kernelspec": {
   "display_name": "Python 3",
   "language": "python",
   "name": "python3"
  },
  "language_info": {
   "codemirror_mode": {
    "name": "ipython",
    "version": 3
   },
   "file_extension": ".py",
   "mimetype": "text/x-python",
   "name": "python",
   "nbconvert_exporter": "python",
   "pygments_lexer": "ipython3",
   "version": "3.7.6"
  }
 },
 "nbformat": 4,
 "nbformat_minor": 4
}
