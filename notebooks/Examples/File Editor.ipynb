{
 "cells": [
  {
   "cell_type": "code",
   "execution_count": 1,
   "metadata": {},
   "outputs": [],
   "source": [
    "    from wxyz.lab.widget_editor import Editor, W, T\n",
    "    from wxyz.lab.widget_dock import DockBox\n",
    "    import pathlib, IPython, functools\n"
   ]
  },
  {
   "cell_type": "code",
   "execution_count": 2,
   "metadata": {},
   "outputs": [],
   "source": [
    "    path = pathlib.Path('example.svg')"
   ]
  },
  {
   "cell_type": "code",
   "execution_count": 3,
   "metadata": {},
   "outputs": [],
   "source": [
    "    editor = W.VBox([Editor(value=path.read_text(), mode=\"html\", theme=\"material\", layout=dict(height='60vh')), W.Button(description='save')])\n",
    "    view = W.Output()\n",
    "\n",
    "    editor.children[1].on_click(lambda object: path.write_text(editor.children[0].value))\n",
    "        \n",
    "    def observe_editor(change):\n",
    "        view.clear_output(True);\n",
    "        with view: IPython.display.display(IPython.display.SVG(data=change['new']))\n",
    "            \n",
    "    editor.children[0].observe(observe_editor, 'value'.split())\n",
    "    \n",
    "    observe_editor({'new': editor.children[0].value})"
   ]
  },
  {
   "cell_type": "code",
   "execution_count": 4,
   "metadata": {},
   "outputs": [
    {
     "data": {
      "application/vnd.jupyter.widget-view+json": {
       "model_id": "82adbf3cf6b74dfbbb853dde18153732",
       "version_major": 2,
       "version_minor": 0
      },
      "text/plain": [
       "DockBox(children=(VBox(children=(Editor(value='<?xml version=\"1.0\" encoding=\"UTF-8\" standalone=\"no\"?>\\n<!-- Cr…"
      ]
     },
     "metadata": {},
     "output_type": "display_data"
    }
   ],
   "source": [
    "    DockBox([editor, view])"
   ]
  },
  {
   "cell_type": "code",
   "execution_count": 5,
   "metadata": {},
   "outputs": [
    {
     "data": {
      "application/vnd.jupyter.widget-view+json": {
       "model_id": "ea70e5c81f5a42529d12d049a5ca2ed4",
       "version_major": 2,
       "version_minor": 0
      },
      "text/plain": [
       "VBox(children=(Editor(value='<?xml version=\"1.0\" encoding=\"UTF-8\" standalone=\"no\"?>\\n<!-- Created with Inkscap…"
      ]
     },
     "metadata": {},
     "output_type": "display_data"
    }
   ],
   "source": [
    "    editor"
   ]
  },
  {
   "cell_type": "code",
   "execution_count": null,
   "metadata": {},
   "outputs": [],
   "source": []
  }
 ],
 "metadata": {
  "kernelspec": {
   "display_name": "p6",
   "language": "python",
   "name": "other-env"
  },
  "language_info": {
   "codemirror_mode": {
    "name": "ipython",
    "version": 3
   },
   "file_extension": ".py",
   "mimetype": "text/x-python",
   "name": "python",
   "nbconvert_exporter": "python",
   "pygments_lexer": "ipython3",
   "version": "3.6.8"
  }
 },
 "nbformat": 4,
 "nbformat_minor": 4
}
