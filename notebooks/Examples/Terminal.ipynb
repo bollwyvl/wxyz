{
 "cells": [
  {
   "cell_type": "markdown",
   "metadata": {},
   "source": [
    "# Terminal\n",
    "\n",
    "JupyterLab (and many other applications) use [xtermjs](https://github.com/xtermjs/xterm.js) for rendering line-based terminal outputs. "
   ]
  },
  {
   "cell_type": "code",
   "execution_count": null,
   "metadata": {},
   "outputs": [],
   "source": [
    "import IPython, tornado.ioloop, json\n",
    "from wxyz.lab.widget_term import Terminal, W, T\n",
    "from wxyz.lab.widget_dock import DockBox\n",
    "from wxyz.html.widget_color import AlphaColorPicker"
   ]
  },
  {
   "cell_type": "code",
   "execution_count": null,
   "metadata": {},
   "outputs": [],
   "source": [
    "def make_a_terminal_demo():\n",
    "    t0, t1 = t = [Terminal(description=f\"Terminal {i}\", fit=True) for i in range(2)]\n",
    "    \n",
    "    i = 0\n",
    "\n",
    "    t0.on_data(lambda t0, data: t1.send({\"content\": \"data: \" + data[\"content\"] + \"\\r\\n\"}))\n",
    "\n",
    "    def t0_change(change):\n",
    "        c = i % 5 + 30\n",
    "        t1.send_line(f\"\\x1B[1;3;{c}m{change.name}\\x1B[0m {change.new}\")\n",
    "    \n",
    "    t0.observe(t0_change, (\"scroll\", \"selection\", \"rows\", \"cols\"))\n",
    "\n",
    "    fit = W.Checkbox(description=\"fit\")\n",
    "    sliders = {it: W.IntSlider(description=it) for it in [\"scroll\", \"rows\", \"cols\"]}\n",
    "    \n",
    "    [T.link((t0, k), (v, \"value\")) for k, v in sliders.items()]\n",
    "    T.link((t0, \"fit\"), (fit, \"value\"))\n",
    "    \n",
    "    colors = {k: AlphaColorPicker(value=v, description=k) for k, v in t0.theme.items()}\n",
    "    options =  W.VBox([*colors.values(), fit, *sliders.values()])\n",
    "    options.add_traits(description=T.Unicode(\"Options\").tag(sync=True))\n",
    "    \n",
    "    def themed(*kwargs):\n",
    "        new_theme = {k: w.value for k, w in colors.items()}\n",
    "        t0.theme = new_theme\n",
    "\n",
    "    [c.observe(themed, \"value\") for c in colors.values()];\n",
    "\n",
    "    box = DockBox([*t, options], layout=dict(height=\"400px\"))\n",
    "\n",
    "    def hi():\n",
    "        nonlocal i\n",
    "        i += 1\n",
    "        c = i % 5 + 30\n",
    "        t[0].send_line(f\"👋  {i} Hello from \\x1B[1;3;{c}mxterm.js\\x1B[0m\")\n",
    "    hi()\n",
    "\n",
    "    pcb = tornado.ioloop.PeriodicCallback(hi, 2000)\n",
    "\n",
    "    pcb.start()\n",
    "    \n",
    "    return box"
   ]
  },
  {
   "cell_type": "code",
   "execution_count": null,
   "metadata": {},
   "outputs": [],
   "source": [
    "if __name__ == \"__main__\":\n",
    "    box = make_a_terminal_demo()\n",
    "    display(box)"
   ]
  }
 ],
 "metadata": {
  "kernelspec": {
   "display_name": "Python 3",
   "language": "python",
   "name": "python3"
  },
  "language_info": {
   "codemirror_mode": {
    "name": "ipython",
    "version": 3
   },
   "file_extension": ".py",
   "mimetype": "text/x-python",
   "name": "python",
   "nbconvert_exporter": "python",
   "pygments_lexer": "ipython3",
   "version": "3.7.6"
  }
 },
 "nbformat": 4,
 "nbformat_minor": 4
}
