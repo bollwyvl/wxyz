{
 "cells": [
  {
   "cell_type": "markdown",
   "metadata": {},
   "source": [
    "# JSON-E\n",
    "Transforms JSON into JSON (with JSON) (and Python, Go, or JS)"
   ]
  },
  {
   "cell_type": "code",
   "execution_count": null,
   "metadata": {},
   "outputs": [],
   "source": [
    "from pathlib import Path\n",
    "from wxyz.jsone.widget_jsone import JSONE, W\n",
    "from wxyz.lab.widget_editor import Editor\n",
    "from wxyz.core.widget_json import JSON\n",
    "from wxyz.lab.widget_dock import DockBox\n",
    "from wxyz.yaml.widget_yaml import YAML\n",
    "from yaml import safe_dump, safe_load"
   ]
  },
  {
   "cell_type": "code",
   "execution_count": null,
   "metadata": {},
   "outputs": [],
   "source": [
    "THEME = \"material\""
   ]
  },
  {
   "cell_type": "code",
   "execution_count": null,
   "metadata": {},
   "outputs": [],
   "source": [
    "template_src = Editor(description=\"Template\", mode=\"yaml-e\", theme=THEME)\n",
    "context_src = Editor(description=\"Context\", mode=\"yaml\", theme=THEME)\n",
    "output_src = Editor(description=\"Output\", mode=\"yaml\", theme=THEME)"
   ]
  },
  {
   "cell_type": "code",
   "execution_count": null,
   "metadata": {},
   "outputs": [],
   "source": [
    "template = YAML()\n",
    "context = YAML()\n",
    "jsone = JSONE()"
   ]
  },
  {
   "cell_type": "code",
   "execution_count": null,
   "metadata": {},
   "outputs": [],
   "source": [
    "box = DockBox([\n",
    "    template_src,\n",
    "    context_src,\n",
    "    output_src,\n",
    "], layout=dict(height=\"40vh\"))"
   ]
  },
  {
   "cell_type": "code",
   "execution_count": null,
   "metadata": {},
   "outputs": [],
   "source": [
    "W.link((template_src, \"value\"), (template, \"source\"))\n",
    "W.link((context_src, \"value\"), (context, \"source\"))\n",
    "W.link((context, \"value\"), (jsone, \"context\"))\n",
    "W.link((template, \"value\"), (jsone, \"source\"))\n",
    "W.dlink((jsone, \"value\"), (output_src, \"value\"), lambda x: safe_dump(x));"
   ]
  },
  {
   "cell_type": "code",
   "execution_count": null,
   "metadata": {},
   "outputs": [],
   "source": [
    "box"
   ]
  },
  {
   "cell_type": "code",
   "execution_count": null,
   "metadata": {},
   "outputs": [],
   "source": [
    "template_src.value, context_src.value = (\n",
    "\"\"\"message: hello ${key}\n",
    "k=${num}: true\n",
    "\"\"\",\n",
    "\"\"\"key: world\n",
    "num: 1\n",
    "\"\"\")"
   ]
  },
  {
   "cell_type": "code",
   "execution_count": null,
   "metadata": {},
   "outputs": [],
   "source": [
    "template_src.value, context_src.value = (\n",
    "\"\"\"$mergeDeep:\n",
    "- task:\n",
    "    payload:\n",
    "      command: [a, b]\n",
    "- task:\n",
    "    extra:\n",
    "      foo: bar\n",
    "- task:\n",
    "    payload:\n",
    "      command: [c]\n",
    "\"\"\",\n",
    "\"\"\"{}\n",
    "\"\"\")"
   ]
  },
  {
   "cell_type": "code",
   "execution_count": null,
   "metadata": {},
   "outputs": [],
   "source": [
    "template_src.value, context_src.value = (\n",
    "\"\"\"key: \n",
    "  $if: cond\n",
    "  then: 2\n",
    "other: 3\n",
    "\"\"\",\n",
    "\"\"\"cond: false\n",
    "\"\"\")"
   ]
  },
  {
   "cell_type": "markdown",
   "metadata": {},
   "source": [
    "# 😈 Using a Notebook in (@)Context\n",
    "Linked Data can predictably augment a schema-constrained JSON document. While the resulting document _won't_ conform to the schema, it is suitable as an intermediate format before other activities (e.g. JSON-LD Expansion or SHACL validation) without _requiring_ a reasoner.\n",
    "\n",
    "- Adds an `@type` to each cell (based on its `cell_type`)\n",
    "  - this could be done more elgantly with `@context: {\"cell_type\": \"nbformat:definitions/cell_type\"}`\n",
    "- hoists cell `metadata`\n",
    "  - probably very dangerous: due to ordering, you couldn't _replace_ existing values, but with `$mergeDeep` could prepend to, say, `source` or outputs"
   ]
  },
  {
   "cell_type": "code",
   "execution_count": null,
   "metadata": {},
   "outputs": [],
   "source": [
    "context_src.value = safe_dump({\"nb\": safe_load(Path(\"JSON-E.ipynb\").read_text())})\n",
    "template_src.value = \"\"\"\n",
    "$mergeDeep:\n",
    "  - \"@context\":\n",
    "    - gh: https://github.com/\n",
    "    - nbformat: gh:jupyter/nbformat/blob/master/nbformat/v4/nbformat.v4.schema.json#\n",
    "  - \"@type\": nbformat\n",
    "  - metadata: \n",
    "      $eval: nb.metadata\n",
    "  - nbformat: \n",
    "      $eval: nb.nbformat\n",
    "  - nbformat_minor:\n",
    "      $eval: nb.nbformat_minor\n",
    "  - cells:\n",
    "      $map: \n",
    "        $eval: nb.cells\n",
    "      each(cell):\n",
    "        $merge:\n",
    "          - $eval: cell.metadata\n",
    "          - \"@type\": nbformat:definitions/${cell.cell_type}_cell\n",
    "          - $eval: cell\n",
    "\"\"\""
   ]
  }
 ],
 "metadata": {
  "kernelspec": {
   "display_name": "Python 3",
   "language": "python",
   "name": "python3"
  },
  "language_info": {
   "codemirror_mode": {
    "name": "ipython",
    "version": 3
   },
   "file_extension": ".py",
   "mimetype": "text/x-python",
   "name": "python",
   "nbconvert_exporter": "python",
   "pygments_lexer": "ipython3",
   "version": "3.7.3"
  }
 },
 "nbformat": 4,
 "nbformat_minor": 4
}
