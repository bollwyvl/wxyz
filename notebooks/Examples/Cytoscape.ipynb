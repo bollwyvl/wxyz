{
 "cells": [
  {
   "cell_type": "markdown",
   "metadata": {},
   "source": [
    "# Cytoscape"
   ]
  },
  {
   "cell_type": "code",
   "execution_count": null,
   "metadata": {},
   "outputs": [],
   "source": [
    "from wxyz.cytoscape.widget_cytoscape import Cytoscape, W, T\n",
    "from wxyz.datagrid.widget_datagrid import DataGrid\n",
    "import pandas"
   ]
  },
  {
   "cell_type": "code",
   "execution_count": null,
   "metadata": {},
   "outputs": [],
   "source": [
    "layout = dict(width=\"100%\", height=\"40vh\")\n",
    "cy = Cytoscape(layout=layout)\n",
    "dg = DataGrid(layout=layout)\n",
    "T.dlink((cy, 'selected_elements'), (dg, 'value'), pandas.io.json.json_normalize)\n",
    "display(cy)\n",
    "@W.interact\n",
    "def cy_bits(\n",
    "    n_elements=(1, 100), \n",
    "    j=(1.0, 10.0, 0.1),\n",
    "    layout_name=['random', 'circle', 'concentric', 'grid', 'breadthfirst', 'cose', 'elk'],\n",
    "    selection_type=['additive', 'single'],\n",
    "):\n",
    "    cy.elements = [\n",
    "        *[{'data': {'id': f\"n{i}\"}} for i in range(n_elements)],\n",
    "        *[{'data': {'id': f\"e{i}\", 'source': f\"n{i}\", 'target': f\"n{int(i / j) if i else n_elements - 1}\"}} for i in range(n_elements)]\n",
    "    ]\n",
    "    cy.layout_name = 'random'\n",
    "    cy.layout_name = layout_name\n",
    "    cy.selection_type = selection_type\n",
    "cy_bits.widget.layout.flex_flow = \"row\"\n",
    "display(dg)"
   ]
  }
 ],
 "metadata": {
  "kernelspec": {
   "display_name": "Python 3",
   "language": "python",
   "name": "python3"
  },
  "language_info": {
   "codemirror_mode": {
    "name": "ipython",
    "version": 3
   },
   "file_extension": ".py",
   "mimetype": "text/x-python",
   "name": "python",
   "nbconvert_exporter": "python",
   "pygments_lexer": "ipython3",
   "version": "3.7.3"
  }
 },
 "nbformat": 4,
 "nbformat_minor": 4
}
