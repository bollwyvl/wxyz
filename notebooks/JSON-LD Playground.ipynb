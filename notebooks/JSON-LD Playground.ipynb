{
 "cells": [
  {
   "cell_type": "code",
   "execution_count": null,
   "metadata": {},
   "outputs": [],
   "source": [
    "import ipywidgets as W\n",
    "from ipywxyz import Expand, Compact, Flatten, Frame, Normalize, DockBox, Editor, JSON"
   ]
  },
  {
   "cell_type": "code",
   "execution_count": null,
   "metadata": {},
   "outputs": [],
   "source": [
    "flex = lambda x=1: dict(layout=dict(flex=f\"{x}\"))"
   ]
  },
  {
   "cell_type": "code",
   "execution_count": null,
   "metadata": {},
   "outputs": [],
   "source": [
    "context = JSON(\"\"\"{\n",
    "    \"@context\": {\n",
    "        \"@vocab\": \"http://schema.org/\" \n",
    "    }\n",
    "}\"\"\")\n",
    "document = JSON(\"\"\"{\n",
    "    \"@graph\": [{\n",
    "        \"@type\": \"Person\",\n",
    "        \"@id\": \"this-guy\",\n",
    "        \"name\": \"Jekyll\",\n",
    "        \"jobTitle\": \"Doctor\"\n",
    "    },{\n",
    "        \"@type\": \"Person\",\n",
    "        \"@id\": \"this-guy\",\n",
    "        \"name\": \"Hyde\",\n",
    "        \"jobTitle\": \"Mister\"\n",
    "    }]\n",
    "}\"\"\")"
   ]
  },
  {
   "cell_type": "code",
   "execution_count": null,
   "metadata": {},
   "outputs": [],
   "source": [
    "context_source = Editor(description=\"JSON-LD Context\", **flex())\n",
    "document_source = Editor(description=\"JSON Document\", **flex())\n",
    "W.jslink((context, \"source\"), (context_source, \"value\"))\n",
    "W.jslink((document, \"source\"), (document_source, \"value\"))"
   ]
  },
  {
   "cell_type": "code",
   "execution_count": null,
   "metadata": {},
   "outputs": [],
   "source": [
    "expand = Expand()\n",
    "expand_output = Editor(description=\"Expanded\")\n",
    "W.jslink((expand, \"value\"), (expand_output, \"value\"))\n",
    "W.jslink((document, \"value\"), (expand, \"source\"))\n",
    "W.jslink((context, \"value\"), (expand, \"expand_context\"))"
   ]
  },
  {
   "cell_type": "code",
   "execution_count": null,
   "metadata": {},
   "outputs": [],
   "source": [
    "compact = Compact()\n",
    "compact_output = Editor(description=\"Compacted\")\n",
    "W.jslink((compact, \"value\"), (compact_output, \"value\"))\n",
    "W.jslink((document, \"value\"), (compact, \"source\"))\n",
    "W.jslink((context, \"value\"), (compact, \"context\"))\n",
    "W.jslink((context, \"value\"), (compact, \"expand_context\"))"
   ]
  },
  {
   "cell_type": "code",
   "execution_count": null,
   "metadata": {},
   "outputs": [],
   "source": [
    "flatten = Flatten()\n",
    "flatten_output = Editor(description=\"Flattened\")\n",
    "W.jslink((flatten, \"value\"), (flatten_output, \"value\"))\n",
    "W.jslink((document, \"value\"), (flatten, \"source\"))\n",
    "W.jslink((context, \"value\"), (flatten, \"context\"))\n",
    "W.jslink((context, \"value\"), (flatten, \"expand_context\"))"
   ]
  },
  {
   "cell_type": "code",
   "execution_count": null,
   "metadata": {},
   "outputs": [],
   "source": [
    "error = Editor(\"errors will appear here\", description=\"errors be here\", **flex(1))\n",
    "W.jslink((expand, \"error\"), (error, \"value\"))\n",
    "W.jslink((compact, \"error\"), (error, \"value\"))\n",
    "W.jslink((flatten, \"error\"), (error, \"value\"))"
   ]
  },
  {
   "cell_type": "code",
   "execution_count": null,
   "metadata": {},
   "outputs": [],
   "source": [
    "DockBox([document_source, context_source, expand_output, compact_output, flatten_output, error], layout=dict(height=\"40vw\"))"
   ]
  }
 ],
 "metadata": {
  "kernelspec": {
   "display_name": "Python 3",
   "language": "python",
   "name": "python3"
  },
  "language_info": {
   "codemirror_mode": {
    "name": "ipython",
    "version": 3
   },
   "file_extension": ".py",
   "mimetype": "text/x-python",
   "name": "python",
   "nbconvert_exporter": "python",
   "pygments_lexer": "ipython3",
   "version": "3.7.1"
  }
 },
 "nbformat": 4,
 "nbformat_minor": 2
}
