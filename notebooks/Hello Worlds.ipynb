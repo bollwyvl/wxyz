{
 "cells": [
  {
   "cell_type": "code",
   "execution_count": 1,
   "metadata": {},
   "outputs": [],
   "source": [
    "import ipywidgets as W\n",
    "import traitlets as T\n",
    "from ipywidjucks import Template, Markdown, Editor"
   ]
  },
  {
   "cell_type": "code",
   "execution_count": 2,
   "metadata": {},
   "outputs": [],
   "source": [
    "tmpl = Template(template=\"\"\"\n",
    "# {{ greetings[greeting] }} {{ planets[planet] }}\n",
    "{% if moons[planet] %}\n",
    "also moons:\n",
    "{% for moon in moons[planet] %}\n",
    "- {{ moon }}\n",
    "{% endfor %}\n",
    "{% endif %}\n",
    "\"\"\")"
   ]
  },
  {
   "cell_type": "code",
   "execution_count": 3,
   "metadata": {},
   "outputs": [],
   "source": [
    "class Context(W.Widget):\n",
    "    greetings = T.List(T.Unicode(), default_value=['Hi', 'Hello']).tag(sync=True)\n",
    "    greeting = T.Int(0).tag(sync=True)\n",
    "    planets = T.List(T.Unicode(), default_value=['Eyrth', 'Myrs', 'Jupyter']).tag(sync=True)\n",
    "    planet = T.Int(0).tag(sync=True)\n",
    "    moons = T.List(T.List(T.Unicode()), default_value=[\n",
    "        [\"Myn\"],\n",
    "        [\"Phybos\", \"Dymos\"],\n",
    "        [\"Cylysto\", \"Yo\"]\n",
    "    ]).tag(sync=True)\n",
    "context = Context()"
   ]
  },
  {
   "cell_type": "code",
   "execution_count": 4,
   "metadata": {},
   "outputs": [],
   "source": [
    "md = Markdown()"
   ]
  },
  {
   "cell_type": "code",
   "execution_count": 5,
   "metadata": {},
   "outputs": [],
   "source": [
    "template_source = Editor()\n",
    "output = Editor()\n",
    "greeting = W.IntSlider()\n",
    "planet = W.IntSlider()\n",
    "err = W.Textarea(disabled=True)\n",
    "html = W.HTMLMath()"
   ]
  },
  {
   "cell_type": "code",
   "execution_count": 6,
   "metadata": {},
   "outputs": [],
   "source": [
    "W.jslink((tmpl, \"template\"), (template_source, \"value\"))\n",
    "W.jslink((context, \"greeting\"), (greeting, \"value\"))\n",
    "W.jslink((context, \"planet\"), (planet, \"value\"))\n",
    "W.jslink((output, \"value\"), (tmpl, \"value\"))\n",
    "W.jslink((tmpl, \"error\"), (err, \"value\"))\n",
    "W.jslink((tmpl, \"value\"), (md, \"source\"))\n",
    "W.jslink((md, \"value\"), (html, \"value\"))"
   ]
  },
  {
   "cell_type": "code",
   "execution_count": 7,
   "metadata": {},
   "outputs": [
    {
     "data": {
      "application/vnd.jupyter.widget-view+json": {
       "model_id": "cbf9a9a4b9324510868a864ffe5178fa",
       "version_major": 2,
       "version_minor": 0
      },
      "text/plain": [
       "HBox(children=(Editor(value='\\n# {{ greetings[greeting] }} {{ planets[planet] }}\\n{% if moons[planet] %}\\nalso…"
      ]
     },
     "metadata": {},
     "output_type": "display_data"
    }
   ],
   "source": [
    "tmpl.context = context\n",
    "box = W.HBox([\n",
    "    template_source,\n",
    "    W.VBox([\n",
    "        output,\n",
    "        greeting,\n",
    "        planet\n",
    "    ]),\n",
    "    html\n",
    "])\n",
    "box"
   ]
  },
  {
   "cell_type": "code",
   "execution_count": 37,
   "metadata": {},
   "outputs": [],
   "source": [
    "box.layout.display = \"flex\"\n",
    "box.layout.width = \"100%\"\n",
    "for c in box.children:\n",
    "    c.layout.flex = \"1\""
   ]
  },
  {
   "cell_type": "code",
   "execution_count": null,
   "metadata": {},
   "outputs": [],
   "source": []
  }
 ],
 "metadata": {
  "kernelspec": {
   "display_name": "Python 3",
   "language": "python",
   "name": "python3"
  },
  "language_info": {
   "codemirror_mode": {
    "name": "ipython",
    "version": 3
   },
   "file_extension": ".py",
   "mimetype": "text/x-python",
   "name": "python",
   "nbconvert_exporter": "python",
   "pygments_lexer": "ipython3",
   "version": "3.7.2"
  }
 },
 "nbformat": 4,
 "nbformat_minor": 2
}
